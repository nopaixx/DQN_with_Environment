{
 "cells": [
  {
   "cell_type": "code",
   "execution_count": 2,
   "metadata": {},
   "outputs": [
    {
     "name": "stderr",
     "output_type": "stream",
     "text": [
      "/home/angel/Desktop/git/numerai/venv/lib/python3.7/site-packages/tensorflow/python/client/session.py:1751: UserWarning: An interactive session is already active. This can cause out-of-memory errors in some cases. You must explicitly call `InteractiveSession.close()` to release resources held by the other session(s).\n",
      "  warnings.warn('An interactive session is already active. This can '\n"
     ]
    },
    {
     "data": {
      "text/plain": [
       "[PhysicalDevice(name='/physical_device:GPU:0', device_type='GPU')]"
      ]
     },
     "execution_count": 2,
     "metadata": {},
     "output_type": "execute_result"
    }
   ],
   "source": [
    "# import dependencies\n",
    "import pandas as pd\n",
    "import numerapi\n",
    "import sklearn.linear_model\n",
    "from catboost import CatBoostClassifier\n",
    "from catboost import CatBoostRegressor,  Pool\n",
    "from tqdm import tqdm\n",
    "import lightgbm\n",
    "import numpy as np\n",
    "from xgboost import XGBRegressor\n",
    "import tensorflow as tf\n",
    "from tensorflow import keras\n",
    "from tensorflow.keras import layers\n",
    "\n",
    "import tensorflow_probability as tfp\n",
    "import matplotlib.pyplot as plt\n",
    "import math\n",
    "from skimage.transform import resize\n",
    "from skimage.io import imsave\n",
    "from skimage.io import imread\n",
    "\n",
    "from tensorflow.compat.v1 import ConfigProto\n",
    "from tensorflow.compat.v1 import InteractiveSession\n",
    "\n",
    "config = ConfigProto()\n",
    "config.gpu_options.allow_growth = True\n",
    "session = InteractiveSession(config=config)\n",
    "tf.config.list_physical_devices('GPU')"
   ]
  },
  {
   "cell_type": "code",
   "execution_count": 3,
   "metadata": {},
   "outputs": [
    {
     "data": {
      "text/html": [
       "<div>\n",
       "<style scoped>\n",
       "    .dataframe tbody tr th:only-of-type {\n",
       "        vertical-align: middle;\n",
       "    }\n",
       "\n",
       "    .dataframe tbody tr th {\n",
       "        vertical-align: top;\n",
       "    }\n",
       "\n",
       "    .dataframe thead th {\n",
       "        text-align: right;\n",
       "    }\n",
       "</style>\n",
       "<table border=\"1\" class=\"dataframe\">\n",
       "  <thead>\n",
       "    <tr style=\"text-align: right;\">\n",
       "      <th></th>\n",
       "      <th>0</th>\n",
       "      <th>1</th>\n",
       "      <th>2</th>\n",
       "      <th>3</th>\n",
       "      <th>4</th>\n",
       "      <th>5</th>\n",
       "      <th>6</th>\n",
       "      <th>7</th>\n",
       "      <th>8</th>\n",
       "      <th>9</th>\n",
       "      <th>...</th>\n",
       "      <th>42</th>\n",
       "      <th>43</th>\n",
       "      <th>44</th>\n",
       "      <th>45</th>\n",
       "      <th>46</th>\n",
       "      <th>47</th>\n",
       "      <th>48</th>\n",
       "      <th>49</th>\n",
       "      <th>target</th>\n",
       "      <th>era</th>\n",
       "    </tr>\n",
       "  </thead>\n",
       "  <tbody>\n",
       "    <tr>\n",
       "      <th>0</th>\n",
       "      <td>0.625115</td>\n",
       "      <td>0.446158</td>\n",
       "      <td>0.531525</td>\n",
       "      <td>0.335567</td>\n",
       "      <td>0.405357</td>\n",
       "      <td>0.518093</td>\n",
       "      <td>0.474484</td>\n",
       "      <td>0.491956</td>\n",
       "      <td>0.533080</td>\n",
       "      <td>0.486160</td>\n",
       "      <td>...</td>\n",
       "      <td>0.370507</td>\n",
       "      <td>0.552685</td>\n",
       "      <td>0.304854</td>\n",
       "      <td>0.200940</td>\n",
       "      <td>0.481556</td>\n",
       "      <td>0.530445</td>\n",
       "      <td>0.458085</td>\n",
       "      <td>0.519534</td>\n",
       "      <td>0.50</td>\n",
       "      <td>era1</td>\n",
       "    </tr>\n",
       "    <tr>\n",
       "      <th>1</th>\n",
       "      <td>0.367690</td>\n",
       "      <td>0.602062</td>\n",
       "      <td>0.500317</td>\n",
       "      <td>0.540271</td>\n",
       "      <td>0.287590</td>\n",
       "      <td>0.489212</td>\n",
       "      <td>0.525986</td>\n",
       "      <td>0.669204</td>\n",
       "      <td>0.377609</td>\n",
       "      <td>0.361885</td>\n",
       "      <td>...</td>\n",
       "      <td>0.267438</td>\n",
       "      <td>0.493574</td>\n",
       "      <td>0.297666</td>\n",
       "      <td>0.407217</td>\n",
       "      <td>0.533826</td>\n",
       "      <td>0.673376</td>\n",
       "      <td>0.336869</td>\n",
       "      <td>0.467933</td>\n",
       "      <td>0.25</td>\n",
       "      <td>era1</td>\n",
       "    </tr>\n",
       "    <tr>\n",
       "      <th>2</th>\n",
       "      <td>0.675877</td>\n",
       "      <td>0.360629</td>\n",
       "      <td>0.376649</td>\n",
       "      <td>0.329879</td>\n",
       "      <td>0.526551</td>\n",
       "      <td>0.417776</td>\n",
       "      <td>0.485493</td>\n",
       "      <td>0.662721</td>\n",
       "      <td>0.333822</td>\n",
       "      <td>0.394766</td>\n",
       "      <td>...</td>\n",
       "      <td>0.579851</td>\n",
       "      <td>0.511115</td>\n",
       "      <td>0.387974</td>\n",
       "      <td>0.571073</td>\n",
       "      <td>0.461804</td>\n",
       "      <td>0.673221</td>\n",
       "      <td>0.186182</td>\n",
       "      <td>0.436037</td>\n",
       "      <td>0.25</td>\n",
       "      <td>era1</td>\n",
       "    </tr>\n",
       "    <tr>\n",
       "      <th>3</th>\n",
       "      <td>0.644683</td>\n",
       "      <td>0.497132</td>\n",
       "      <td>0.577763</td>\n",
       "      <td>0.658211</td>\n",
       "      <td>0.315884</td>\n",
       "      <td>0.563425</td>\n",
       "      <td>0.812878</td>\n",
       "      <td>0.532486</td>\n",
       "      <td>0.278397</td>\n",
       "      <td>0.444438</td>\n",
       "      <td>...</td>\n",
       "      <td>0.383529</td>\n",
       "      <td>0.600189</td>\n",
       "      <td>0.432368</td>\n",
       "      <td>0.386079</td>\n",
       "      <td>0.595988</td>\n",
       "      <td>0.669761</td>\n",
       "      <td>0.265909</td>\n",
       "      <td>0.360806</td>\n",
       "      <td>0.25</td>\n",
       "      <td>era1</td>\n",
       "    </tr>\n",
       "    <tr>\n",
       "      <th>4</th>\n",
       "      <td>0.255260</td>\n",
       "      <td>0.368295</td>\n",
       "      <td>0.403755</td>\n",
       "      <td>0.496896</td>\n",
       "      <td>0.238508</td>\n",
       "      <td>0.562416</td>\n",
       "      <td>0.486466</td>\n",
       "      <td>0.474467</td>\n",
       "      <td>0.118016</td>\n",
       "      <td>0.508690</td>\n",
       "      <td>...</td>\n",
       "      <td>0.605335</td>\n",
       "      <td>0.573041</td>\n",
       "      <td>0.607115</td>\n",
       "      <td>0.321210</td>\n",
       "      <td>0.479349</td>\n",
       "      <td>0.574421</td>\n",
       "      <td>0.481902</td>\n",
       "      <td>0.723485</td>\n",
       "      <td>0.75</td>\n",
       "      <td>era1</td>\n",
       "    </tr>\n",
       "  </tbody>\n",
       "</table>\n",
       "<p>5 rows × 52 columns</p>\n",
       "</div>"
      ],
      "text/plain": [
       "          0         1         2         3         4         5         6  \\\n",
       "0  0.625115  0.446158  0.531525  0.335567  0.405357  0.518093  0.474484   \n",
       "1  0.367690  0.602062  0.500317  0.540271  0.287590  0.489212  0.525986   \n",
       "2  0.675877  0.360629  0.376649  0.329879  0.526551  0.417776  0.485493   \n",
       "3  0.644683  0.497132  0.577763  0.658211  0.315884  0.563425  0.812878   \n",
       "4  0.255260  0.368295  0.403755  0.496896  0.238508  0.562416  0.486466   \n",
       "\n",
       "          7         8         9  ...        42        43        44        45  \\\n",
       "0  0.491956  0.533080  0.486160  ...  0.370507  0.552685  0.304854  0.200940   \n",
       "1  0.669204  0.377609  0.361885  ...  0.267438  0.493574  0.297666  0.407217   \n",
       "2  0.662721  0.333822  0.394766  ...  0.579851  0.511115  0.387974  0.571073   \n",
       "3  0.532486  0.278397  0.444438  ...  0.383529  0.600189  0.432368  0.386079   \n",
       "4  0.474467  0.118016  0.508690  ...  0.605335  0.573041  0.607115  0.321210   \n",
       "\n",
       "         46        47        48        49  target   era  \n",
       "0  0.481556  0.530445  0.458085  0.519534    0.50  era1  \n",
       "1  0.533826  0.673376  0.336869  0.467933    0.25  era1  \n",
       "2  0.461804  0.673221  0.186182  0.436037    0.25  era1  \n",
       "3  0.595988  0.669761  0.265909  0.360806    0.25  era1  \n",
       "4  0.479349  0.574421  0.481902  0.723485    0.75  era1  \n",
       "\n",
       "[5 rows x 52 columns]"
      ]
     },
     "execution_count": 3,
     "metadata": {},
     "output_type": "execute_result"
    }
   ],
   "source": [
    "# download the latest training dataset (takes around 30s)\n",
    "training_data = pd.read_csv(\"train_data-kaz-10.csv\")\n",
    "# training_data = pd.read_csv(\"https://numerai-public-datasets.s3-us-west-2.amazonaws.com/latest_numerai_training_data.csv.xz\")\n",
    "del training_data['Unnamed: 0']\n",
    "training_data.head()"
   ]
  },
  {
   "cell_type": "code",
   "execution_count": 4,
   "metadata": {},
   "outputs": [
    {
     "data": {
      "text/html": [
       "<div>\n",
       "<style scoped>\n",
       "    .dataframe tbody tr th:only-of-type {\n",
       "        vertical-align: middle;\n",
       "    }\n",
       "\n",
       "    .dataframe tbody tr th {\n",
       "        vertical-align: top;\n",
       "    }\n",
       "\n",
       "    .dataframe thead th {\n",
       "        text-align: right;\n",
       "    }\n",
       "</style>\n",
       "<table border=\"1\" class=\"dataframe\">\n",
       "  <thead>\n",
       "    <tr style=\"text-align: right;\">\n",
       "      <th></th>\n",
       "      <th>0</th>\n",
       "      <th>1</th>\n",
       "      <th>2</th>\n",
       "      <th>3</th>\n",
       "      <th>4</th>\n",
       "      <th>5</th>\n",
       "      <th>6</th>\n",
       "      <th>7</th>\n",
       "      <th>8</th>\n",
       "      <th>9</th>\n",
       "      <th>...</th>\n",
       "      <th>44</th>\n",
       "      <th>45</th>\n",
       "      <th>46</th>\n",
       "      <th>47</th>\n",
       "      <th>48</th>\n",
       "      <th>49</th>\n",
       "      <th>target</th>\n",
       "      <th>era</th>\n",
       "      <th>type</th>\n",
       "      <th>id</th>\n",
       "    </tr>\n",
       "  </thead>\n",
       "  <tbody>\n",
       "    <tr>\n",
       "      <th>0</th>\n",
       "      <td>0.684969</td>\n",
       "      <td>0.537315</td>\n",
       "      <td>0.644790</td>\n",
       "      <td>0.475414</td>\n",
       "      <td>0.522303</td>\n",
       "      <td>0.561284</td>\n",
       "      <td>0.441950</td>\n",
       "      <td>0.583328</td>\n",
       "      <td>0.357338</td>\n",
       "      <td>0.583919</td>\n",
       "      <td>...</td>\n",
       "      <td>0.652358</td>\n",
       "      <td>0.747293</td>\n",
       "      <td>0.560961</td>\n",
       "      <td>0.417274</td>\n",
       "      <td>0.602620</td>\n",
       "      <td>0.593732</td>\n",
       "      <td>0.25</td>\n",
       "      <td>era121</td>\n",
       "      <td>validation</td>\n",
       "      <td>n0003aa52cab36c2</td>\n",
       "    </tr>\n",
       "    <tr>\n",
       "      <th>1</th>\n",
       "      <td>0.462252</td>\n",
       "      <td>0.545916</td>\n",
       "      <td>0.394655</td>\n",
       "      <td>0.378866</td>\n",
       "      <td>0.569654</td>\n",
       "      <td>0.708049</td>\n",
       "      <td>0.495076</td>\n",
       "      <td>0.426700</td>\n",
       "      <td>0.565530</td>\n",
       "      <td>0.217472</td>\n",
       "      <td>...</td>\n",
       "      <td>0.594471</td>\n",
       "      <td>0.464464</td>\n",
       "      <td>0.739603</td>\n",
       "      <td>0.395773</td>\n",
       "      <td>0.587933</td>\n",
       "      <td>0.522045</td>\n",
       "      <td>0.50</td>\n",
       "      <td>era121</td>\n",
       "      <td>validation</td>\n",
       "      <td>n000920ed083903f</td>\n",
       "    </tr>\n",
       "    <tr>\n",
       "      <th>2</th>\n",
       "      <td>0.582050</td>\n",
       "      <td>0.557493</td>\n",
       "      <td>0.535555</td>\n",
       "      <td>0.323159</td>\n",
       "      <td>0.506384</td>\n",
       "      <td>0.605278</td>\n",
       "      <td>0.365147</td>\n",
       "      <td>0.181733</td>\n",
       "      <td>0.332626</td>\n",
       "      <td>0.691691</td>\n",
       "      <td>...</td>\n",
       "      <td>0.639979</td>\n",
       "      <td>0.540645</td>\n",
       "      <td>0.414977</td>\n",
       "      <td>0.393736</td>\n",
       "      <td>0.625929</td>\n",
       "      <td>0.519788</td>\n",
       "      <td>1.00</td>\n",
       "      <td>era121</td>\n",
       "      <td>validation</td>\n",
       "      <td>n0038e640522c4a6</td>\n",
       "    </tr>\n",
       "    <tr>\n",
       "      <th>3</th>\n",
       "      <td>0.419429</td>\n",
       "      <td>0.462896</td>\n",
       "      <td>0.448324</td>\n",
       "      <td>0.513063</td>\n",
       "      <td>0.390499</td>\n",
       "      <td>0.412967</td>\n",
       "      <td>0.390469</td>\n",
       "      <td>0.337310</td>\n",
       "      <td>0.549885</td>\n",
       "      <td>0.500408</td>\n",
       "      <td>...</td>\n",
       "      <td>0.414323</td>\n",
       "      <td>0.467435</td>\n",
       "      <td>0.382670</td>\n",
       "      <td>0.339632</td>\n",
       "      <td>0.606715</td>\n",
       "      <td>0.264071</td>\n",
       "      <td>0.50</td>\n",
       "      <td>era121</td>\n",
       "      <td>validation</td>\n",
       "      <td>n004ac94a87dc54b</td>\n",
       "    </tr>\n",
       "    <tr>\n",
       "      <th>4</th>\n",
       "      <td>0.632081</td>\n",
       "      <td>0.405627</td>\n",
       "      <td>0.395501</td>\n",
       "      <td>0.304732</td>\n",
       "      <td>0.428091</td>\n",
       "      <td>0.342243</td>\n",
       "      <td>0.480964</td>\n",
       "      <td>0.703205</td>\n",
       "      <td>0.334977</td>\n",
       "      <td>0.623257</td>\n",
       "      <td>...</td>\n",
       "      <td>0.541503</td>\n",
       "      <td>0.377432</td>\n",
       "      <td>0.390525</td>\n",
       "      <td>0.393758</td>\n",
       "      <td>0.299309</td>\n",
       "      <td>0.440200</td>\n",
       "      <td>0.75</td>\n",
       "      <td>era121</td>\n",
       "      <td>validation</td>\n",
       "      <td>n0052fe97ea0c05f</td>\n",
       "    </tr>\n",
       "  </tbody>\n",
       "</table>\n",
       "<p>5 rows × 54 columns</p>\n",
       "</div>"
      ],
      "text/plain": [
       "          0         1         2         3         4         5         6  \\\n",
       "0  0.684969  0.537315  0.644790  0.475414  0.522303  0.561284  0.441950   \n",
       "1  0.462252  0.545916  0.394655  0.378866  0.569654  0.708049  0.495076   \n",
       "2  0.582050  0.557493  0.535555  0.323159  0.506384  0.605278  0.365147   \n",
       "3  0.419429  0.462896  0.448324  0.513063  0.390499  0.412967  0.390469   \n",
       "4  0.632081  0.405627  0.395501  0.304732  0.428091  0.342243  0.480964   \n",
       "\n",
       "          7         8         9  ...        44        45        46        47  \\\n",
       "0  0.583328  0.357338  0.583919  ...  0.652358  0.747293  0.560961  0.417274   \n",
       "1  0.426700  0.565530  0.217472  ...  0.594471  0.464464  0.739603  0.395773   \n",
       "2  0.181733  0.332626  0.691691  ...  0.639979  0.540645  0.414977  0.393736   \n",
       "3  0.337310  0.549885  0.500408  ...  0.414323  0.467435  0.382670  0.339632   \n",
       "4  0.703205  0.334977  0.623257  ...  0.541503  0.377432  0.390525  0.393758   \n",
       "\n",
       "         48        49  target     era        type                id  \n",
       "0  0.602620  0.593732    0.25  era121  validation  n0003aa52cab36c2  \n",
       "1  0.587933  0.522045    0.50  era121  validation  n000920ed083903f  \n",
       "2  0.625929  0.519788    1.00  era121  validation  n0038e640522c4a6  \n",
       "3  0.606715  0.264071    0.50  era121  validation  n004ac94a87dc54b  \n",
       "4  0.299309  0.440200    0.75  era121  validation  n0052fe97ea0c05f  \n",
       "\n",
       "[5 rows x 54 columns]"
      ]
     },
     "execution_count": 4,
     "metadata": {},
     "output_type": "execute_result"
    }
   ],
   "source": [
    "# download the latest tournament dataset (takes around 30s)\n",
    "tournament_data = pd.read_csv(\"tournament_data-kaz-10.csv\")\n",
    "# tournament_data = pd.read_csv(\"https://numerai-public-datasets.s3-us-west-2.amazonaws.com/latest_numerai_tournament_data.csv.xz\")\n",
    "del tournament_data['Unnamed: 0']\n",
    "tournament_data.head()"
   ]
  },
  {
   "cell_type": "code",
   "execution_count": 5,
   "metadata": {},
   "outputs": [
    {
     "data": {
      "text/plain": [
       "Index(['0', '1', '2', '3', '4', '5', '6', '7', '8', '9', '10', '11', '12',\n",
       "       '13', '14', '15', '16', '17', '18', '19', '20', '21', '22', '23', '24',\n",
       "       '25', '26', '27', '28', '29', '30', '31', '32', '33', '34', '35', '36',\n",
       "       '37', '38', '39', '40', '41', '42', '43', '44', '45', '46', '47', '48',\n",
       "       '49'],\n",
       "      dtype='object')"
      ]
     },
     "execution_count": 5,
     "metadata": {},
     "output_type": "execute_result"
    }
   ],
   "source": [
    "feature_cols = tournament_data.columns[[x for x in range(50)]]\n",
    "feature_cols"
   ]
  },
  {
   "cell_type": "code",
   "execution_count": 6,
   "metadata": {},
   "outputs": [],
   "source": [
    "from tensorflow.keras.models import Sequential\n",
    "from tensorflow.keras.layers import Dense, Dropout, Conv2D, MaxPooling2D, Activation, Flatten\n",
    "from tensorflow.keras.callbacks import TensorBoard\n",
    "from tensorflow.keras.optimizers import Adam\n",
    "from collections import deque\n",
    "import numpy as np\n",
    "import random\n",
    "import os\n",
    "import time\n",
    "import numpy as np  # for array stuff and random\n",
    "from PIL import Image  # for creating visual of our env\n",
    "import cv2  # for showing our visual live\n",
    "import matplotlib.pyplot as plt  # for graphing our mean rewards over time\n",
    "import pickle  # to save/load Q-Tables\n",
    "from matplotlib import style  # to make pretty charts because it matters.\n",
    "import time  # using this to keep track of our saved Q-Tables.\n",
    "from tqdm import tqdm\n",
    "style.use(\"ggplot\")  # setting our style!"
   ]
  },
  {
   "cell_type": "code",
   "execution_count": 7,
   "metadata": {},
   "outputs": [],
   "source": [
    "\n",
    "#...\n",
    "\n",
    "# Own Tensorboard class\n",
    "class ModifiedTensorBoard(TensorBoard):\n",
    "\n",
    "    # Overriding init to set initial step and writer (we want one log file for all .fit() calls)\n",
    "    def __init__(self, **kwargs):\n",
    "        super().__init__(**kwargs)\n",
    "        self.step = 1\n",
    "        self.writer = tf.summary.create_file_writer(self.log_dir)\n",
    "\n",
    "    # Overriding this method to stop creating default log writer\n",
    "    def set_model(self, model):\n",
    "        pass\n",
    "\n",
    "    # Overrided, saves logs with our step number\n",
    "    # (otherwise every .fit() will start writing from 0th step)\n",
    "    def on_epoch_end(self, epoch, logs=None):\n",
    "        self.update_stats(**logs)\n",
    "\n",
    "    # Overrided\n",
    "    # We train for one batch only, no need to save anything at epoch end\n",
    "    def on_batch_end(self, batch, logs=None):\n",
    "        pass\n",
    "\n",
    "    # Overrided, so won't close writer\n",
    "    def on_train_end(self, _):\n",
    "        pass\n",
    "\n",
    "    # Custom method for saving own metrics\n",
    "    # Creates writer, writes custom metrics and closes writer\n",
    "    def update_stats(self, **stats):\n",
    "        self._write_logs(stats, self.step)"
   ]
  },
  {
   "cell_type": "code",
   "execution_count": 8,
   "metadata": {},
   "outputs": [
    {
     "data": {
      "text/html": [
       "<div>\n",
       "<style scoped>\n",
       "    .dataframe tbody tr th:only-of-type {\n",
       "        vertical-align: middle;\n",
       "    }\n",
       "\n",
       "    .dataframe tbody tr th {\n",
       "        vertical-align: top;\n",
       "    }\n",
       "\n",
       "    .dataframe thead th {\n",
       "        text-align: right;\n",
       "    }\n",
       "</style>\n",
       "<table border=\"1\" class=\"dataframe\">\n",
       "  <thead>\n",
       "    <tr style=\"text-align: right;\">\n",
       "      <th></th>\n",
       "      <th>0</th>\n",
       "      <th>1</th>\n",
       "      <th>2</th>\n",
       "      <th>3</th>\n",
       "      <th>4</th>\n",
       "      <th>5</th>\n",
       "      <th>6</th>\n",
       "      <th>7</th>\n",
       "      <th>8</th>\n",
       "      <th>9</th>\n",
       "      <th>...</th>\n",
       "      <th>42</th>\n",
       "      <th>43</th>\n",
       "      <th>44</th>\n",
       "      <th>45</th>\n",
       "      <th>46</th>\n",
       "      <th>47</th>\n",
       "      <th>48</th>\n",
       "      <th>49</th>\n",
       "      <th>target</th>\n",
       "      <th>era</th>\n",
       "    </tr>\n",
       "  </thead>\n",
       "  <tbody>\n",
       "    <tr>\n",
       "      <th>2408</th>\n",
       "      <td>0.486658</td>\n",
       "      <td>0.486152</td>\n",
       "      <td>0.662451</td>\n",
       "      <td>0.357979</td>\n",
       "      <td>0.534530</td>\n",
       "      <td>0.495499</td>\n",
       "      <td>0.356730</td>\n",
       "      <td>0.404762</td>\n",
       "      <td>0.736316</td>\n",
       "      <td>0.415910</td>\n",
       "      <td>...</td>\n",
       "      <td>0.265002</td>\n",
       "      <td>0.681017</td>\n",
       "      <td>0.257958</td>\n",
       "      <td>0.430325</td>\n",
       "      <td>0.543634</td>\n",
       "      <td>0.276219</td>\n",
       "      <td>0.760015</td>\n",
       "      <td>0.430206</td>\n",
       "      <td>0.50</td>\n",
       "      <td>era2</td>\n",
       "    </tr>\n",
       "    <tr>\n",
       "      <th>2409</th>\n",
       "      <td>0.624974</td>\n",
       "      <td>0.339195</td>\n",
       "      <td>0.341060</td>\n",
       "      <td>0.434427</td>\n",
       "      <td>0.397542</td>\n",
       "      <td>0.565924</td>\n",
       "      <td>0.451867</td>\n",
       "      <td>0.459982</td>\n",
       "      <td>0.510805</td>\n",
       "      <td>0.614807</td>\n",
       "      <td>...</td>\n",
       "      <td>0.289320</td>\n",
       "      <td>0.321779</td>\n",
       "      <td>0.229865</td>\n",
       "      <td>0.610209</td>\n",
       "      <td>0.414913</td>\n",
       "      <td>0.411060</td>\n",
       "      <td>0.423278</td>\n",
       "      <td>0.421295</td>\n",
       "      <td>0.25</td>\n",
       "      <td>era2</td>\n",
       "    </tr>\n",
       "    <tr>\n",
       "      <th>2410</th>\n",
       "      <td>0.653105</td>\n",
       "      <td>0.658849</td>\n",
       "      <td>0.559097</td>\n",
       "      <td>0.461920</td>\n",
       "      <td>0.329984</td>\n",
       "      <td>0.577726</td>\n",
       "      <td>0.411187</td>\n",
       "      <td>0.381742</td>\n",
       "      <td>0.578934</td>\n",
       "      <td>0.489683</td>\n",
       "      <td>...</td>\n",
       "      <td>0.504109</td>\n",
       "      <td>0.394632</td>\n",
       "      <td>0.380040</td>\n",
       "      <td>0.227132</td>\n",
       "      <td>0.477765</td>\n",
       "      <td>0.692810</td>\n",
       "      <td>0.496145</td>\n",
       "      <td>0.456073</td>\n",
       "      <td>0.75</td>\n",
       "      <td>era2</td>\n",
       "    </tr>\n",
       "    <tr>\n",
       "      <th>2411</th>\n",
       "      <td>0.575518</td>\n",
       "      <td>0.326938</td>\n",
       "      <td>0.409218</td>\n",
       "      <td>0.332895</td>\n",
       "      <td>0.378200</td>\n",
       "      <td>0.615375</td>\n",
       "      <td>0.453761</td>\n",
       "      <td>0.282744</td>\n",
       "      <td>0.628355</td>\n",
       "      <td>0.426157</td>\n",
       "      <td>...</td>\n",
       "      <td>0.359470</td>\n",
       "      <td>0.474403</td>\n",
       "      <td>0.151060</td>\n",
       "      <td>0.206681</td>\n",
       "      <td>0.382519</td>\n",
       "      <td>0.406021</td>\n",
       "      <td>0.319079</td>\n",
       "      <td>0.371567</td>\n",
       "      <td>0.50</td>\n",
       "      <td>era2</td>\n",
       "    </tr>\n",
       "    <tr>\n",
       "      <th>2412</th>\n",
       "      <td>0.530346</td>\n",
       "      <td>0.353012</td>\n",
       "      <td>0.551376</td>\n",
       "      <td>0.339486</td>\n",
       "      <td>0.390872</td>\n",
       "      <td>0.480216</td>\n",
       "      <td>0.605556</td>\n",
       "      <td>0.376597</td>\n",
       "      <td>0.693080</td>\n",
       "      <td>0.674294</td>\n",
       "      <td>...</td>\n",
       "      <td>0.194202</td>\n",
       "      <td>0.364407</td>\n",
       "      <td>0.438383</td>\n",
       "      <td>0.142026</td>\n",
       "      <td>0.408361</td>\n",
       "      <td>0.341363</td>\n",
       "      <td>0.356214</td>\n",
       "      <td>0.474564</td>\n",
       "      <td>0.50</td>\n",
       "      <td>era2</td>\n",
       "    </tr>\n",
       "    <tr>\n",
       "      <th>...</th>\n",
       "      <td>...</td>\n",
       "      <td>...</td>\n",
       "      <td>...</td>\n",
       "      <td>...</td>\n",
       "      <td>...</td>\n",
       "      <td>...</td>\n",
       "      <td>...</td>\n",
       "      <td>...</td>\n",
       "      <td>...</td>\n",
       "      <td>...</td>\n",
       "      <td>...</td>\n",
       "      <td>...</td>\n",
       "      <td>...</td>\n",
       "      <td>...</td>\n",
       "      <td>...</td>\n",
       "      <td>...</td>\n",
       "      <td>...</td>\n",
       "      <td>...</td>\n",
       "      <td>...</td>\n",
       "      <td>...</td>\n",
       "      <td>...</td>\n",
       "    </tr>\n",
       "    <tr>\n",
       "      <th>4774</th>\n",
       "      <td>0.449920</td>\n",
       "      <td>0.550604</td>\n",
       "      <td>0.432674</td>\n",
       "      <td>0.363428</td>\n",
       "      <td>0.644586</td>\n",
       "      <td>0.470710</td>\n",
       "      <td>0.490673</td>\n",
       "      <td>0.587163</td>\n",
       "      <td>0.418448</td>\n",
       "      <td>0.466109</td>\n",
       "      <td>...</td>\n",
       "      <td>0.421833</td>\n",
       "      <td>0.429803</td>\n",
       "      <td>0.242451</td>\n",
       "      <td>0.276027</td>\n",
       "      <td>0.442829</td>\n",
       "      <td>0.571368</td>\n",
       "      <td>0.474072</td>\n",
       "      <td>0.420833</td>\n",
       "      <td>0.25</td>\n",
       "      <td>era2</td>\n",
       "    </tr>\n",
       "    <tr>\n",
       "      <th>4775</th>\n",
       "      <td>0.457116</td>\n",
       "      <td>0.568942</td>\n",
       "      <td>0.528643</td>\n",
       "      <td>0.614990</td>\n",
       "      <td>0.599927</td>\n",
       "      <td>0.580172</td>\n",
       "      <td>0.587487</td>\n",
       "      <td>0.436227</td>\n",
       "      <td>0.661158</td>\n",
       "      <td>0.481465</td>\n",
       "      <td>...</td>\n",
       "      <td>0.301094</td>\n",
       "      <td>0.477128</td>\n",
       "      <td>0.450106</td>\n",
       "      <td>0.648919</td>\n",
       "      <td>0.579889</td>\n",
       "      <td>0.391388</td>\n",
       "      <td>0.277539</td>\n",
       "      <td>0.602677</td>\n",
       "      <td>0.00</td>\n",
       "      <td>era2</td>\n",
       "    </tr>\n",
       "    <tr>\n",
       "      <th>4776</th>\n",
       "      <td>0.442936</td>\n",
       "      <td>0.708140</td>\n",
       "      <td>0.391498</td>\n",
       "      <td>0.592014</td>\n",
       "      <td>0.317721</td>\n",
       "      <td>0.557839</td>\n",
       "      <td>0.576364</td>\n",
       "      <td>0.709167</td>\n",
       "      <td>0.656288</td>\n",
       "      <td>0.573535</td>\n",
       "      <td>...</td>\n",
       "      <td>0.386059</td>\n",
       "      <td>0.180151</td>\n",
       "      <td>0.509054</td>\n",
       "      <td>0.483241</td>\n",
       "      <td>0.450842</td>\n",
       "      <td>0.541876</td>\n",
       "      <td>0.498826</td>\n",
       "      <td>0.499239</td>\n",
       "      <td>1.00</td>\n",
       "      <td>era2</td>\n",
       "    </tr>\n",
       "    <tr>\n",
       "      <th>4777</th>\n",
       "      <td>0.457946</td>\n",
       "      <td>0.423380</td>\n",
       "      <td>0.547968</td>\n",
       "      <td>0.407668</td>\n",
       "      <td>0.373997</td>\n",
       "      <td>0.458044</td>\n",
       "      <td>0.797467</td>\n",
       "      <td>0.543064</td>\n",
       "      <td>0.685613</td>\n",
       "      <td>0.568498</td>\n",
       "      <td>...</td>\n",
       "      <td>0.265693</td>\n",
       "      <td>0.590528</td>\n",
       "      <td>0.305824</td>\n",
       "      <td>0.319498</td>\n",
       "      <td>0.559978</td>\n",
       "      <td>0.460262</td>\n",
       "      <td>0.214847</td>\n",
       "      <td>0.677740</td>\n",
       "      <td>0.75</td>\n",
       "      <td>era2</td>\n",
       "    </tr>\n",
       "    <tr>\n",
       "      <th>4778</th>\n",
       "      <td>0.595965</td>\n",
       "      <td>0.665521</td>\n",
       "      <td>0.297395</td>\n",
       "      <td>0.407236</td>\n",
       "      <td>0.690956</td>\n",
       "      <td>0.380442</td>\n",
       "      <td>0.312742</td>\n",
       "      <td>0.697711</td>\n",
       "      <td>0.462695</td>\n",
       "      <td>0.325782</td>\n",
       "      <td>...</td>\n",
       "      <td>0.380583</td>\n",
       "      <td>0.302822</td>\n",
       "      <td>0.541924</td>\n",
       "      <td>0.693612</td>\n",
       "      <td>0.374476</td>\n",
       "      <td>0.561528</td>\n",
       "      <td>0.440142</td>\n",
       "      <td>0.281569</td>\n",
       "      <td>0.50</td>\n",
       "      <td>era2</td>\n",
       "    </tr>\n",
       "  </tbody>\n",
       "</table>\n",
       "<p>2371 rows × 52 columns</p>\n",
       "</div>"
      ],
      "text/plain": [
       "             0         1         2         3         4         5         6  \\\n",
       "2408  0.486658  0.486152  0.662451  0.357979  0.534530  0.495499  0.356730   \n",
       "2409  0.624974  0.339195  0.341060  0.434427  0.397542  0.565924  0.451867   \n",
       "2410  0.653105  0.658849  0.559097  0.461920  0.329984  0.577726  0.411187   \n",
       "2411  0.575518  0.326938  0.409218  0.332895  0.378200  0.615375  0.453761   \n",
       "2412  0.530346  0.353012  0.551376  0.339486  0.390872  0.480216  0.605556   \n",
       "...        ...       ...       ...       ...       ...       ...       ...   \n",
       "4774  0.449920  0.550604  0.432674  0.363428  0.644586  0.470710  0.490673   \n",
       "4775  0.457116  0.568942  0.528643  0.614990  0.599927  0.580172  0.587487   \n",
       "4776  0.442936  0.708140  0.391498  0.592014  0.317721  0.557839  0.576364   \n",
       "4777  0.457946  0.423380  0.547968  0.407668  0.373997  0.458044  0.797467   \n",
       "4778  0.595965  0.665521  0.297395  0.407236  0.690956  0.380442  0.312742   \n",
       "\n",
       "             7         8         9  ...        42        43        44  \\\n",
       "2408  0.404762  0.736316  0.415910  ...  0.265002  0.681017  0.257958   \n",
       "2409  0.459982  0.510805  0.614807  ...  0.289320  0.321779  0.229865   \n",
       "2410  0.381742  0.578934  0.489683  ...  0.504109  0.394632  0.380040   \n",
       "2411  0.282744  0.628355  0.426157  ...  0.359470  0.474403  0.151060   \n",
       "2412  0.376597  0.693080  0.674294  ...  0.194202  0.364407  0.438383   \n",
       "...        ...       ...       ...  ...       ...       ...       ...   \n",
       "4774  0.587163  0.418448  0.466109  ...  0.421833  0.429803  0.242451   \n",
       "4775  0.436227  0.661158  0.481465  ...  0.301094  0.477128  0.450106   \n",
       "4776  0.709167  0.656288  0.573535  ...  0.386059  0.180151  0.509054   \n",
       "4777  0.543064  0.685613  0.568498  ...  0.265693  0.590528  0.305824   \n",
       "4778  0.697711  0.462695  0.325782  ...  0.380583  0.302822  0.541924   \n",
       "\n",
       "            45        46        47        48        49  target   era  \n",
       "2408  0.430325  0.543634  0.276219  0.760015  0.430206    0.50  era2  \n",
       "2409  0.610209  0.414913  0.411060  0.423278  0.421295    0.25  era2  \n",
       "2410  0.227132  0.477765  0.692810  0.496145  0.456073    0.75  era2  \n",
       "2411  0.206681  0.382519  0.406021  0.319079  0.371567    0.50  era2  \n",
       "2412  0.142026  0.408361  0.341363  0.356214  0.474564    0.50  era2  \n",
       "...        ...       ...       ...       ...       ...     ...   ...  \n",
       "4774  0.276027  0.442829  0.571368  0.474072  0.420833    0.25  era2  \n",
       "4775  0.648919  0.579889  0.391388  0.277539  0.602677    0.00  era2  \n",
       "4776  0.483241  0.450842  0.541876  0.498826  0.499239    1.00  era2  \n",
       "4777  0.319498  0.559978  0.460262  0.214847  0.677740    0.75  era2  \n",
       "4778  0.693612  0.374476  0.561528  0.440142  0.281569    0.50  era2  \n",
       "\n",
       "[2371 rows x 52 columns]"
      ]
     },
     "execution_count": 8,
     "metadata": {},
     "output_type": "execute_result"
    }
   ],
   "source": [
    "training_data[training_data['era']=='era2']"
   ]
  },
  {
   "cell_type": "code",
   "execution_count": 9,
   "metadata": {},
   "outputs": [
    {
     "data": {
      "text/plain": [
       "array([0.486658  , 0.4861524 , 0.662451  , 0.35797867, 0.53452986,\n",
       "       0.495499  , 0.35672954, 0.40476236, 0.7363155 , 0.4159099 ,\n",
       "       0.59522957, 0.4701058 , 0.69101566, 0.59315336, 0.4666693 ,\n",
       "       0.35831574, 0.11075862, 0.42406616, 0.3535127 , 0.5713289 ,\n",
       "       0.4265387 , 0.51979077, 0.45210803, 0.54398507, 0.38161808,\n",
       "       0.3488925 , 0.38966388, 0.40048686, 0.6690425 , 0.3473469 ,\n",
       "       0.48347417, 0.35764343, 0.4173858 , 0.6222329 , 0.4851353 ,\n",
       "       0.21497218, 0.43060246, 0.4019114 , 0.5263327 , 0.5893069 ,\n",
       "       0.47857782, 0.46592584, 0.26500192, 0.6810171 , 0.25795817,\n",
       "       0.43032524, 0.5436337 , 0.27621865, 0.76001495, 0.43020645])"
      ]
     },
     "execution_count": 9,
     "metadata": {},
     "output_type": "execute_result"
    }
   ],
   "source": [
    "training_data[training_data['era']=='era2'][feature_cols].iloc[0].values"
   ]
  },
  {
   "cell_type": "code",
   "execution_count": 10,
   "metadata": {},
   "outputs": [],
   "source": [
    "indicator_predict = np.ones((50))*-1            \n",
    "allprediction = [el for el in indicator_predict]\n",
    "allprediction.append(0.1)"
   ]
  },
  {
   "cell_type": "code",
   "execution_count": 11,
   "metadata": {},
   "outputs": [
    {
     "ename": "NameError",
     "evalue": "name 'a1' is not defined",
     "output_type": "error",
     "traceback": [
      "\u001b[0;31m---------------------------------------------------------------------------\u001b[0m",
      "\u001b[0;31mNameError\u001b[0m                                 Traceback (most recent call last)",
      "\u001b[0;32m<ipython-input-11-9493140891ef>\u001b[0m in \u001b[0;36m<module>\u001b[0;34m\u001b[0m\n\u001b[1;32m      1\u001b[0m \u001b[0ma\u001b[0m\u001b[0;34m=\u001b[0m\u001b[0;36m0\u001b[0m\u001b[0;34m\u001b[0m\u001b[0;34m\u001b[0m\u001b[0m\n\u001b[0;32m----> 2\u001b[0;31m \u001b[0mallprediction\u001b[0m\u001b[0;34m[\u001b[0m\u001b[0;34m-\u001b[0m\u001b[0ma1\u001b[0m\u001b[0;34m:\u001b[0m\u001b[0;34m]\u001b[0m\u001b[0;34m\u001b[0m\u001b[0;34m\u001b[0m\u001b[0m\n\u001b[0m",
      "\u001b[0;31mNameError\u001b[0m: name 'a1' is not defined"
     ]
    }
   ],
   "source": [
    "a=0\n",
    "allprediction[-a1:]"
   ]
  },
  {
   "cell_type": "code",
   "execution_count": 113,
   "metadata": {},
   "outputs": [],
   "source": [
    "def correlation_score(y_true, y_pred):\n",
    "        return np.corrcoef(y_true, y_pred)[0,1]\n",
    "    \n",
    "class Enviroment:\n",
    "    \n",
    "    def __init__(self, data, features):\n",
    "        # len_obs_space = totalFeatures + 50 forward correlation        \n",
    "        self.extrafeatures = 100\n",
    "        self.OBSERVATION_SPACE_VALUES = len(features) +  self.extrafeatures + 1\n",
    "        # cada accion seran en steps de 0.01\n",
    "        self.ACTION_SPACE_SIZE = 100\n",
    "        self.data = data\n",
    "        self.features = features\n",
    "        self.unique_eras = data.era.unique()\n",
    "        \n",
    "        \n",
    "    def reset(self):\n",
    "        \n",
    "        self.currentEra = np.random.choice(self.unique_eras, 1)[0]\n",
    "        \n",
    "        self.currentPoint = 0\n",
    "        self.len_stage = len(self.data[self.data['era']==self.currentEra])\n",
    "        indicators = self.data[self.data['era']==self.currentEra][self.features].iloc[self.currentPoint].values\n",
    "        indicator_predict = np.ones((self.extrafeatures))*-1            \n",
    "        self.allprediction = [el for el in indicator_predict]\n",
    "        self.allcorrelations = [el for el in indicator_predict]\n",
    "        self.incremntalStep = [0]\n",
    "        self.currentCorrelation = 1\n",
    "        \n",
    "        return np.concatenate((indicators, indicator_predict, self.incremntalStep ))\n",
    "    \n",
    "    def step(self, action):\n",
    "        \n",
    "        newAction = action / 100\n",
    "        # if action == 0:\n",
    "#             newAction= 0.\n",
    "#         elif action == 1:\n",
    "#             newAction = 0.25\n",
    "#         elif action == 2:\n",
    "#             newAction = 0.5\n",
    "#         elif action == 3:            \n",
    "#             newAction = 0.75                \n",
    "#         elif action == 4:            \n",
    "#             newAction = 1.                            \n",
    "        self.allprediction.append(newAction)\n",
    "        \n",
    "        \n",
    "        if self.currentPoint < self.extrafeatures:\n",
    "            trueActions = self.data[self.data['era']==self.currentEra]['target'].iloc[0:self.currentPoint+1].values    \n",
    "            # print(trueActions)\n",
    "            predActions = np.array(self.allprediction[-self.currentPoint-1:])\n",
    "            # print(predActions)\n",
    "            newCorrelation = correlation_score(predActions, trueActions )\n",
    "        else:\n",
    "            trueActions = self.data[self.data['era']==self.currentEra]['target'].iloc[0:self.currentPoint+1].values    \n",
    "            newCorrelation = correlation_score(np.array(self.allprediction[-len(trueActions):]), trueActions )\n",
    "\n",
    "        \n",
    "        if not self.currentPoint % 300:            \n",
    "            print(newCorrelation)\n",
    "            \n",
    "        if np.isnan(newCorrelation):\n",
    "            newCorrelation=0\n",
    "# #            reward = 0\n",
    "#        else:\n",
    "#            reward = newCorrelation\n",
    "            \n",
    "        self.allcorrelations.append(newCorrelation)\n",
    "        \n",
    "        # reward = -abs(newCorrelation-self.currentCorrelation)\n",
    "        \n",
    "        if newCorrelation<self.currentCorrelation:\n",
    "            reward = -abs(newCorrelation-self.currentCorrelation)\n",
    "        else:\n",
    "            reward = abs(newCorrelation-self.currentCorrelation)\n",
    "        \n",
    "        self.currentCorrelation = newCorrelation\n",
    "        \n",
    "        done = True if self.currentPoint+1 >= self.len_stage else False\n",
    "        \n",
    "        \n",
    "        if done:\n",
    "            print(\"oldCorrelation\", self.currentCorrelation)\n",
    "            reward = self.currentCorrelation\n",
    "        \n",
    "        indicators = self.data[self.data['era']==self.currentEra][self.features].iloc[self.currentPoint].values\n",
    "        indicators_predict = np.array(self.allprediction[-self.extrafeatures:])\n",
    "        new_state = np.concatenate((indicators, indicators_predict, [self.currentPoint/self.len_stage]))\n",
    "        \n",
    "        self.currentPoint += 1\n",
    "        return new_state, reward, done "
   ]
  },
  {
   "cell_type": "code",
   "execution_count": 114,
   "metadata": {},
   "outputs": [
    {
     "data": {
      "text/plain": [
       "array([ 0.48521546,  0.36940157,  0.4270708 ,  0.6455298 ,  0.21197662,\n",
       "        0.71584696,  0.3949961 ,  0.34914654,  0.2798578 ,  0.6336333 ,\n",
       "        0.42224094,  0.5082413 ,  0.47696763,  0.36014792,  0.44837514,\n",
       "        0.18299386,  0.38406605,  0.5978968 ,  0.51530063,  0.31999657,\n",
       "        0.51492155,  0.5217685 ,  0.59950227,  0.5969795 ,  0.5051454 ,\n",
       "        0.28242147,  0.4085625 ,  0.27547157,  0.43815252,  0.6439412 ,\n",
       "        0.47847757,  0.22753529,  0.54245603,  0.48251635,  0.37717324,\n",
       "        0.31087372,  0.39671618,  0.6786706 ,  0.60215396,  0.64564544,\n",
       "        0.5549608 ,  0.31358397,  0.34460256,  0.64929837,  0.23681913,\n",
       "        0.29293802,  0.32200834,  0.39856413,  0.5839887 ,  0.44158044,\n",
       "       -1.        , -1.        , -1.        , -1.        , -1.        ,\n",
       "       -1.        , -1.        , -1.        , -1.        , -1.        ,\n",
       "       -1.        , -1.        , -1.        , -1.        , -1.        ,\n",
       "       -1.        , -1.        , -1.        , -1.        , -1.        ,\n",
       "       -1.        , -1.        , -1.        , -1.        , -1.        ,\n",
       "       -1.        , -1.        , -1.        , -1.        , -1.        ,\n",
       "       -1.        , -1.        , -1.        , -1.        , -1.        ,\n",
       "       -1.        , -1.        , -1.        , -1.        , -1.        ,\n",
       "       -1.        , -1.        , -1.        , -1.        , -1.        ,\n",
       "       -1.        , -1.        , -1.        , -1.        , -1.        ,\n",
       "       -1.        , -1.        , -1.        , -1.        , -1.        ,\n",
       "       -1.        , -1.        , -1.        , -1.        , -1.        ,\n",
       "       -1.        , -1.        , -1.        , -1.        , -1.        ,\n",
       "       -1.        , -1.        , -1.        , -1.        , -1.        ,\n",
       "       -1.        , -1.        , -1.        , -1.        , -1.        ,\n",
       "       -1.        , -1.        , -1.        , -1.        , -1.        ,\n",
       "       -1.        , -1.        , -1.        , -1.        , -1.        ,\n",
       "       -1.        , -1.        , -1.        , -1.        , -1.        ,\n",
       "       -1.        , -1.        , -1.        , -1.        , -1.        ,\n",
       "       -1.        , -1.        , -1.        , -1.        , -1.        ,\n",
       "        0.        ])"
      ]
     },
     "execution_count": 114,
     "metadata": {},
     "output_type": "execute_result"
    }
   ],
   "source": [
    "env = Enviroment(training_data, feature_cols)\n",
    "\n",
    "env.reset()"
   ]
  },
  {
   "cell_type": "code",
   "execution_count": 115,
   "metadata": {},
   "outputs": [
    {
     "name": "stdout",
     "output_type": "stream",
     "text": [
      "nan\n"
     ]
    },
    {
     "data": {
      "text/plain": [
       "(array([ 0.48521546,  0.36940157,  0.4270708 ,  0.6455298 ,  0.21197662,\n",
       "         0.71584696,  0.3949961 ,  0.34914654,  0.2798578 ,  0.6336333 ,\n",
       "         0.42224094,  0.5082413 ,  0.47696763,  0.36014792,  0.44837514,\n",
       "         0.18299386,  0.38406605,  0.5978968 ,  0.51530063,  0.31999657,\n",
       "         0.51492155,  0.5217685 ,  0.59950227,  0.5969795 ,  0.5051454 ,\n",
       "         0.28242147,  0.4085625 ,  0.27547157,  0.43815252,  0.6439412 ,\n",
       "         0.47847757,  0.22753529,  0.54245603,  0.48251635,  0.37717324,\n",
       "         0.31087372,  0.39671618,  0.6786706 ,  0.60215396,  0.64564544,\n",
       "         0.5549608 ,  0.31358397,  0.34460256,  0.64929837,  0.23681913,\n",
       "         0.29293802,  0.32200834,  0.39856413,  0.5839887 ,  0.44158044,\n",
       "        -1.        , -1.        , -1.        , -1.        , -1.        ,\n",
       "        -1.        , -1.        , -1.        , -1.        , -1.        ,\n",
       "        -1.        , -1.        , -1.        , -1.        , -1.        ,\n",
       "        -1.        , -1.        , -1.        , -1.        , -1.        ,\n",
       "        -1.        , -1.        , -1.        , -1.        , -1.        ,\n",
       "        -1.        , -1.        , -1.        , -1.        , -1.        ,\n",
       "        -1.        , -1.        , -1.        , -1.        , -1.        ,\n",
       "        -1.        , -1.        , -1.        , -1.        , -1.        ,\n",
       "        -1.        , -1.        , -1.        , -1.        , -1.        ,\n",
       "        -1.        , -1.        , -1.        , -1.        , -1.        ,\n",
       "        -1.        , -1.        , -1.        , -1.        , -1.        ,\n",
       "        -1.        , -1.        , -1.        , -1.        , -1.        ,\n",
       "        -1.        , -1.        , -1.        , -1.        , -1.        ,\n",
       "        -1.        , -1.        , -1.        , -1.        , -1.        ,\n",
       "        -1.        , -1.        , -1.        , -1.        , -1.        ,\n",
       "        -1.        , -1.        , -1.        , -1.        , -1.        ,\n",
       "        -1.        , -1.        , -1.        , -1.        , -1.        ,\n",
       "        -1.        , -1.        , -1.        , -1.        , -1.        ,\n",
       "        -1.        , -1.        , -1.        , -1.        , -1.        ,\n",
       "        -1.        , -1.        , -1.        , -1.        ,  0.02      ,\n",
       "         0.        ]),\n",
       " -1,\n",
       " False)"
      ]
     },
     "execution_count": 115,
     "metadata": {},
     "output_type": "execute_result"
    }
   ],
   "source": [
    "env.step(2)"
   ]
  },
  {
   "cell_type": "code",
   "execution_count": 116,
   "metadata": {},
   "outputs": [
    {
     "name": "stdout",
     "output_type": "stream",
     "text": [
      "0.06611742602926432\n",
      "0.04637645073977602\n",
      "0.03824019859422745\n",
      "0.03193491510352962\n",
      "0.02843795879366878\n",
      "0.026099745377254274\n",
      "0.024219531333018025\n"
     ]
    },
    {
     "ename": "KeyboardInterrupt",
     "evalue": "",
     "output_type": "error",
     "traceback": [
      "\u001b[0;31m---------------------------------------------------------------------------\u001b[0m",
      "\u001b[0;31mKeyboardInterrupt\u001b[0m                         Traceback (most recent call last)",
      "\u001b[0;32m<ipython-input-116-90b3589c562a>\u001b[0m in \u001b[0;36m<module>\u001b[0;34m\u001b[0m\n\u001b[1;32m      1\u001b[0m \u001b[0;32mwhile\u001b[0m \u001b[0;32mnot\u001b[0m \u001b[0mdone\u001b[0m\u001b[0;34m:\u001b[0m\u001b[0;34m\u001b[0m\u001b[0;34m\u001b[0m\u001b[0m\n\u001b[0;32m----> 2\u001b[0;31m     \u001b[0m_\u001b[0m\u001b[0;34m,\u001b[0m\u001b[0m_\u001b[0m\u001b[0;34m,\u001b[0m \u001b[0mdone\u001b[0m \u001b[0;34m=\u001b[0m \u001b[0menv\u001b[0m\u001b[0;34m.\u001b[0m\u001b[0mstep\u001b[0m\u001b[0;34m(\u001b[0m\u001b[0;36m0.3\u001b[0m\u001b[0;34m)\u001b[0m\u001b[0;34m\u001b[0m\u001b[0;34m\u001b[0m\u001b[0m\n\u001b[0m",
      "\u001b[0;32m<ipython-input-113-8acdf17aa1a8>\u001b[0m in \u001b[0;36mstep\u001b[0;34m(self, action)\u001b[0m\n\u001b[1;32m     53\u001b[0m             \u001b[0mnewCorrelation\u001b[0m \u001b[0;34m=\u001b[0m \u001b[0mcorrelation_score\u001b[0m\u001b[0;34m(\u001b[0m\u001b[0mpredActions\u001b[0m\u001b[0;34m,\u001b[0m \u001b[0mtrueActions\u001b[0m \u001b[0;34m)\u001b[0m\u001b[0;34m\u001b[0m\u001b[0;34m\u001b[0m\u001b[0m\n\u001b[1;32m     54\u001b[0m         \u001b[0;32melse\u001b[0m\u001b[0;34m:\u001b[0m\u001b[0;34m\u001b[0m\u001b[0;34m\u001b[0m\u001b[0m\n\u001b[0;32m---> 55\u001b[0;31m             \u001b[0mtrueActions\u001b[0m \u001b[0;34m=\u001b[0m \u001b[0mself\u001b[0m\u001b[0;34m.\u001b[0m\u001b[0mdata\u001b[0m\u001b[0;34m[\u001b[0m\u001b[0mself\u001b[0m\u001b[0;34m.\u001b[0m\u001b[0mdata\u001b[0m\u001b[0;34m[\u001b[0m\u001b[0;34m'era'\u001b[0m\u001b[0;34m]\u001b[0m\u001b[0;34m==\u001b[0m\u001b[0mself\u001b[0m\u001b[0;34m.\u001b[0m\u001b[0mcurrentEra\u001b[0m\u001b[0;34m]\u001b[0m\u001b[0;34m[\u001b[0m\u001b[0;34m'target'\u001b[0m\u001b[0;34m]\u001b[0m\u001b[0;34m.\u001b[0m\u001b[0miloc\u001b[0m\u001b[0;34m[\u001b[0m\u001b[0;36m0\u001b[0m\u001b[0;34m:\u001b[0m\u001b[0mself\u001b[0m\u001b[0;34m.\u001b[0m\u001b[0mcurrentPoint\u001b[0m\u001b[0;34m+\u001b[0m\u001b[0;36m1\u001b[0m\u001b[0;34m]\u001b[0m\u001b[0;34m.\u001b[0m\u001b[0mvalues\u001b[0m\u001b[0;34m\u001b[0m\u001b[0;34m\u001b[0m\u001b[0m\n\u001b[0m\u001b[1;32m     56\u001b[0m             \u001b[0mnewCorrelation\u001b[0m \u001b[0;34m=\u001b[0m \u001b[0mcorrelation_score\u001b[0m\u001b[0;34m(\u001b[0m\u001b[0mnp\u001b[0m\u001b[0;34m.\u001b[0m\u001b[0marray\u001b[0m\u001b[0;34m(\u001b[0m\u001b[0mself\u001b[0m\u001b[0;34m.\u001b[0m\u001b[0mallprediction\u001b[0m\u001b[0;34m[\u001b[0m\u001b[0;34m-\u001b[0m\u001b[0mlen\u001b[0m\u001b[0;34m(\u001b[0m\u001b[0mtrueActions\u001b[0m\u001b[0;34m)\u001b[0m\u001b[0;34m:\u001b[0m\u001b[0;34m]\u001b[0m\u001b[0;34m)\u001b[0m\u001b[0;34m,\u001b[0m \u001b[0mtrueActions\u001b[0m \u001b[0;34m)\u001b[0m\u001b[0;34m\u001b[0m\u001b[0;34m\u001b[0m\u001b[0m\n\u001b[1;32m     57\u001b[0m \u001b[0;34m\u001b[0m\u001b[0m\n",
      "\u001b[0;32m~/Desktop/git/numerai/venv/lib/python3.7/site-packages/pandas/core/ops/common.py\u001b[0m in \u001b[0;36mnew_method\u001b[0;34m(self, other)\u001b[0m\n\u001b[1;32m     63\u001b[0m         \u001b[0mother\u001b[0m \u001b[0;34m=\u001b[0m \u001b[0mitem_from_zerodim\u001b[0m\u001b[0;34m(\u001b[0m\u001b[0mother\u001b[0m\u001b[0;34m)\u001b[0m\u001b[0;34m\u001b[0m\u001b[0;34m\u001b[0m\u001b[0m\n\u001b[1;32m     64\u001b[0m \u001b[0;34m\u001b[0m\u001b[0m\n\u001b[0;32m---> 65\u001b[0;31m         \u001b[0;32mreturn\u001b[0m \u001b[0mmethod\u001b[0m\u001b[0;34m(\u001b[0m\u001b[0mself\u001b[0m\u001b[0;34m,\u001b[0m \u001b[0mother\u001b[0m\u001b[0;34m)\u001b[0m\u001b[0;34m\u001b[0m\u001b[0;34m\u001b[0m\u001b[0m\n\u001b[0m\u001b[1;32m     66\u001b[0m \u001b[0;34m\u001b[0m\u001b[0m\n\u001b[1;32m     67\u001b[0m     \u001b[0;32mreturn\u001b[0m \u001b[0mnew_method\u001b[0m\u001b[0;34m\u001b[0m\u001b[0;34m\u001b[0m\u001b[0m\n",
      "\u001b[0;32m~/Desktop/git/numerai/venv/lib/python3.7/site-packages/pandas/core/ops/__init__.py\u001b[0m in \u001b[0;36mwrapper\u001b[0;34m(self, other)\u001b[0m\n\u001b[1;32m    368\u001b[0m         \u001b[0mrvalues\u001b[0m \u001b[0;34m=\u001b[0m \u001b[0mextract_array\u001b[0m\u001b[0;34m(\u001b[0m\u001b[0mother\u001b[0m\u001b[0;34m,\u001b[0m \u001b[0mextract_numpy\u001b[0m\u001b[0;34m=\u001b[0m\u001b[0;32mTrue\u001b[0m\u001b[0;34m)\u001b[0m\u001b[0;34m\u001b[0m\u001b[0;34m\u001b[0m\u001b[0m\n\u001b[1;32m    369\u001b[0m \u001b[0;34m\u001b[0m\u001b[0m\n\u001b[0;32m--> 370\u001b[0;31m         \u001b[0mres_values\u001b[0m \u001b[0;34m=\u001b[0m \u001b[0mcomparison_op\u001b[0m\u001b[0;34m(\u001b[0m\u001b[0mlvalues\u001b[0m\u001b[0;34m,\u001b[0m \u001b[0mrvalues\u001b[0m\u001b[0;34m,\u001b[0m \u001b[0mop\u001b[0m\u001b[0;34m)\u001b[0m\u001b[0;34m\u001b[0m\u001b[0;34m\u001b[0m\u001b[0m\n\u001b[0m\u001b[1;32m    371\u001b[0m \u001b[0;34m\u001b[0m\u001b[0m\n\u001b[1;32m    372\u001b[0m         \u001b[0;32mreturn\u001b[0m \u001b[0mself\u001b[0m\u001b[0;34m.\u001b[0m\u001b[0m_construct_result\u001b[0m\u001b[0;34m(\u001b[0m\u001b[0mres_values\u001b[0m\u001b[0;34m,\u001b[0m \u001b[0mname\u001b[0m\u001b[0;34m=\u001b[0m\u001b[0mres_name\u001b[0m\u001b[0;34m)\u001b[0m\u001b[0;34m\u001b[0m\u001b[0;34m\u001b[0m\u001b[0m\n",
      "\u001b[0;32m~/Desktop/git/numerai/venv/lib/python3.7/site-packages/pandas/core/ops/array_ops.py\u001b[0m in \u001b[0;36mcomparison_op\u001b[0;34m(left, right, op)\u001b[0m\n\u001b[1;32m    237\u001b[0m \u001b[0;34m\u001b[0m\u001b[0m\n\u001b[1;32m    238\u001b[0m     \u001b[0;32melif\u001b[0m \u001b[0mis_object_dtype\u001b[0m\u001b[0;34m(\u001b[0m\u001b[0mlvalues\u001b[0m\u001b[0;34m.\u001b[0m\u001b[0mdtype\u001b[0m\u001b[0;34m)\u001b[0m\u001b[0;34m:\u001b[0m\u001b[0;34m\u001b[0m\u001b[0;34m\u001b[0m\u001b[0m\n\u001b[0;32m--> 239\u001b[0;31m         \u001b[0mres_values\u001b[0m \u001b[0;34m=\u001b[0m \u001b[0mcomp_method_OBJECT_ARRAY\u001b[0m\u001b[0;34m(\u001b[0m\u001b[0mop\u001b[0m\u001b[0;34m,\u001b[0m \u001b[0mlvalues\u001b[0m\u001b[0;34m,\u001b[0m \u001b[0mrvalues\u001b[0m\u001b[0;34m)\u001b[0m\u001b[0;34m\u001b[0m\u001b[0;34m\u001b[0m\u001b[0m\n\u001b[0m\u001b[1;32m    240\u001b[0m \u001b[0;34m\u001b[0m\u001b[0m\n\u001b[1;32m    241\u001b[0m     \u001b[0;32melse\u001b[0m\u001b[0;34m:\u001b[0m\u001b[0;34m\u001b[0m\u001b[0;34m\u001b[0m\u001b[0m\n",
      "\u001b[0;32m~/Desktop/git/numerai/venv/lib/python3.7/site-packages/pandas/core/ops/array_ops.py\u001b[0m in \u001b[0;36mcomp_method_OBJECT_ARRAY\u001b[0;34m(op, x, y)\u001b[0m\n\u001b[1;32m     53\u001b[0m         \u001b[0mresult\u001b[0m \u001b[0;34m=\u001b[0m \u001b[0mlibops\u001b[0m\u001b[0;34m.\u001b[0m\u001b[0mvec_compare\u001b[0m\u001b[0;34m(\u001b[0m\u001b[0mx\u001b[0m\u001b[0;34m.\u001b[0m\u001b[0mravel\u001b[0m\u001b[0;34m(\u001b[0m\u001b[0;34m)\u001b[0m\u001b[0;34m,\u001b[0m \u001b[0my\u001b[0m\u001b[0;34m.\u001b[0m\u001b[0mravel\u001b[0m\u001b[0;34m(\u001b[0m\u001b[0;34m)\u001b[0m\u001b[0;34m,\u001b[0m \u001b[0mop\u001b[0m\u001b[0;34m)\u001b[0m\u001b[0;34m\u001b[0m\u001b[0;34m\u001b[0m\u001b[0m\n\u001b[1;32m     54\u001b[0m     \u001b[0;32melse\u001b[0m\u001b[0;34m:\u001b[0m\u001b[0;34m\u001b[0m\u001b[0;34m\u001b[0m\u001b[0m\n\u001b[0;32m---> 55\u001b[0;31m         \u001b[0mresult\u001b[0m \u001b[0;34m=\u001b[0m \u001b[0mlibops\u001b[0m\u001b[0;34m.\u001b[0m\u001b[0mscalar_compare\u001b[0m\u001b[0;34m(\u001b[0m\u001b[0mx\u001b[0m\u001b[0;34m.\u001b[0m\u001b[0mravel\u001b[0m\u001b[0;34m(\u001b[0m\u001b[0;34m)\u001b[0m\u001b[0;34m,\u001b[0m \u001b[0my\u001b[0m\u001b[0;34m,\u001b[0m \u001b[0mop\u001b[0m\u001b[0;34m)\u001b[0m\u001b[0;34m\u001b[0m\u001b[0;34m\u001b[0m\u001b[0m\n\u001b[0m\u001b[1;32m     56\u001b[0m     \u001b[0;32mreturn\u001b[0m \u001b[0mresult\u001b[0m\u001b[0;34m.\u001b[0m\u001b[0mreshape\u001b[0m\u001b[0;34m(\u001b[0m\u001b[0mx\u001b[0m\u001b[0;34m.\u001b[0m\u001b[0mshape\u001b[0m\u001b[0;34m)\u001b[0m\u001b[0;34m\u001b[0m\u001b[0;34m\u001b[0m\u001b[0m\n\u001b[1;32m     57\u001b[0m \u001b[0;34m\u001b[0m\u001b[0m\n",
      "\u001b[0;31mKeyboardInterrupt\u001b[0m: "
     ]
    }
   ],
   "source": [
    "while not done:\n",
    "    _,_, done = env.step(0.3)"
   ]
  },
  {
   "cell_type": "code",
   "execution_count": null,
   "metadata": {},
   "outputs": [],
   "source": []
  },
  {
   "cell_type": "code",
   "execution_count": null,
   "metadata": {},
   "outputs": [],
   "source": [
    "a = np.array([0.5,  0.75, 0.25, 0.5,  0.5,  0. ,  0.  ])\n",
    "b = np.array([0.001, 0.002, 0.002, 0.002, 0.002, 0.002, 0.002])\n",
    "correlation_score(a, b)"
   ]
  },
  {
   "cell_type": "code",
   "execution_count": null,
   "metadata": {},
   "outputs": [],
   "source": [
    "if not os.path.isdir('models'):\n",
    "    os.makedirs('models')"
   ]
  },
  {
   "cell_type": "code",
   "execution_count": null,
   "metadata": {},
   "outputs": [],
   "source": [
    "e=1\n",
    "d=0.85\n",
    "\n",
    "\n",
    "for x in range(4):\n",
    "    e*=d\n",
    "\n",
    "print(e)"
   ]
  },
  {
   "cell_type": "code",
   "execution_count": null,
   "metadata": {},
   "outputs": [],
   "source": []
  },
  {
   "cell_type": "code",
   "execution_count": null,
   "metadata": {},
   "outputs": [],
   "source": []
  },
  {
   "cell_type": "code",
   "execution_count": null,
   "metadata": {},
   "outputs": [],
   "source": []
  },
  {
   "cell_type": "code",
   "execution_count": null,
   "metadata": {},
   "outputs": [],
   "source": []
  },
  {
   "cell_type": "code",
   "execution_count": null,
   "metadata": {},
   "outputs": [],
   "source": []
  },
  {
   "cell_type": "code",
   "execution_count": 117,
   "metadata": {},
   "outputs": [],
   "source": [
    "\n",
    "DISCOUNT = 0.99\n",
    "\n",
    "REPLAY_MEMORY_SIZE = 150_000\n",
    "MIN_REPLAY_MEMORY_SIZE = 1_000\n",
    "\n",
    "MODEL_NAME = \"256x2\"\n",
    "MINIBATCH_SIZE = 64\n",
    "UPDATE_TARGET_EVERY = 5\n",
    "\n",
    "\n",
    "EPISODES = 20_000\n",
    "MIN_REWARD = -200\n",
    "AGGREGATE_STATS_EVERY = 10\n",
    "\n",
    "\n",
    "epsilon = 0.8  # not a constant, going to be decayed\n",
    "EPSILON_DECAY = 0.85\n",
    "MIN_EPSILON = 0.001\n",
    "\n",
    "ep_rewards = []\n",
    "aggr_ep_rewards = {'ep': [], 'avg': [], 'max': [], 'min': []}\n",
    "\n",
    "\n",
    "class DQNAgent:\n",
    "    def __init__(self):\n",
    "        # our main model this going to train every step\n",
    "        self.model = self.create_model()\n",
    "        \n",
    "        # target model this is what predict again every step\n",
    "        self.target_model = self.create_model()\n",
    "        self.target_model.set_weights(self.model.get_weights())\n",
    "        \n",
    "        self.replay_memory = deque(maxlen=REPLAY_MEMORY_SIZE)\n",
    "        \n",
    "        self.tensorboard = ModifiedTensorBoard(log_dir=f\"logs/{MODEL_NAME}{int(time.time())}\")\n",
    "        \n",
    "        self.target_update_counter = 0\n",
    "        \n",
    "    \n",
    "    def create_model(self):\n",
    "        model = Sequential()\n",
    "\n",
    "        model.add(Dense(256, input_shape=(env.OBSERVATION_SPACE_VALUES,)))  # OBSERVATION_SPACE_VALUES = (10, 10, 3) a 10x10 RGB image.\n",
    "        model.add(Dropout(0.2))\n",
    "        model.add(Dense(256, activation='relu')) \n",
    "        model.add(Dropout(0.2))\n",
    "        model.add(Dense(256, activation='relu')) \n",
    "        model.add(Dropout(0.2))\n",
    "        model.add(Dense(256, activation='relu')) \n",
    "        model.add(Dropout(0.2))\n",
    "        \n",
    "\n",
    "        model.add(Dense(env.ACTION_SPACE_SIZE, activation='linear'))  # ACTION_SPACE_SIZE = how many choices (9)\n",
    "        model.compile(loss=\"mse\", optimizer=Adam(lr=0.001), metrics=['accuracy'])\n",
    "        return model\n",
    "    \n",
    "    def create_model_2(self):\n",
    "        model = Sequential()\n",
    "\n",
    "        model.add(Conv2D(256, (3, 3), input_shape=env.OBSERVATION_SPACE_VALUES))  # OBSERVATION_SPACE_VALUES = (10, 10, 3) a 10x10 RGB image.\n",
    "        model.add(Activation('relu'))\n",
    "        model.add(MaxPooling2D(pool_size=(2, 2)))\n",
    "        model.add(Dropout(0.2))\n",
    "\n",
    "        model.add(Conv2D(256, (3, 3)))\n",
    "        model.add(Activation('relu'))\n",
    "        model.add(MaxPooling2D(pool_size=(2, 2)))\n",
    "        model.add(Dropout(0.2))\n",
    "\n",
    "        model.add(Flatten())  # this converts our 3D feature maps to 1D feature vectors\n",
    "        model.add(Dense(64))\n",
    "\n",
    "        model.add(Dense(env.ACTION_SPACE_SIZE, activation='linear'))  # ACTION_SPACE_SIZE = how many choices (9)\n",
    "        model.compile(loss=\"mse\", optimizer=Adam(lr=0.001), metrics=['accuracy'])\n",
    "        return model\n",
    "    \n",
    "    def update_replay_memory(self, transition):\n",
    "        self.replay_memory.append(transition)\n",
    "    \n",
    "    def get_qs(self, state):\n",
    "        return self.model.predict(np.array(state).reshape(-1, *state.shape)/1)[0]\n",
    "    \n",
    "    def train(self, terminal_state, step):\n",
    "        if len(self.replay_memory) <  MIN_REPLAY_MEMORY_SIZE:\n",
    "            return\n",
    "        \n",
    "        minibatch = random.sample(self.replay_memory, MINIBATCH_SIZE)\n",
    "        \n",
    "        current_states = np.array([transition[0] for transition in minibatch])/1\n",
    "        current_qs_list = self.model.predict(current_states)\n",
    "        \n",
    "        new_current_states = np.array([transition[3] for transition in minibatch])/1\n",
    "        \n",
    "        future_qs_list = self.target_model.predict(new_current_states)\n",
    "        \n",
    "        X = []\n",
    "        y = []\n",
    "        \n",
    "        for index, (current_state, action, reward, new_current_state, done) in enumerate(minibatch):\n",
    "            if not done:\n",
    "                max_future_q = np.max(future_qs_list[index])\n",
    "                new_q = reward + DISCOUNT * max_future_q\n",
    "            else:\n",
    "                new_q = reward\n",
    "                \n",
    "            current_qs = current_qs_list[index]\n",
    "            current_qs[action] = new_q\n",
    "            X.append(current_state)\n",
    "            y.append(current_qs)\n",
    "        \n",
    "        # print(\"fiting\")\n",
    "        self.model.fit(np.array(X)/1, np.array(y), batch_size=MINIBATCH_SIZE, \n",
    "                       verbose = 0, shuffle=False)\n",
    "                       # callbacks =[self.tensorboard] if terminal_state else None )\n",
    "        \n",
    "        if terminal_state:\n",
    "            self.target_update_counter += 1\n",
    "     \n",
    "        if self.target_update_counter > UPDATE_TARGET_EVERY:\n",
    "            self.target_model.set_weights(self.model.get_weights())\n",
    "            self.target_update_counter = 0\n",
    "            "
   ]
  },
  {
   "cell_type": "code",
   "execution_count": null,
   "metadata": {},
   "outputs": [],
   "source": []
  },
  {
   "cell_type": "code",
   "execution_count": 118,
   "metadata": {
    "scrolled": false
   },
   "outputs": [
    {
     "name": "stderr",
     "output_type": "stream",
     "text": [
      "\r",
      "  0%|          | 0/20000 [00:00<?, ?episode/s]"
     ]
    },
    {
     "name": "stdout",
     "output_type": "stream",
     "text": [
      "NEW ENV\n",
      "nan\n",
      "0.011042043859800434\n",
      "-0.01148162343154989\n",
      "-0.011723114463510728\n",
      "-0.01964932826836501\n",
      "-0.01883209107116685\n",
      "-0.017598666965306733\n",
      "-0.016632175780159464\n",
      "-0.004089942423016557\n",
      "0.003467267155481871\n",
      "-0.0005621879668908539\n",
      "-0.005851951316802512\n",
      "-0.018392024113182456\n",
      "-0.024447308457132746\n",
      "-0.019404535545152184\n",
      "-0.016293328222537054\n",
      "oldCorrelation -0.01642864047828511\n",
      "INFO:tensorflow:Assets written to: models/256x2____-1.03max___-1.03avg___-1.03min__1605812733.model/assets\n"
     ]
    },
    {
     "name": "stderr",
     "output_type": "stream",
     "text": [
      "\r",
      "  0%|          | 1/20000 [07:38<2549:50:27, 458.99s/episode]"
     ]
    },
    {
     "name": "stdout",
     "output_type": "stream",
     "text": [
      "NEW ENV\n",
      "nan\n",
      "-0.03825344746658556\n",
      "-0.06804770535409249\n",
      "-0.03468203646060476\n",
      "0.013539008677427068\n",
      "0.008416790557026738\n",
      "0.010569042732062576\n",
      "0.01328426515691432\n",
      "0.014140665828589178\n",
      "0.011772298026606693\n",
      "0.013649481871823304\n",
      "0.015331483512198136\n",
      "0.022373816364904965\n",
      "0.013822050097658658\n",
      "0.018031337388442686\n",
      "0.018301286251540913\n"
     ]
    },
    {
     "name": "stderr",
     "output_type": "stream",
     "text": [
      "\r",
      "  0%|          | 2/20000 [16:52<2707:05:18, 487.32s/episode]"
     ]
    },
    {
     "name": "stdout",
     "output_type": "stream",
     "text": [
      "oldCorrelation 0.019691230380335545\n",
      "NEW ENV\n",
      "nan\n",
      "0.023248818059203608\n",
      "0.035195313670279414\n",
      "0.029392611061617856\n",
      "0.00834892929612975\n",
      "0.011109488801380532\n",
      "0.023814335961362003\n",
      "0.008740210121851784\n",
      "-0.00636470442804453\n",
      "-0.00864028686315514\n",
      "-0.007026565431564934\n",
      "-0.009091670826962361\n",
      "-0.010076009973973298\n",
      "-0.009043729605645506\n",
      "-0.005040581065174689\n",
      "0.002467625707144543\n"
     ]
    },
    {
     "name": "stderr",
     "output_type": "stream",
     "text": [
      "\r",
      "  0%|          | 3/20000 [26:29<2855:57:16, 514.15s/episode]"
     ]
    },
    {
     "name": "stdout",
     "output_type": "stream",
     "text": [
      "oldCorrelation -0.0009393482317375296\n",
      "NEW ENV\n",
      "nan\n",
      "0.08510179806416104\n",
      "0.029407877824309828\n",
      "0.014506072596244946\n",
      "0.023904767892058934\n",
      "0.008672566957334657\n",
      "0.0011689718977208692\n",
      "-0.003453966831314988\n",
      "0.0026606483547181063\n",
      "-0.005354257833307239\n",
      "-0.007927256005656401\n",
      "-0.011810887313637683\n",
      "-0.012620607777427772\n",
      "-0.010716923699043451\n",
      "-0.006057094836930646\n"
     ]
    },
    {
     "name": "stderr",
     "output_type": "stream",
     "text": [
      "\r",
      "  0%|          | 4/20000 [35:39<2915:28:45, 524.89s/episode]"
     ]
    },
    {
     "name": "stdout",
     "output_type": "stream",
     "text": [
      "oldCorrelation -0.0035130750049325865\n",
      "NEW ENV\n",
      "nan\n",
      "-0.03060618379894742\n",
      "-0.04075394326511762\n",
      "-0.024913523483799688\n",
      "-0.023677533107528688\n",
      "-0.007399739001636534\n",
      "0.0018683509618506616\n",
      "-0.027408577430930052\n",
      "-0.02285773594063345\n",
      "-0.025534071724828796\n",
      "-0.0290369141072803\n",
      "-0.021077139544230048\n",
      "-0.021764353682835105\n",
      "-0.03130672972296775\n"
     ]
    },
    {
     "name": "stderr",
     "output_type": "stream",
     "text": [
      "\r",
      "  0%|          | 5/20000 [43:58<2872:36:05, 517.20s/episode]"
     ]
    },
    {
     "name": "stdout",
     "output_type": "stream",
     "text": [
      "oldCorrelation -0.030863040681397075\n",
      "NEW ENV\n",
      "nan\n",
      "0.02403150576299304\n",
      "0.013913855694078098\n",
      "-0.022319851099316935\n",
      "-0.0034759716552950465\n",
      "-0.0015950894120394183\n",
      "0.006890193461582564\n",
      "0.00219367428707558\n",
      "-0.002566072816567927\n",
      "-0.004754831986053059\n",
      "-0.01739061565892599\n",
      "-0.01192498238476227\n",
      "-0.014715580175760457\n",
      "-0.018302786502665216\n",
      "-0.025256808597909537\n",
      "-0.027487887680477843\n"
     ]
    },
    {
     "name": "stderr",
     "output_type": "stream",
     "text": [
      "\r",
      "  0%|          | 6/20000 [53:53<3001:49:18, 540.49s/episode]"
     ]
    },
    {
     "name": "stdout",
     "output_type": "stream",
     "text": [
      "oldCorrelation -0.027692921587295027\n",
      "NEW ENV\n",
      "nan\n",
      "0.045278995765788484\n",
      "0.002285024895749806\n",
      "0.03880057187007285\n",
      "-0.002628412321035781\n",
      "0.015763185752108378\n",
      "0.03366761343688582\n",
      "0.01903224075051482\n",
      "0.024651704463053474\n",
      "0.015284951377165054\n",
      "0.011221720246040854\n",
      "0.010782992886864599\n",
      "0.015299235515747753\n",
      "0.027897958529762762\n",
      "0.019595081582058797\n"
     ]
    },
    {
     "name": "stderr",
     "output_type": "stream",
     "text": [
      "\r",
      "  0%|          | 7/20000 [1:03:18<3042:40:24, 547.87s/episode]"
     ]
    },
    {
     "name": "stdout",
     "output_type": "stream",
     "text": [
      "oldCorrelation 0.01754916275311635\n",
      "NEW ENV\n",
      "nan\n",
      "0.07122615739886841\n",
      "0.05019915746360761\n",
      "0.0870046721813748\n",
      "0.058279147826673434\n",
      "0.06676449247679424\n",
      "0.06945895410933363\n",
      "0.07222766620504976\n",
      "0.062232743855805295\n",
      "0.06667937687418635\n",
      "0.052820569888343404\n",
      "0.04950023279988155\n",
      "0.04801350062633822\n",
      "0.03690213750158577\n",
      "0.02992862306744561\n"
     ]
    },
    {
     "name": "stderr",
     "output_type": "stream",
     "text": [
      "\r",
      "  0%|          | 8/20000 [1:12:41<3068:41:15, 552.58s/episode]"
     ]
    },
    {
     "name": "stdout",
     "output_type": "stream",
     "text": [
      "oldCorrelation 0.029930894682655026\n",
      "NEW ENV\n",
      "nan\n",
      "0.0889198294056461\n",
      "0.007806930588185962\n",
      "0.0015617601662632594\n",
      "0.004704782552224174\n",
      "-0.02453206319954509\n",
      "0.000402785264499353\n",
      "-0.0011691296645449944\n",
      "0.007118578839799842\n",
      "-0.0012180786462268355\n",
      "0.002652662687043667\n",
      "-0.0036385096139788563\n",
      "0.0002112199749763473\n",
      "-0.0006029683919412615\n",
      "0.0001210371834658106\n",
      "0.00031939291495351795\n"
     ]
    },
    {
     "name": "stderr",
     "output_type": "stream",
     "text": [
      "\r",
      "  0%|          | 9/20000 [1:22:50<3162:18:59, 569.47s/episode]"
     ]
    },
    {
     "name": "stdout",
     "output_type": "stream",
     "text": [
      "oldCorrelation 0.00032398210214948706\n",
      "NEW ENV\n",
      "nan\n",
      "0.016033540135549668\n",
      "0.023188644418498123\n",
      "0.043240898951974346\n",
      "0.03598368108635955\n",
      "0.02963592967634645\n",
      "0.03775342618058006\n",
      "0.037539457782049576\n",
      "0.02524448430245801\n",
      "0.026136179032274866\n",
      "0.016477703660068736\n",
      "0.017804184302653694\n",
      "0.016980305445532126\n",
      "0.011431339199022903\n",
      "0.0054862577121427124\n",
      "-0.010573574901900511\n",
      "oldCorrelation -0.014373774815264757\n",
      "INFO:tensorflow:Assets written to: models/256x2____-0.94max___-1.01avg___-1.06min__1605817872.model/assets\n"
     ]
    },
    {
     "name": "stderr",
     "output_type": "stream",
     "text": [
      "\r",
      "  0%|          | 10/20000 [1:33:18<3258:46:55, 586.87s/episode]"
     ]
    },
    {
     "name": "stdout",
     "output_type": "stream",
     "text": [
      "NEW ENV\n",
      "nan\n",
      "-0.03421105994901777\n",
      "-0.0036064078253154283\n",
      "-0.01367193546880395\n",
      "-0.01060387938017373\n",
      "-0.006969953113384444\n",
      "-0.010442411700126018\n",
      "-0.001459467319417995\n",
      "-0.005088685891736559\n",
      "-0.008881342968859928\n",
      "0.005158109799876167\n",
      "0.0037013524315439353\n",
      "-8.966088232340495e-05\n",
      "0.001465841891336836\n"
     ]
    },
    {
     "name": "stderr",
     "output_type": "stream",
     "text": [
      "\r",
      "  0%|          | 11/20000 [1:42:11<3169:34:14, 570.84s/episode]"
     ]
    },
    {
     "name": "stdout",
     "output_type": "stream",
     "text": [
      "oldCorrelation 0.006418501609917597\n",
      "NEW ENV\n",
      "nan\n",
      "-0.0018085728785836662\n",
      "0.005430815134688426\n",
      "-0.02495978604040345\n",
      "-0.016833512778614848\n",
      "-0.011204316427326935\n",
      "0.001608919512525387\n",
      "-0.010013759264739974\n",
      "-0.006177777957269456\n",
      "0.0019994707415090817\n",
      "0.006776088961483167\n",
      "0.004853737525902619\n",
      "0.0027334352559053466\n",
      "-0.0038971890827402714\n",
      "-0.005285023667988419\n"
     ]
    },
    {
     "name": "stderr",
     "output_type": "stream",
     "text": [
      "\r",
      "  0%|          | 12/20000 [1:51:13<3121:26:38, 562.20s/episode]"
     ]
    },
    {
     "name": "stdout",
     "output_type": "stream",
     "text": [
      "oldCorrelation -0.01039233697239769\n",
      "NEW ENV\n",
      "nan\n",
      "0.06409011003516872\n",
      "0.061206751459607286\n",
      "0.052128583024634495\n",
      "0.028869581683546638\n",
      "0.008957779353531875\n",
      "0.011513421233116654\n",
      "0.005404167821130414\n",
      "0.010960172252876339\n",
      "0.005935607440781956\n",
      "0.011864240886658708\n",
      "0.016193524368608495\n",
      "0.016191036372891442\n",
      "0.016370621641172933\n",
      "0.013819164364349176\n",
      "0.010791627408966952\n"
     ]
    },
    {
     "name": "stderr",
     "output_type": "stream",
     "text": [
      "\r",
      "  0%|          | 13/20000 [2:00:28<3109:41:06, 560.11s/episode]"
     ]
    },
    {
     "name": "stdout",
     "output_type": "stream",
     "text": [
      "oldCorrelation 0.012796565496124124\n",
      "NEW ENV\n",
      "nan\n",
      "-0.07829250484883474\n",
      "-0.06127417610259875\n",
      "-0.06447236575083404\n",
      "-0.05763222392061172\n",
      "-0.05139065020839507\n",
      "-0.03710859239766458\n",
      "-0.025967474330950906\n",
      "-0.01783691325420999\n",
      "-0.01255396618112681\n",
      "-0.008660429799830916\n",
      "-0.007101855909997125\n"
     ]
    },
    {
     "name": "stderr",
     "output_type": "stream",
     "text": [
      "\r",
      "  0%|          | 14/20000 [2:07:40<2894:50:06, 521.44s/episode]"
     ]
    },
    {
     "name": "stdout",
     "output_type": "stream",
     "text": [
      "oldCorrelation -0.010916535377122014\n",
      "NEW ENV\n",
      "nan\n",
      "0.08238561075815513\n",
      "0.06152846394446416\n",
      "0.03674187793010516\n",
      "0.05232219015113496\n",
      "0.0352178626663621\n",
      "0.029591740126283267\n",
      "0.023112628080852474\n",
      "0.025625899274412275\n",
      "0.011901810008619866\n",
      "0.010908245702487282\n",
      "0.007453486525074727\n",
      "0.019140475690397746\n",
      "0.020710818297909366\n",
      "0.027865562888922567\n"
     ]
    },
    {
     "name": "stderr",
     "output_type": "stream",
     "text": [
      "\r",
      "  0%|          | 15/20000 [2:16:27<2904:32:05, 523.21s/episode]"
     ]
    },
    {
     "name": "stdout",
     "output_type": "stream",
     "text": [
      "oldCorrelation 0.033013763090874636\n",
      "NEW ENV\n",
      "nan\n",
      "-0.01538584787974372\n",
      "-0.01798079427528104\n",
      "-0.013792706337994412\n",
      "-0.01347612764964896\n",
      "0.0021057916857652897\n",
      "0.0019163180488125208\n",
      "0.003374347563467385\n",
      "0.01021123756705058\n",
      "0.005247402037050414\n",
      "-0.0037485424512624776\n",
      "-0.00014144961853040952\n",
      "-0.0005380098080968114\n",
      "-0.005061370953114843\n",
      "-0.0001948073851762806\n"
     ]
    },
    {
     "name": "stderr",
     "output_type": "stream",
     "text": [
      "\r",
      "  0%|          | 16/20000 [2:25:10<2904:09:46, 523.17s/episode]"
     ]
    },
    {
     "name": "stdout",
     "output_type": "stream",
     "text": [
      "oldCorrelation -0.0005877219471001125\n",
      "NEW ENV\n",
      "nan\n",
      "-0.032476664731362584\n",
      "-0.0031669347500445483\n",
      "-0.02979945933335328\n",
      "-0.014375291876199207\n",
      "-0.02034593889864254\n",
      "-0.012122571604047928\n",
      "-0.006570003692761189\n",
      "-0.018194549154040642\n",
      "-0.024353208953479148\n",
      "-0.029773879937266476\n",
      "-0.023121372083526433\n",
      "-0.015710120121887976\n",
      "-0.013689671343890035\n",
      "-0.020333684408379765\n"
     ]
    },
    {
     "name": "stderr",
     "output_type": "stream",
     "text": [
      "\r",
      "  0%|          | 17/20000 [2:34:01<2916:25:06, 525.40s/episode]"
     ]
    },
    {
     "name": "stdout",
     "output_type": "stream",
     "text": [
      "oldCorrelation -0.01870502785777572\n",
      "NEW ENV\n",
      "nan\n",
      "-0.037692636367345524\n",
      "-0.05933313918510544\n",
      "-0.030230994661648036\n",
      "-0.03097161768212142\n",
      "-0.03812278553295991\n",
      "-0.03905365606928573\n",
      "-0.031783144892349416\n",
      "-0.02071995145739294\n",
      "-0.02113843865156644\n",
      "-0.017197082907209643\n",
      "-0.019235235740109775\n",
      "-0.02130963783693137\n",
      "-0.01843879740930768\n",
      "-0.020683349985161314\n"
     ]
    },
    {
     "name": "stderr",
     "output_type": "stream",
     "text": [
      "\r",
      "  0%|          | 18/20000 [2:43:11<2958:10:07, 532.95s/episode]"
     ]
    },
    {
     "name": "stdout",
     "output_type": "stream",
     "text": [
      "oldCorrelation -0.02341857022790625\n",
      "NEW ENV\n",
      "nan\n",
      "0.12048174192882838\n",
      "0.08758816461494234\n",
      "0.05414748767915662\n",
      "0.05475029683594975\n",
      "0.03412442925869926\n",
      "0.03224598378477422\n",
      "0.032983059452540486\n",
      "0.026338364549353902\n",
      "0.018348010256692342\n",
      "0.026126625608045684\n",
      "0.025631989984912576\n",
      "0.0279242748901498\n",
      "0.02841828092102271\n",
      "0.028681575512624846\n"
     ]
    },
    {
     "name": "stderr",
     "output_type": "stream",
     "text": [
      "\r",
      "  0%|          | 19/20000 [2:52:16<2978:19:03, 536.61s/episode]"
     ]
    },
    {
     "name": "stdout",
     "output_type": "stream",
     "text": [
      "oldCorrelation 0.03423369331401501\n",
      "NEW ENV\n",
      "nan\n",
      "0.03818257782772302\n",
      "0.005627470031282647\n",
      "-0.010424921065979623\n",
      "-0.011142166506752461\n",
      "-0.0069430024699238336\n",
      "-0.014924205144257918\n",
      "-0.0075801512659866375\n",
      "0.0034138614687358945\n",
      "0.00230775210558176\n",
      "-0.0031821775023248935\n",
      "-0.010907382254850256\n",
      "-0.01177806391134235\n",
      "-0.006211714451186271\n",
      "-0.007295790819744106\n",
      "-0.008425364227565268\n",
      "oldCorrelation -0.008782681115257584\n",
      "INFO:tensorflow:Assets written to: models/256x2____-0.93max___-1.00avg___-1.05min__1605823176.model/assets\n"
     ]
    },
    {
     "name": "stderr",
     "output_type": "stream",
     "text": [
      "\r",
      "  0%|          | 20/20000 [3:01:42<3026:40:33, 545.35s/episode]"
     ]
    },
    {
     "name": "stdout",
     "output_type": "stream",
     "text": [
      "NEW ENV\n",
      "nan\n",
      "0.08895204242507558\n",
      "0.06738364457432694\n",
      "0.0484819969425339\n",
      "0.031842096960684914\n",
      "0.04244458855461519\n",
      "0.03231066193345775\n",
      "0.028655597121189036\n",
      "0.028550406761330784\n",
      "0.03271757567733134\n",
      "0.014780097385471723\n",
      "0.017639755076793568\n",
      "0.013719654628175263\n",
      "0.005241873092758797\n",
      "0.002354528331345484\n"
     ]
    },
    {
     "name": "stderr",
     "output_type": "stream",
     "text": [
      "\r",
      "  0%|          | 21/20000 [3:10:58<3043:54:37, 548.48s/episode]"
     ]
    },
    {
     "name": "stdout",
     "output_type": "stream",
     "text": [
      "oldCorrelation 0.0042415961413041995\n",
      "NEW ENV\n",
      "nan\n",
      "-0.048653721162400396\n",
      "-0.0844776601311046\n",
      "-0.077533902701285\n",
      "-0.06917562846481068\n",
      "-0.07272637356380081\n",
      "-0.054007014170306275\n",
      "-0.047700426646071804\n",
      "-0.041495162311347575\n",
      "-0.034002951388870946\n",
      "-0.022569426281252924\n",
      "-0.01186441778904933\n",
      "-0.003412002320692501\n",
      "-0.005151838908662719\n"
     ]
    },
    {
     "name": "stderr",
     "output_type": "stream",
     "text": [
      "\r",
      "  0%|          | 22/20000 [3:19:37<2995:24:55, 539.77s/episode]"
     ]
    },
    {
     "name": "stdout",
     "output_type": "stream",
     "text": [
      "oldCorrelation -0.000636834382419213\n",
      "NEW ENV\n",
      "nan\n",
      "0.006643947800206598\n",
      "0.026991278611409125\n",
      "0.021732954089593446\n",
      "0.026779159704968022\n",
      "0.03517591617491332\n",
      "0.012689523617149074\n",
      "0.015663810134456294\n",
      "0.03445016574610177\n",
      "0.034952176604353916\n",
      "0.028170561024290493\n",
      "0.023996101630903988\n",
      "0.027293983504545004\n",
      "0.027177122664707794\n",
      "0.023670021147977914\n",
      "0.028543897133028465\n"
     ]
    },
    {
     "name": "stderr",
     "output_type": "stream",
     "text": [
      "\r",
      "  0%|          | 23/20000 [3:29:42<3102:38:16, 559.12s/episode]"
     ]
    },
    {
     "name": "stdout",
     "output_type": "stream",
     "text": [
      "oldCorrelation 0.028565445913719015\n",
      "NEW ENV\n",
      "nan\n",
      "-0.061007357535928085\n",
      "-0.09241599044034654\n",
      "-0.03920689456844192\n",
      "-0.008864076150107864\n",
      "-0.00816179163817462\n",
      "-0.002482883635814384\n",
      "0.009271809207924515\n",
      "0.012446827734664311\n",
      "0.0010192224440101528\n",
      "0.0010099628199454818\n",
      "-0.0007263880869956797\n",
      "0.007105104715663839\n",
      "0.008732948631977247\n",
      "0.006127734230859366\n"
     ]
    },
    {
     "name": "stderr",
     "output_type": "stream",
     "text": [
      "\r",
      "  0%|          | 24/20000 [3:38:57<3096:29:31, 558.04s/episode]"
     ]
    },
    {
     "name": "stdout",
     "output_type": "stream",
     "text": [
      "oldCorrelation -0.00015754902219346868\n",
      "NEW ENV\n",
      "nan\n",
      "-0.0427964468246987\n",
      "-0.04763063519072401\n",
      "-0.01795527424392179\n",
      "-0.011972231401480809\n",
      "-0.01006252938732591\n",
      "-0.015625989315121127\n",
      "-0.00918487451984417\n",
      "0.0013065375920554233\n",
      "-0.0055938727799100495\n"
     ]
    },
    {
     "name": "stderr",
     "output_type": "stream",
     "text": [
      "\r",
      "  0%|          | 25/20000 [3:44:51<2756:27:26, 496.78s/episode]"
     ]
    },
    {
     "name": "stdout",
     "output_type": "stream",
     "text": [
      "oldCorrelation -0.003781318605615837\n",
      "NEW ENV\n",
      "nan\n",
      "0.03142157964611245\n",
      "0.026473947162432263\n",
      "0.03796068935007791\n",
      "0.043011172033045275\n",
      "0.05323763199528548\n",
      "0.05147519581815393\n",
      "0.03439760389970176\n",
      "0.031005428494461213\n",
      "0.04351034057884055\n",
      "0.0386559725164367\n",
      "0.03962953201081738\n",
      "0.03459927224928971\n",
      "0.03697103855442705\n",
      "0.033918864764222074\n",
      "0.03301676502228038\n"
     ]
    },
    {
     "name": "stderr",
     "output_type": "stream",
     "text": [
      "\r",
      "  0%|          | 26/20000 [3:54:40<2909:32:24, 524.40s/episode]"
     ]
    },
    {
     "name": "stdout",
     "output_type": "stream",
     "text": [
      "oldCorrelation 0.031559919365728245\n",
      "NEW ENV\n",
      "nan\n",
      "-0.07670387102800423\n",
      "-0.1324696365544955\n",
      "-0.08745898874318736\n",
      "-0.07287862053309083\n",
      "-0.06709370044420204\n",
      "-0.047308100291613385\n",
      "-0.04706401105246245\n",
      "-0.051196560527376415\n",
      "-0.043139283991001\n",
      "-0.04288786994358926\n",
      "-0.0337110414013898\n",
      "-0.029169593649740512\n",
      "-0.026225907256353723\n",
      "-0.019252757385116018\n",
      "-0.021132769793489162\n"
     ]
    },
    {
     "name": "stderr",
     "output_type": "stream",
     "text": [
      "\r",
      "  0%|          | 27/20000 [4:04:13<2991:11:05, 539.14s/episode]"
     ]
    },
    {
     "name": "stdout",
     "output_type": "stream",
     "text": [
      "oldCorrelation -0.022315834687536566\n",
      "NEW ENV\n",
      "nan\n",
      "0.01878634369416873\n",
      "-0.030849450438391282\n",
      "-0.047225228918040055\n",
      "-0.02413908811578207\n",
      "-0.0037588001258141127\n",
      "0.003885304342624262\n",
      "-0.010132950881075208\n",
      "-0.0064861816041463785\n",
      "-0.010575568756490024\n",
      "-0.010208643533099186\n",
      "-0.007192017047883377\n",
      "-0.006213760432467431\n",
      "-0.002903450212561132\n",
      "-0.0018745994638009942\n"
     ]
    },
    {
     "name": "stderr",
     "output_type": "stream",
     "text": [
      "\r",
      "  0%|          | 28/20000 [4:13:32<3023:08:00, 544.93s/episode]"
     ]
    },
    {
     "name": "stdout",
     "output_type": "stream",
     "text": [
      "oldCorrelation 0.004971297558320464\n",
      "NEW ENV\n",
      "nan\n",
      "-0.011982830548166947\n",
      "0.016490735253567222\n",
      "0.005594039138745763\n",
      "0.013667818724482604\n",
      "0.014757111534231841\n",
      "0.01506917917932733\n",
      "0.008071404884944362\n",
      "0.008892995743296649\n",
      "0.017926938512187525\n",
      "0.01461686119384643\n",
      "0.010171760530591597\n",
      "0.008323876528417734\n",
      "0.014516315659568933\n",
      "0.017505738319138313\n",
      "0.01869403032031634\n"
     ]
    },
    {
     "name": "stderr",
     "output_type": "stream",
     "text": [
      "\r",
      "  0%|          | 29/20000 [4:23:39<3125:56:07, 563.49s/episode]"
     ]
    },
    {
     "name": "stdout",
     "output_type": "stream",
     "text": [
      "oldCorrelation 0.015068194410339424\n",
      "NEW ENV\n",
      "nan\n",
      "-0.05616902308039058\n",
      "-0.039397007808056286\n",
      "-0.04381974406619998\n",
      "-0.05224365479321953\n",
      "-0.02732647775271561\n",
      "-0.0334021032506493\n",
      "-0.05026192140043894\n",
      "-0.048872613600772635\n",
      "-0.03520707673363063\n",
      "-0.023411407167398143\n",
      "-0.025297755651725515\n",
      "oldCorrelation -0.027674147120761793\n",
      "INFO:tensorflow:Assets written to: models/256x2____-0.94max___-0.99avg___-1.06min__1605828541.model/assets\n"
     ]
    },
    {
     "name": "stderr",
     "output_type": "stream",
     "text": [
      "\r",
      "  0%|          | 30/20000 [4:31:07<2933:35:07, 528.84s/episode]"
     ]
    },
    {
     "name": "stdout",
     "output_type": "stream",
     "text": [
      "NEW ENV\n",
      "nan\n",
      "0.013748212035203084\n",
      "0.01146668903929777\n",
      "0.03649162893317214\n",
      "0.02410668657664341\n",
      "0.02909400734371212\n",
      "0.03273805679718452\n",
      "0.025493110670640685\n",
      "0.025282005902097386\n",
      "0.020355530271885205\n",
      "0.017635330316259523\n",
      "0.031041802625313\n",
      "0.026864447110701926\n",
      "0.021588478355999748\n"
     ]
    },
    {
     "name": "stderr",
     "output_type": "stream",
     "text": [
      "\r",
      "  0%|          | 31/20000 [4:39:27<2886:50:15, 520.44s/episode]"
     ]
    },
    {
     "name": "stdout",
     "output_type": "stream",
     "text": [
      "oldCorrelation 0.021994106680781562\n",
      "NEW ENV\n",
      "nan\n",
      "-0.04542936166055327\n",
      "-0.02193706718537993\n",
      "-0.03023397373790271\n",
      "-0.012331720753335834\n",
      "-0.029685776484877337\n",
      "-0.018695859556738338\n",
      "-0.007585608171227798\n",
      "-0.0007395018818241932\n",
      "-0.003723875636010008\n",
      "0.0038982158015650856\n",
      "0.005314821377736658\n"
     ]
    },
    {
     "name": "stderr",
     "output_type": "stream",
     "text": [
      "\r",
      "  0%|          | 32/20000 [4:46:41<2742:53:40, 494.51s/episode]"
     ]
    },
    {
     "name": "stdout",
     "output_type": "stream",
     "text": [
      "oldCorrelation 0.004936357654116268\n",
      "NEW ENV\n",
      "nan\n",
      "0.03811036148041346\n",
      "0.004746315752642555\n",
      "-0.0147929147121972\n",
      "-0.009727797894816675\n",
      "-0.008791984219301566\n",
      "-0.0028420318150478782\n",
      "-0.0013256922900884108\n",
      "-0.010345508216580208\n",
      "-0.02012907558614368\n",
      "-0.027476233168137028\n"
     ]
    },
    {
     "name": "stderr",
     "output_type": "stream",
     "text": [
      "\r",
      "  0%|          | 33/20000 [4:52:56<2544:00:06, 458.68s/episode]"
     ]
    },
    {
     "name": "stdout",
     "output_type": "stream",
     "text": [
      "oldCorrelation -0.02738176898714682\n",
      "NEW ENV\n",
      "nan\n",
      "-0.02783158627782903\n",
      "-0.009859234526484096\n",
      "-0.010099358707813916\n",
      "-0.01884088016463607\n",
      "-0.021026460351200343\n",
      "-0.008950098200589703\n",
      "-0.012957793699742443\n",
      "-0.014195440837743553\n",
      "-0.007484222891886828\n",
      "-0.004368609981168346\n",
      "-0.011492735937192185\n",
      "-0.014522801143856994\n",
      "-0.019074875513025676\n",
      "-0.017877809514540984\n",
      "-0.011870020101030384\n"
     ]
    },
    {
     "name": "stderr",
     "output_type": "stream",
     "text": [
      "\r",
      "  0%|          | 34/20000 [5:02:27<2730:28:36, 492.32s/episode]"
     ]
    },
    {
     "name": "stdout",
     "output_type": "stream",
     "text": [
      "oldCorrelation -0.012721155068395376\n",
      "NEW ENV\n",
      "nan\n",
      "0.010780980170207939\n",
      "-0.004752990145673114\n",
      "0.012271072363574687\n",
      "0.005291913373766195\n",
      "0.0034549357525493502\n",
      "0.0033809086755592264\n",
      "-0.0007565564486992394\n",
      "-0.003481846058039072\n",
      "0.0005777450262760065\n",
      "-0.0013985800743328898\n",
      "-0.00844047428900042\n",
      "-0.006364153874294749\n",
      "-0.0070927288756911745\n",
      "-0.0013616929896892137\n",
      "-0.004712176105064645\n"
     ]
    },
    {
     "name": "stderr",
     "output_type": "stream",
     "text": [
      "\r",
      "  0%|          | 35/20000 [5:12:36<2924:46:00, 527.38s/episode]"
     ]
    },
    {
     "name": "stdout",
     "output_type": "stream",
     "text": [
      "oldCorrelation -0.0010664763860265224\n",
      "NEW ENV\n",
      "nan\n",
      "-0.06384265655131965\n",
      "3.116125241751611e-05\n",
      "0.01971158741784704\n",
      "0.008607240753825792\n",
      "-0.005909372753581795\n",
      "0.007523288810195486\n",
      "0.019413834267066943\n",
      "0.020278653113446312\n",
      "0.017886252570649356\n",
      "0.011811318655843868\n",
      "0.010171796709809965\n",
      "0.005420631501962632\n",
      "0.006788334005054036\n",
      "0.01296978699474455\n"
     ]
    },
    {
     "name": "stderr",
     "output_type": "stream",
     "text": [
      "\r",
      "  0%|          | 36/20000 [5:21:33<2940:35:26, 530.26s/episode]"
     ]
    },
    {
     "name": "stdout",
     "output_type": "stream",
     "text": [
      "oldCorrelation 0.012740132240535575\n",
      "NEW ENV\n",
      "nan\n",
      "-0.030054637589043542\n",
      "-0.020251657334799413\n",
      "-0.015163501205568216\n",
      "-0.003958844644259222\n",
      "-0.003802761557791354\n",
      "-0.0002480933225007802\n",
      "-0.0008274006203394997\n",
      "-0.01606382521423583\n",
      "-0.005544315903325704\n",
      "-0.00669625854530338\n",
      "-0.00921939015665876\n",
      "-0.003305092187091521\n",
      "-0.007313306405979923\n",
      "-0.010302326361307046\n"
     ]
    },
    {
     "name": "stderr",
     "output_type": "stream",
     "text": [
      "\r",
      "  0%|          | 37/20000 [5:30:38<2963:25:40, 534.41s/episode]"
     ]
    },
    {
     "name": "stdout",
     "output_type": "stream",
     "text": [
      "oldCorrelation -0.009509022801965998\n",
      "NEW ENV\n",
      "nan\n",
      "0.04859509954423103\n",
      "0.031151416168657565\n",
      "0.01866529999082808\n",
      "0.04620792381232659\n",
      "0.040580671929758366\n",
      "0.04604258464514305\n",
      "0.036028022986707195\n",
      "0.02381937392062881\n",
      "0.009407269346413498\n",
      "-0.004329908924966562\n",
      "-0.0050660430422244445\n",
      "-0.005957291078294413\n",
      "0.0015557383152409007\n",
      "4.535898872282062e-05\n"
     ]
    },
    {
     "name": "stderr",
     "output_type": "stream",
     "text": [
      "\r",
      "  0%|          | 38/20000 [5:40:05<3017:40:31, 544.22s/episode]"
     ]
    },
    {
     "name": "stdout",
     "output_type": "stream",
     "text": [
      "oldCorrelation 0.002409555849202193\n",
      "NEW ENV\n",
      "nan\n",
      "-0.004867163533935188\n",
      "-0.0067644680588153806\n",
      "0.008407874383518423\n",
      "-0.006751183429087527\n",
      "-0.006265372418033311\n",
      "0.00480058030087305\n",
      "0.002664186193215103\n",
      "0.00894923317038042\n",
      "0.0027291452323071003\n",
      "-0.008079499237691235\n",
      "-0.004513156890083479\n",
      "-0.002518198401464327\n",
      "0.005748718464179773\n",
      "0.0020713152604609096\n"
     ]
    },
    {
     "name": "stderr",
     "output_type": "stream",
     "text": [
      "\r",
      "  0%|          | 39/20000 [5:49:09<3017:43:26, 544.25s/episode]"
     ]
    },
    {
     "name": "stdout",
     "output_type": "stream",
     "text": [
      "oldCorrelation 0.0036684546105692517\n",
      "NEW ENV\n",
      "nan\n",
      "0.08566003554181092\n",
      "0.046450695559205245\n",
      "0.0012283582252129697\n",
      "0.007281958366228852\n",
      "-0.010256917180868923\n",
      "-0.017190098047450655\n",
      "-0.01918726483742803\n",
      "-0.02768248555488862\n",
      "-0.01935353167973744\n",
      "-0.012704014345992332\n",
      "-0.013207933687671671\n",
      "-0.015128958976781999\n",
      "-0.011697735738094066\n",
      "oldCorrelation -0.010485311286210363\n",
      "INFO:tensorflow:Assets written to: models/256x2____-0.96max___-1.00avg___-1.05min__1605833756.model/assets\n"
     ]
    },
    {
     "name": "stderr",
     "output_type": "stream",
     "text": [
      "\r",
      "  0%|          | 40/20000 [5:58:02<2998:43:16, 540.85s/episode]"
     ]
    },
    {
     "name": "stdout",
     "output_type": "stream",
     "text": [
      "NEW ENV\n",
      "nan\n",
      "0.044502847280561766\n",
      "0.05715877516272894\n",
      "0.03959578335440474\n",
      "-0.003182237435714076\n",
      "-0.008594279751168622\n",
      "-0.002342709894562994\n",
      "0.015171412259589402\n",
      "0.00032445746180532456\n",
      "-2.3805546653517198e-05\n",
      "0.013968510395403902\n",
      "0.012950927913292746\n",
      "0.005300734043958497\n",
      "0.006434052916990447\n",
      "-0.0005493658798875249\n",
      "0.0015671285885624177\n"
     ]
    },
    {
     "name": "stderr",
     "output_type": "stream",
     "text": [
      "\r",
      "  0%|          | 41/20000 [6:07:45<3069:38:59, 553.67s/episode]"
     ]
    },
    {
     "name": "stdout",
     "output_type": "stream",
     "text": [
      "oldCorrelation -0.00229744226232465\n",
      "NEW ENV\n",
      "nan\n",
      "-0.10080858268505397\n",
      "-0.04445166544368915\n",
      "-0.05436011854443088\n",
      "-0.06434648999580174\n",
      "-0.029913742272150753\n",
      "-0.01849368897358159\n",
      "-0.012442814499223355\n",
      "-0.006903467843531532\n",
      "-0.012456906827932065\n",
      "-0.011946701199169294\n",
      "-0.008317452034353986\n"
     ]
    },
    {
     "name": "stderr",
     "output_type": "stream",
     "text": [
      "\r",
      "  0%|          | 42/20000 [6:15:03<2876:16:48, 518.82s/episode]"
     ]
    },
    {
     "name": "stdout",
     "output_type": "stream",
     "text": [
      "oldCorrelation -0.013393489420952228\n",
      "NEW ENV\n",
      "nan\n",
      "0.11459561888977819\n",
      "0.04137420714477714\n",
      "0.02088744979705676\n",
      "0.034478750077012545\n",
      "0.020745705997634478\n",
      "0.019899515483499563\n",
      "0.011857922552318276\n",
      "0.0030124270293482185\n",
      "0.0031404834420931033\n",
      "0.0019533460918061485\n",
      "-0.011255044051208316\n",
      "-0.01743077414282756\n",
      "-0.01894318847125544\n"
     ]
    },
    {
     "name": "stderr",
     "output_type": "stream",
     "text": [
      "\r",
      "  0%|          | 43/20000 [6:23:47<2884:11:50, 520.27s/episode]"
     ]
    },
    {
     "name": "stdout",
     "output_type": "stream",
     "text": [
      "oldCorrelation -0.014337390828887428\n",
      "NEW ENV\n",
      "nan\n",
      "0.05168585771549011\n",
      "0.05239464582696628\n",
      "0.024555361887685114\n",
      "0.010906731457939769\n",
      "0.018397424416000466\n",
      "0.0209673817397908\n",
      "0.026695795900548262\n",
      "0.024064899865320833\n",
      "0.02015736721823489\n",
      "0.01821133933999131\n",
      "0.015483309456742275\n",
      "0.01392495023234887\n",
      "0.017190228872695435\n",
      "0.01233064181497671\n"
     ]
    },
    {
     "name": "stderr",
     "output_type": "stream",
     "text": [
      "\r",
      "  0%|          | 44/20000 [6:33:12<2959:32:39, 533.89s/episode]"
     ]
    },
    {
     "name": "stdout",
     "output_type": "stream",
     "text": [
      "oldCorrelation 0.008514371082359997\n",
      "NEW ENV\n",
      "nan\n",
      "0.03515166272561675\n",
      "0.026285984097441716\n",
      "0.02224921703691127\n",
      "0.024772065690170937\n",
      "0.025499299918480357\n",
      "0.016813170325840943\n",
      "0.013624109960551163\n",
      "0.007640010921113178\n",
      "0.004130051815285511\n",
      "0.004899070200128196\n",
      "0.006575037392253613\n",
      "0.003143489380810612\n",
      "0.00208000332721762\n"
     ]
    },
    {
     "name": "stderr",
     "output_type": "stream",
     "text": [
      "\r",
      "  0%|          | 45/20000 [6:41:41<2916:50:47, 526.22s/episode]"
     ]
    },
    {
     "name": "stdout",
     "output_type": "stream",
     "text": [
      "oldCorrelation 0.004984122251063652\n",
      "NEW ENV\n",
      "nan\n",
      "0.027411144293482775\n",
      "-0.0664508807138453\n",
      "-0.042792202967444404\n",
      "-0.04122138376335154\n",
      "-0.03055407018052646\n",
      "-0.024343489228071478\n",
      "-0.01353640829458173\n",
      "0.004853075220440142\n",
      "-0.003279330891031947\n",
      "0.0056056922640641\n",
      "-0.007464274759839482\n",
      "-0.0033056927962586435\n",
      "0.001901887362128792\n",
      "0.010615902136500691\n",
      "0.007010194604698977\n"
     ]
    },
    {
     "name": "stderr",
     "output_type": "stream",
     "text": [
      "\r",
      "  0%|          | 46/20000 [6:51:55<3063:07:03, 552.63s/episode]"
     ]
    },
    {
     "name": "stdout",
     "output_type": "stream",
     "text": [
      "oldCorrelation 0.001967059740455725\n",
      "NEW ENV\n",
      "nan\n",
      "0.02240913914608986\n",
      "0.0023737402124301655\n",
      "0.02859462960473864\n",
      "0.03804130929823061\n",
      "0.01460009476244191\n",
      "0.019226396305509624\n",
      "0.01314175114017337\n",
      "-0.0026284134578550373\n",
      "-0.003921970389191185\n",
      "-0.009046059779719149\n",
      "-0.013516404835076644\n",
      "-0.016554970293542567\n",
      "-0.01158675068231399\n",
      "-0.007646031733032663\n",
      "-0.005592092991440921\n"
     ]
    },
    {
     "name": "stderr",
     "output_type": "stream",
     "text": [
      "\r",
      "  0%|          | 47/20000 [7:01:58<3147:34:05, 567.90s/episode]"
     ]
    },
    {
     "name": "stdout",
     "output_type": "stream",
     "text": [
      "oldCorrelation -0.009161875845039774\n",
      "NEW ENV\n",
      "nan\n",
      "0.03541506476068813\n",
      "0.054286733246451994\n",
      "0.03763986342377094\n",
      "0.049498460621019154\n",
      "0.030521421092319034\n",
      "0.03243608544545697\n",
      "0.033448147838754716\n",
      "0.03871515863041609\n",
      "0.03132782391423433\n",
      "0.028691788268074545\n",
      "0.02906745222821265\n",
      "0.021046220023166376\n",
      "0.022145742554309227\n",
      "0.018963681415178863\n",
      "0.020816665843744708\n",
      "0.025846513014998636\n"
     ]
    },
    {
     "name": "stderr",
     "output_type": "stream",
     "text": [
      "\r",
      "  0%|          | 48/20000 [7:12:18<3232:55:11, 583.33s/episode]"
     ]
    },
    {
     "name": "stdout",
     "output_type": "stream",
     "text": [
      "oldCorrelation 0.025040190848055328\n",
      "NEW ENV\n",
      "nan\n",
      "0.011445979386702556\n",
      "0.011230549806060726\n",
      "0.00936397119832124\n",
      "0.010004498911200218\n",
      "0.014855459179717635\n",
      "0.019723156803070293\n",
      "0.011704881467560739\n",
      "0.007820507267270559\n"
     ]
    },
    {
     "name": "stderr",
     "output_type": "stream",
     "text": [
      "\r",
      "  0%|          | 49/20000 [7:17:19<2763:03:47, 498.57s/episode]"
     ]
    },
    {
     "name": "stdout",
     "output_type": "stream",
     "text": [
      "oldCorrelation 0.005373109195680648\n",
      "NEW ENV\n",
      "nan\n",
      "0.045724971088536584\n",
      "0.006586675171811408\n",
      "0.030519674953733977\n",
      "0.01337865176240009\n",
      "-0.0015818120684258075\n",
      "-0.005716332922003486\n",
      "-0.0036176457736874375\n",
      "0.003505372176214783\n",
      "0.009826520877737612\n",
      "0.010318115374084998\n",
      "0.010499813600846368\n",
      "0.013149962943190678\n",
      "0.01005910576930713\n",
      "0.009337320555317753\n",
      "0.0018264058134510705\n",
      "oldCorrelation 0.002640470805552618\n",
      "INFO:tensorflow:Assets written to: models/256x2____-0.95max___-1.00avg___-1.03min__1605839098.model/assets\n"
     ]
    },
    {
     "name": "stderr",
     "output_type": "stream",
     "text": [
      "\r",
      "  0%|          | 50/20000 [7:27:04<2906:40:23, 524.51s/episode]"
     ]
    },
    {
     "name": "stdout",
     "output_type": "stream",
     "text": [
      "NEW ENV\n",
      "nan\n",
      "0.022395641500257395\n",
      "-0.028150977460755913\n",
      "-0.03412658236530998\n",
      "-0.012439092816845151\n",
      "-0.00685601559206485\n",
      "-0.01689228034198438\n",
      "-0.01278986437924974\n",
      "-0.017587011119806123\n"
     ]
    },
    {
     "name": "stderr",
     "output_type": "stream",
     "text": [
      "\r",
      "  0%|          | 51/20000 [7:32:39<2591:39:12, 467.69s/episode]"
     ]
    },
    {
     "name": "stdout",
     "output_type": "stream",
     "text": [
      "oldCorrelation -0.015956797649643462\n",
      "NEW ENV\n",
      "nan\n",
      "-0.010030274206937997\n",
      "-0.01997003521964835\n",
      "-0.014896959484411944\n",
      "-0.02319428623161304\n",
      "-0.02175000159250538\n",
      "-0.011073162081691986\n",
      "0.005784334032839366\n",
      "0.016728085654945848\n",
      "-0.006712123144798489\n",
      "-0.009409313975412144\n",
      "-0.0033781625576188505\n",
      "-0.00771543101568604\n",
      "-0.006208139988700783\n",
      "-0.0037097957865482867\n",
      "-0.0031334840438451534\n"
     ]
    },
    {
     "name": "stderr",
     "output_type": "stream",
     "text": [
      "\r",
      "  0%|          | 52/20000 [7:42:31<2798:36:35, 505.06s/episode]"
     ]
    },
    {
     "name": "stdout",
     "output_type": "stream",
     "text": [
      "oldCorrelation 0.0003185038840556468\n",
      "NEW ENV\n",
      "nan\n",
      "-0.049997127644423066\n",
      "-0.0771526219139086\n",
      "-0.07770495994573226\n",
      "-0.06181438269937561\n",
      "-0.03596332081836581\n",
      "-0.033150880153107125\n",
      "-0.03968572064075346\n",
      "-0.03162596225405834\n",
      "-0.025227950125158046\n",
      "-0.02474464428328356\n",
      "-0.01995441401057615\n",
      "-0.01600891161405764\n",
      "-0.016102468482646695\n"
     ]
    },
    {
     "name": "stderr",
     "output_type": "stream",
     "text": [
      "\r",
      "  0%|          | 53/20000 [7:51:23<2843:27:06, 513.18s/episode]"
     ]
    },
    {
     "name": "stdout",
     "output_type": "stream",
     "text": [
      "oldCorrelation -0.011193879506669186\n",
      "NEW ENV\n",
      "nan\n",
      "0.021213244808473086\n",
      "0.00269060930168666\n",
      "-0.022140319578376276\n",
      "-0.05161479853887938\n",
      "-0.052496403762087175\n",
      "-0.058835645297311154\n",
      "-0.054674743315845084\n",
      "-0.049936812665708624\n",
      "-0.05982527888447363\n",
      "-0.04828316683879064\n",
      "-0.04770054241576163\n"
     ]
    },
    {
     "name": "stderr",
     "output_type": "stream",
     "text": [
      "\r",
      "  0%|          | 54/20000 [7:58:57<2745:06:01, 495.46s/episode]"
     ]
    },
    {
     "name": "stdout",
     "output_type": "stream",
     "text": [
      "oldCorrelation -0.04461207688377833\n",
      "NEW ENV\n",
      "nan\n",
      "0.04394764740188007\n",
      "0.049114948667144144\n",
      "0.03144581299736436\n",
      "0.009955979423978877\n",
      "0.004881737789058417\n",
      "0.0099894606228733\n",
      "0.011957624899471431\n",
      "0.01625594095730315\n",
      "0.0043360939084309226\n",
      "0.006854869908856322\n",
      "-0.0016461026553848328\n",
      "-0.001984954168315836\n",
      "0.00018527746433701678\n",
      "0.0007608018080260086\n",
      "-0.004217674929205273\n"
     ]
    },
    {
     "name": "stderr",
     "output_type": "stream",
     "text": [
      "\r",
      "  0%|          | 55/20000 [8:08:50<2906:55:08, 524.69s/episode]"
     ]
    },
    {
     "name": "stdout",
     "output_type": "stream",
     "text": [
      "oldCorrelation -0.011845712629677593\n",
      "NEW ENV\n",
      "nan\n",
      "0.021593590660205126\n",
      "0.03870836875293744\n",
      "0.0227528767985698\n",
      "-0.014387713718346375\n",
      "-0.023409005367462446\n",
      "-0.016945394028833594\n",
      "-0.01560989294622527\n",
      "-0.013595656670684284\n",
      "-0.009524128473407913\n",
      "0.004114680199308892\n",
      "0.016120402258047537\n"
     ]
    },
    {
     "name": "stderr",
     "output_type": "stream",
     "text": [
      "\r",
      "  0%|          | 56/20000 [8:16:26<2791:42:01, 503.92s/episode]"
     ]
    },
    {
     "name": "stdout",
     "output_type": "stream",
     "text": [
      "oldCorrelation 0.016938754588612857\n",
      "NEW ENV\n",
      "nan\n",
      "0.02970871686908016\n",
      "0.017970739982229346\n",
      "-0.00537733831322475\n",
      "0.0005229356788936969\n",
      "-0.009438699164783335\n",
      "0.0034202779551201832\n",
      "-0.00848259837196515\n",
      "-0.015073431466085424\n",
      "-0.015327295496066151\n",
      "-0.020031133180860174\n",
      "-0.016103581422420396\n",
      "-0.012937440496003618\n",
      "-0.006322073773756304\n",
      "-0.012856165700803416\n"
     ]
    },
    {
     "name": "stderr",
     "output_type": "stream",
     "text": [
      "\r",
      "  0%|          | 57/20000 [8:25:52<2894:58:17, 522.58s/episode]"
     ]
    },
    {
     "name": "stdout",
     "output_type": "stream",
     "text": [
      "oldCorrelation -0.007729102863171426\n",
      "NEW ENV\n",
      "nan\n",
      "-0.0303868741818136\n",
      "0.046779173227421394\n",
      "0.005633924607194493\n",
      "-0.0016925973050192103\n",
      "-0.004329835126877356\n",
      "0.004693049109407957\n",
      "0.028146265172004234\n",
      "0.027532550131190568\n",
      "0.020919914199561365\n",
      "0.0162457125698021\n",
      "0.016361052592184424\n",
      "0.013415036882596487\n",
      "0.01092993812176905\n",
      "0.011726072660836456\n",
      "0.012948718236616759\n"
     ]
    },
    {
     "name": "stderr",
     "output_type": "stream",
     "text": [
      "\r",
      "  0%|          | 58/20000 [8:36:04<3043:21:11, 549.40s/episode]"
     ]
    },
    {
     "name": "stdout",
     "output_type": "stream",
     "text": [
      "oldCorrelation 0.009931046441359772\n",
      "NEW ENV\n",
      "nan\n",
      "0.014574061828761718\n",
      "-0.015272812898982767\n",
      "-0.009929273779569942\n",
      "-0.01757044124114691\n",
      "0.001751749730663973\n",
      "0.0023752999231401884\n",
      "-0.012130922833930774\n",
      "-0.013457214495577944\n",
      "-0.025302411869201995\n",
      "-0.017653476548725056\n",
      "-0.02205609157661078\n",
      "-0.02410586101522468\n",
      "-0.029105586331462985\n",
      "-0.02478694587118066\n"
     ]
    },
    {
     "name": "stderr",
     "output_type": "stream",
     "text": [
      "\r",
      "  0%|          | 59/20000 [8:45:34<3077:35:35, 555.61s/episode]"
     ]
    },
    {
     "name": "stdout",
     "output_type": "stream",
     "text": [
      "oldCorrelation -0.01919351611213488\n",
      "NEW ENV\n",
      "nan\n",
      "-0.004649910903861241\n",
      "-0.011341549058125696\n",
      "-0.005634625822662313\n",
      "0.014188419617883596\n",
      "0.018982292866005956\n",
      "0.010917738095525044\n",
      "0.018402463755195907\n",
      "0.013596881935305784\n",
      "0.006922995814568431\n",
      "0.005756323272908503\n",
      "0.015802789803855657\n",
      "0.013090504207903475\n",
      "0.009176088322153511\n",
      "0.0013553579859919705\n",
      "oldCorrelation 0.0012756568255690068\n",
      "INFO:tensorflow:Assets written to: models/256x2____-0.97max___-1.02avg___-1.09min__1605844370.model/assets\n"
     ]
    },
    {
     "name": "stderr",
     "output_type": "stream",
     "text": [
      "\r",
      "  0%|          | 60/20000 [8:54:56<3087:50:36, 557.48s/episode]"
     ]
    },
    {
     "name": "stdout",
     "output_type": "stream",
     "text": [
      "NEW ENV\n",
      "nan\n",
      "0.09113337219167451\n",
      "0.09405643686476065\n",
      "0.04089945874995455\n",
      "0.027581897055960324\n",
      "0.021684994550713082\n",
      "0.02414103014667274\n",
      "0.024522170634244368\n",
      "0.0290378291294233\n",
      "0.019474643678847603\n",
      "0.020962754337817743\n",
      "0.017256654088968194\n",
      "0.018455201610176792\n",
      "0.01472665066232592\n",
      "0.021095425726298446\n",
      "0.02121235235829152\n"
     ]
    },
    {
     "name": "stderr",
     "output_type": "stream",
     "text": [
      "\r",
      "  0%|          | 61/20000 [9:04:59<3164:19:54, 571.32s/episode]"
     ]
    },
    {
     "name": "stdout",
     "output_type": "stream",
     "text": [
      "oldCorrelation 0.020240859528772404\n",
      "NEW ENV\n",
      "nan\n",
      "0.10291342532316156\n",
      "0.08943121697381222\n",
      "0.0885424837364161\n",
      "0.05573763842400416\n",
      "0.035809682004716833\n",
      "0.028550563409869965\n",
      "0.021724106171944747\n",
      "0.01766549438831668\n",
      "0.021123425712527323\n",
      "0.02147279428975689\n",
      "0.020180105574265663\n",
      "0.013414760853232194\n",
      "0.02085999888835864\n",
      "0.016264910649874884\n",
      "0.016552773506914052\n"
     ]
    },
    {
     "name": "stderr",
     "output_type": "stream",
     "text": [
      "\r",
      "  0%|          | 62/20000 [9:15:06<3223:46:42, 582.08s/episode]"
     ]
    },
    {
     "name": "stdout",
     "output_type": "stream",
     "text": [
      "oldCorrelation 0.013973187782275645\n",
      "NEW ENV\n",
      "nan\n",
      "0.07145279101070574\n",
      "0.05268598755051262\n",
      "0.07176734443812088\n",
      "0.06490949314044442\n",
      "0.06573686139505246\n",
      "0.052837263122332674\n",
      "0.03869900211803311\n",
      "0.03369845482465324\n",
      "0.03589593009721806\n",
      "0.03992860807728117\n",
      "0.03702040874162503\n",
      "0.03458842576084814\n",
      "0.03408479104260926\n",
      "0.02829232892854592\n"
     ]
    },
    {
     "name": "stderr",
     "output_type": "stream",
     "text": [
      "\r",
      "  0%|          | 63/20000 [9:24:14<3165:40:34, 571.62s/episode]"
     ]
    },
    {
     "name": "stdout",
     "output_type": "stream",
     "text": [
      "oldCorrelation 0.025085642925717196\n",
      "NEW ENV\n",
      "nan\n",
      "-0.019689516038068042\n",
      "0.027257176454967825\n",
      "0.005911444155203993\n",
      "0.01922462256818105\n",
      "0.05090617669980489\n",
      "0.029274130319944115\n",
      "0.028231830288654346\n",
      "0.03135245253357467\n",
      "0.039450089048741845\n",
      "0.03597344209550776\n",
      "0.03898683903343911\n",
      "0.044535688532465506\n",
      "0.050230376905144404\n",
      "0.043224597234777\n"
     ]
    },
    {
     "name": "stderr",
     "output_type": "stream",
     "text": [
      "\r",
      "  0%|          | 64/20000 [9:33:16<3117:07:40, 562.88s/episode]"
     ]
    },
    {
     "name": "stdout",
     "output_type": "stream",
     "text": [
      "oldCorrelation 0.041027242211380856\n",
      "NEW ENV\n",
      "nan\n",
      "0.041284623922751694\n",
      "-0.007262398097339728\n",
      "0.023997095074033067\n",
      "0.021011331598104612\n",
      "0.021905848349439892\n",
      "0.01017658905578436\n",
      "0.006983223373468552\n",
      "-0.0042797694973374\n",
      "-0.007915214055191746\n",
      "-0.010855667719149304\n",
      "-0.011523975545687926\n",
      "-0.012728742424377583\n",
      "-0.010305479041402579\n",
      "-0.010750632565277642\n"
     ]
    },
    {
     "name": "stderr",
     "output_type": "stream",
     "text": [
      "\r",
      "  0%|          | 65/20000 [9:42:43<3123:41:54, 564.10s/episode]"
     ]
    },
    {
     "name": "stdout",
     "output_type": "stream",
     "text": [
      "oldCorrelation -0.013771627403389422\n",
      "NEW ENV\n",
      "nan\n",
      "-0.012974348940636943\n",
      "0.05259769045037804\n",
      "0.059563493806944985\n",
      "0.04716248766410119\n",
      "0.021194232564934336\n",
      "0.019266053900001332\n",
      "0.01779242045949691\n",
      "0.008546534296054679\n",
      "0.0035712940210298745\n",
      "0.0016725650818197096\n",
      "0.007024067176202115\n",
      "-0.001638539667727487\n",
      "0.0006665822704829495\n",
      "0.008468100152309905\n",
      "0.00719943194052287\n"
     ]
    },
    {
     "name": "stderr",
     "output_type": "stream",
     "text": [
      "\r",
      "  0%|          | 66/20000 [9:52:16<3139:04:34, 566.90s/episode]"
     ]
    },
    {
     "name": "stdout",
     "output_type": "stream",
     "text": [
      "oldCorrelation 0.009737947334415116\n",
      "NEW ENV\n",
      "nan\n",
      "0.08000676156888886\n",
      "0.012445587722563245\n",
      "-0.0011122697698370417\n",
      "0.021688204767594584\n",
      "-0.000641734672638873\n",
      "0.0014248892328483113\n",
      "-0.010072075981020336\n",
      "-0.011282069154566244\n",
      "-0.010495656928456998\n",
      "-0.00969137541556368\n",
      "-0.0023364208597409014\n",
      "0.003106100341245301\n",
      "0.00041231549987547707\n",
      "-0.000415238213019907\n"
     ]
    },
    {
     "name": "stderr",
     "output_type": "stream",
     "text": [
      "\r",
      "  0%|          | 67/20000 [10:01:43<3137:31:02, 566.65s/episode]"
     ]
    },
    {
     "name": "stdout",
     "output_type": "stream",
     "text": [
      "oldCorrelation 0.0007754625549516428\n",
      "NEW ENV\n",
      "nan\n",
      "-0.03645460534562135\n",
      "-0.056480907214473644\n",
      "-0.0413648876815379\n",
      "-0.051257942221101874\n",
      "-0.03429152936232228\n",
      "-0.013333996407902131\n",
      "-0.00948072871332845\n",
      "0.006634557607960491\n",
      "0.01114148201306378\n",
      "0.006909319972543706\n",
      "0.007952820266398932\n",
      "0.008826006801453451\n",
      "0.013521729823056378\n",
      "0.014410418421317944\n",
      "0.00831967019008123\n"
     ]
    },
    {
     "name": "stderr",
     "output_type": "stream",
     "text": [
      "\r",
      "  0%|          | 68/20000 [10:11:36<3181:24:33, 574.61s/episode]"
     ]
    },
    {
     "name": "stdout",
     "output_type": "stream",
     "text": [
      "oldCorrelation 0.008287368449334214\n",
      "NEW ENV\n",
      "nan\n",
      "0.06777018246188372\n",
      "0.019487891587870853\n",
      "0.020737287080405953\n",
      "0.04615447752407465\n",
      "0.0405196228378508\n",
      "0.0353854364290348\n",
      "0.038438394184151146\n",
      "0.03171058074612995\n",
      "0.02159173829396845\n",
      "0.010613301146574071\n",
      "0.011850876429934602\n",
      "0.013103471124690041\n",
      "0.018119378481288976\n",
      "0.017580402518894596\n",
      "0.013420039287017646\n"
     ]
    },
    {
     "name": "stderr",
     "output_type": "stream",
     "text": [
      "\r",
      "  0%|          | 69/20000 [10:21:23<3202:49:39, 578.50s/episode]"
     ]
    },
    {
     "name": "stdout",
     "output_type": "stream",
     "text": [
      "oldCorrelation 0.014153194763231023\n",
      "NEW ENV\n",
      "nan\n",
      "-0.05089644082971044\n",
      "-0.0038536879554933686\n",
      "-0.0014139132606215859\n",
      "-0.0054142013356169505\n",
      "-0.012041411197534189\n",
      "-0.009636462270389834\n",
      "0.0026573310230079035\n",
      "0.01274992392406831\n",
      "0.015318752579093993\n",
      "0.013794691487629011\n",
      "0.01697117926063641\n",
      "0.02041214430843216\n",
      "0.018898505656635634\n",
      "0.023472481474310258\n",
      "0.023425459710757\n",
      "oldCorrelation 0.023916074893458383\n",
      "INFO:tensorflow:Assets written to: models/256x2____-0.92max___-0.97avg___-1.03min__1605850173.model/assets\n"
     ]
    },
    {
     "name": "stderr",
     "output_type": "stream",
     "text": [
      "\r",
      "  0%|          | 70/20000 [10:31:39<3263:48:50, 589.55s/episode]"
     ]
    },
    {
     "name": "stdout",
     "output_type": "stream",
     "text": [
      "NEW ENV\n",
      "nan\n",
      "0.04181820835594959\n",
      "0.00523635718805481\n",
      "0.029261363487721313\n",
      "-0.005010856158835508\n",
      "-0.0049187825694547195\n",
      "-0.001070180299820683\n",
      "0.012915542000735228\n",
      "0.016151371145485996\n",
      "0.017336352259019607\n",
      "0.023239317719520425\n",
      "0.01823342284786518\n",
      "0.012955790528895502\n",
      "0.01473947081629638\n"
     ]
    },
    {
     "name": "stderr",
     "output_type": "stream",
     "text": [
      "\r",
      "  0%|          | 71/20000 [10:40:16<3143:51:00, 567.91s/episode]"
     ]
    },
    {
     "name": "stdout",
     "output_type": "stream",
     "text": [
      "oldCorrelation 0.015011572360258822\n",
      "NEW ENV\n",
      "nan\n",
      "-0.007047541669052945\n",
      "0.03155658184837651\n",
      "0.040862426273963894\n",
      "0.01998826207707507\n",
      "0.03438013723495351\n",
      "0.0340823845075446\n",
      "0.017219442519303445\n",
      "0.02138231552498741\n",
      "0.009716642063728192\n",
      "0.013202543024119795\n",
      "0.002363300822301204\n",
      "0.006677564231814239\n",
      "0.006170622872551665\n",
      "0.0005287372371770443\n"
     ]
    },
    {
     "name": "stderr",
     "output_type": "stream",
     "text": [
      "\r",
      "  0%|          | 72/20000 [10:49:48<3150:03:16, 569.06s/episode]"
     ]
    },
    {
     "name": "stdout",
     "output_type": "stream",
     "text": [
      "oldCorrelation -0.0005842663544034551\n",
      "NEW ENV\n",
      "nan\n",
      "-0.004976143658923919\n",
      "0.02212149142062318\n",
      "0.03823257876790401\n",
      "0.008593478444812142\n",
      "0.023725642402977636\n",
      "0.019014664678402574\n",
      "0.022847661403198258\n",
      "0.005306978214122737\n",
      "0.007333163598459455\n",
      "0.0003195931735588857\n",
      "-0.005652207643689771\n"
     ]
    },
    {
     "name": "stderr",
     "output_type": "stream",
     "text": [
      "\r",
      "  0%|          | 73/20000 [10:56:56<2916:44:44, 526.94s/episode]"
     ]
    },
    {
     "name": "stdout",
     "output_type": "stream",
     "text": [
      "oldCorrelation -0.006549721385238209\n",
      "NEW ENV\n",
      "nan\n",
      "-0.04916041912337372\n",
      "-0.013192593091271769\n",
      "0.007006571571197834\n",
      "0.006048184793996732\n",
      "0.01576514655578849\n",
      "0.021586385060379146\n",
      "0.01707566993083936\n",
      "-0.0026835774336772026\n",
      "-0.007138680878168864\n",
      "-0.013851207253936642\n",
      "-0.021091357777621122\n",
      "-0.014905597322665103\n",
      "-0.010746806980955556\n",
      "-0.011094224198668507\n",
      "-0.006903673963227512\n"
     ]
    },
    {
     "name": "stderr",
     "output_type": "stream",
     "text": [
      "\r",
      "  0%|          | 74/20000 [11:07:11<3062:04:17, 553.22s/episode]"
     ]
    },
    {
     "name": "stdout",
     "output_type": "stream",
     "text": [
      "oldCorrelation -0.012059677784758261\n",
      "NEW ENV\n",
      "nan\n",
      "0.014670071391480055\n",
      "-0.03706729571773607\n",
      "-0.02070151417968834\n",
      "-0.017508495417795183\n",
      "-0.019375085858279684\n",
      "-0.03489914154181909\n",
      "-0.030766455131292964\n",
      "-0.035227151615931915\n",
      "-0.050234938079080735\n",
      "-0.047314356576557505\n",
      "-0.04500433917929514\n",
      "-0.0419325959115182\n"
     ]
    },
    {
     "name": "stderr",
     "output_type": "stream",
     "text": [
      "\r",
      "  0%|          | 75/20000 [11:15:16<2949:18:51, 532.87s/episode]"
     ]
    },
    {
     "name": "stdout",
     "output_type": "stream",
     "text": [
      "oldCorrelation -0.03892519148019736\n",
      "NEW ENV\n",
      "nan\n",
      "0.09338302021969715\n",
      "0.09103938598110362\n",
      "0.06403995145903942\n",
      "0.05592513152249568\n",
      "0.04163081731082125\n",
      "0.029512604401364762\n",
      "0.008699905218951542\n",
      "-0.0007753795490693996\n",
      "0.004986191990464028\n",
      "0.008008933579010483\n",
      "0.002716173964316737\n",
      "-0.0007199275842292499\n",
      "7.482566224549804e-05\n",
      "5.6793673009115305e-05\n"
     ]
    },
    {
     "name": "stderr",
     "output_type": "stream",
     "text": [
      "\r",
      "  0%|          | 76/20000 [11:24:45<3008:30:01, 543.60s/episode]"
     ]
    },
    {
     "name": "stdout",
     "output_type": "stream",
     "text": [
      "oldCorrelation 0.007019795561167622\n",
      "NEW ENV\n",
      "nan\n",
      "-0.004205093639734161\n",
      "0.021341314018408036\n",
      "0.02879842594592371\n",
      "0.014958041505462203\n",
      "0.0038070977191553023\n",
      "0.011362393367310254\n",
      "0.018339136806515843\n",
      "0.013301697712238875\n",
      "0.004113134409396589\n",
      "-0.007691668119144938\n",
      "-0.008983877409665914\n",
      "-0.014763524879220693\n",
      "-0.009501167818242399\n",
      "-0.0066812463634355205\n",
      "-0.008957052811099599\n"
     ]
    },
    {
     "name": "stderr",
     "output_type": "stream",
     "text": [
      "\r",
      "  0%|          | 77/20000 [11:34:38<3089:36:52, 558.28s/episode]"
     ]
    },
    {
     "name": "stdout",
     "output_type": "stream",
     "text": [
      "oldCorrelation -0.010664847644190623\n",
      "NEW ENV\n",
      "nan\n",
      "0.015330467810357285\n",
      "0.018455128961318946\n",
      "0.006273335109144951\n",
      "0.01056290198763749\n",
      "-0.002055970141950277\n",
      "-0.01729317412475041\n",
      "-0.01883892314715052\n",
      "-0.015228844173451455\n",
      "-0.012255534296271301\n",
      "-0.01693427833395372\n",
      "-0.02372121310182048\n",
      "-0.020598402665649943\n",
      "-0.01795925848590409\n",
      "-0.016296379012224096\n"
     ]
    },
    {
     "name": "stderr",
     "output_type": "stream",
     "text": [
      "\r",
      "  0%|          | 78/20000 [11:44:05<3104:18:34, 560.96s/episode]"
     ]
    },
    {
     "name": "stdout",
     "output_type": "stream",
     "text": [
      "oldCorrelation -0.013909818076445347\n",
      "NEW ENV\n",
      "nan\n",
      "-0.017542877876593\n",
      "-0.006574900565355081\n",
      "-0.002975531886182377\n",
      "-0.02670815044720938\n",
      "-0.022043192615013463\n",
      "-0.015176694793638788\n",
      "-0.009944839642721014\n",
      "-0.017322194835242628\n",
      "-0.031032203713903275\n",
      "-0.022952210108749403\n",
      "-0.01940573288328803\n",
      "-0.01867144211042608\n",
      "-0.01607495031646384\n",
      "-0.0160475838765319\n",
      "-0.016603702591302127\n",
      "-0.015091251080918898\n"
     ]
    },
    {
     "name": "stderr",
     "output_type": "stream",
     "text": [
      "\r",
      "  0%|          | 79/20000 [11:54:32<3214:01:10, 580.82s/episode]"
     ]
    },
    {
     "name": "stdout",
     "output_type": "stream",
     "text": [
      "oldCorrelation -0.013270782150158214\n",
      "NEW ENV\n",
      "nan\n",
      "-0.05722896917597451\n",
      "-0.0947091438915151\n",
      "-0.09624721767391907\n",
      "-0.07097668618205825\n",
      "-0.03895380868252395\n",
      "-0.021382213645311204\n",
      "-0.012848733199317005\n",
      "-0.010235126787168933\n",
      "-0.001805386283503944\n",
      "-0.010354912889180092\n",
      "-0.008072590089281942\n",
      "-0.005040321024484664\n",
      "-0.0029147178794849435\n",
      "-0.01188508120233507\n",
      "-0.019931468985559087\n",
      "oldCorrelation -0.01816632320623268\n",
      "INFO:tensorflow:Assets written to: models/256x2____-0.97max___-1.02avg___-1.08min__1605855756.model/assets\n"
     ]
    },
    {
     "name": "stderr",
     "output_type": "stream",
     "text": [
      "\r",
      "  0%|          | 80/20000 [12:04:42<3262:19:24, 589.58s/episode]"
     ]
    },
    {
     "name": "stdout",
     "output_type": "stream",
     "text": [
      "NEW ENV\n",
      "nan\n",
      "0.038374927844768085\n",
      "0.05999741462138058\n",
      "0.052520145038840546\n",
      "0.038385636277282455\n",
      "0.04546083637237289\n",
      "0.04281532368711757\n",
      "0.03827291464670052\n",
      "0.04970705411232514\n",
      "0.035798110776396684\n",
      "0.024353951922023786\n",
      "0.025064444656398868\n",
      "0.025809855306337497\n",
      "0.02993110871595947\n",
      "0.031146260774530827\n",
      "0.03386699497966107\n"
     ]
    },
    {
     "name": "stderr",
     "output_type": "stream",
     "text": [
      "\r",
      "  0%|          | 81/20000 [12:14:13<3231:21:15, 584.01s/episode]"
     ]
    },
    {
     "name": "stdout",
     "output_type": "stream",
     "text": [
      "oldCorrelation 0.034170797159104725\n",
      "NEW ENV\n",
      "nan\n",
      "0.047693760664968915\n",
      "0.032060109660630914\n",
      "0.043003296792285726\n",
      "0.0268100531988585\n",
      "0.03396570523676822\n",
      "0.016101460083944273\n",
      "0.03732773353127248\n",
      "0.03069616148427605\n",
      "0.016968278863232364\n",
      "0.01916205955601289\n",
      "0.016938453351236834\n",
      "0.006893775721246483\n",
      "-0.0012797657249788885\n",
      "0.002769865778271097\n",
      "0.004205691892681401\n"
     ]
    },
    {
     "name": "stderr",
     "output_type": "stream",
     "text": [
      "\r",
      "  0%|          | 82/20000 [12:24:24<3275:50:29, 592.08s/episode]"
     ]
    },
    {
     "name": "stdout",
     "output_type": "stream",
     "text": [
      "oldCorrelation 0.002830892801853208\n",
      "NEW ENV\n",
      "nan\n",
      "0.04691359558222833\n",
      "0.010483511662266439\n",
      "0.015692861755758278\n",
      "0.016313612237830295\n",
      "-0.0026727556331857336\n",
      "-0.010199776712962128\n",
      "-0.004425906952135934\n",
      "-0.008450611462406355\n",
      "-0.003744691340513734\n",
      "-0.008133734437640804\n",
      "-0.006173576542914521\n",
      "-0.003922660725121616\n",
      "-0.007384453514398261\n",
      "-0.009165950118325088\n",
      "-0.012250190659182352\n"
     ]
    },
    {
     "name": "stderr",
     "output_type": "stream",
     "text": [
      "\r",
      "  0%|          | 83/20000 [12:34:09<3263:43:06, 589.92s/episode]"
     ]
    },
    {
     "name": "stdout",
     "output_type": "stream",
     "text": [
      "oldCorrelation -0.015439783951023184\n",
      "NEW ENV\n",
      "nan\n",
      "-0.01127374568749793\n",
      "0.03614702215527403\n",
      "0.057230762749659\n",
      "0.05846868888159625\n",
      "0.057303026382771884\n",
      "0.04179685682043664\n",
      "0.03953304694003222\n",
      "0.04264045192231649\n",
      "0.0357537412441905\n",
      "0.03248310022549393\n",
      "0.030325564612857375\n",
      "0.03063795608011966\n",
      "0.036398910894043686\n",
      "0.02955175498492933\n"
     ]
    },
    {
     "name": "stderr",
     "output_type": "stream",
     "text": [
      "\r",
      "  0%|          | 84/20000 [12:43:11<3183:47:36, 575.50s/episode]"
     ]
    },
    {
     "name": "stdout",
     "output_type": "stream",
     "text": [
      "oldCorrelation 0.02959340103852935\n",
      "NEW ENV\n",
      "nan\n",
      "-0.02013176597758417\n",
      "-0.007309308808986279\n",
      "-0.03921151231079203\n",
      "-0.0349140111457461\n",
      "-0.04774668942765064\n",
      "-0.0207799240955141\n",
      "-0.01798558655055582\n",
      "-0.022208421919849\n",
      "-0.02261704989451798\n",
      "-0.018379573400488427\n",
      "-0.03498117693390357\n"
     ]
    },
    {
     "name": "stderr",
     "output_type": "stream",
     "text": [
      "\r",
      "  0%|          | 85/20000 [12:50:17<2935:48:48, 530.70s/episode]"
     ]
    },
    {
     "name": "stdout",
     "output_type": "stream",
     "text": [
      "oldCorrelation -0.03502085016402496\n",
      "NEW ENV\n",
      "nan\n",
      "-0.02090011055828875\n",
      "-0.011492145847318334\n",
      "0.010837037433398505\n",
      "0.015156318568278515\n",
      "0.009572023913057537\n",
      "0.013874830575863946\n",
      "0.007570664212690532\n",
      "0.01660242732818742\n",
      "0.01895891646309665\n",
      "0.019815395239153506\n",
      "0.024433349717588794\n",
      "0.01608082776400352\n",
      "0.01737942021718452\n",
      "0.01662045302393861\n",
      "0.019186412043952956\n",
      "0.01841963688181389\n"
     ]
    },
    {
     "name": "stderr",
     "output_type": "stream",
     "text": [
      "\r",
      "  0%|          | 86/20000 [13:00:42<3092:00:57, 558.97s/episode]"
     ]
    },
    {
     "name": "stdout",
     "output_type": "stream",
     "text": [
      "oldCorrelation 0.017566291718002072\n",
      "NEW ENV\n",
      "nan\n",
      "-0.0014989369654875555\n",
      "-0.014927365688369082\n",
      "-0.01049326347552146\n",
      "-0.019534610079520766\n",
      "0.011731199448500632\n",
      "0.009588836500468927\n",
      "0.0166061785497649\n",
      "0.007809512243606179\n",
      "0.014360809656514104\n",
      "0.010663436681209823\n"
     ]
    },
    {
     "name": "stderr",
     "output_type": "stream",
     "text": [
      "\r",
      "  0%|          | 87/20000 [13:07:44<2864:16:40, 517.82s/episode]"
     ]
    },
    {
     "name": "stdout",
     "output_type": "stream",
     "text": [
      "oldCorrelation 0.003866346493245635\n",
      "NEW ENV\n",
      "nan\n",
      "0.013971743497539602\n",
      "0.0015758738690476838\n",
      "-0.01241441286074821\n",
      "-0.0037351612356483193\n",
      "-0.01810148226066258\n",
      "0.003230861966918752\n",
      "-0.013240215917319918\n",
      "0.001314439869871229\n",
      "-0.0002436725352312709\n",
      "0.006264624981592677\n",
      "0.006072822884363778\n"
     ]
    },
    {
     "name": "stderr",
     "output_type": "stream",
     "text": [
      "\r",
      "  0%|          | 88/20000 [13:15:15<2753:59:32, 497.91s/episode]"
     ]
    },
    {
     "name": "stdout",
     "output_type": "stream",
     "text": [
      "oldCorrelation 0.0108729584640251\n",
      "NEW ENV\n",
      "nan\n",
      "-0.016159347187661568\n",
      "-0.06787310438617232\n",
      "-0.045691645878523784\n",
      "-0.04436471881263718\n",
      "-0.0401842115056601\n",
      "-0.03442276209907698\n",
      "-0.026495045267124897\n",
      "-0.030910826973949042\n",
      "-0.01683284000992069\n",
      "-0.014767924427191307\n",
      "-0.011368842300080846\n",
      "-0.005013906073357905\n",
      "0.0021037401615791964\n",
      "0.005404446065589521\n"
     ]
    },
    {
     "name": "stderr",
     "output_type": "stream",
     "text": [
      "\r",
      "  0%|          | 89/20000 [13:24:45<2873:33:50, 519.55s/episode]"
     ]
    },
    {
     "name": "stdout",
     "output_type": "stream",
     "text": [
      "oldCorrelation 0.0008155248486410023\n",
      "NEW ENV\n",
      "nan\n",
      "0.01364706371700714\n",
      "0.006078811558533887\n",
      "0.04273420007205307\n",
      "0.03325026267389621\n",
      "0.025193923625591405\n",
      "0.028087286938454584\n",
      "0.02911441094747429\n",
      "0.02897670842474265\n",
      "0.02423786176684259\n",
      "0.02352258148394207\n",
      "0.022724905534845935\n",
      "0.023741035544135647\n",
      "0.016437836508702744\n",
      "oldCorrelation 0.010214785380722038\n",
      "INFO:tensorflow:Assets written to: models/256x2____-0.93max___-0.99avg___-1.07min__1605861077.model/assets\n"
     ]
    },
    {
     "name": "stderr",
     "output_type": "stream",
     "text": [
      "\r",
      "  0%|          | 90/20000 [13:33:23<2870:50:41, 519.09s/episode]"
     ]
    },
    {
     "name": "stdout",
     "output_type": "stream",
     "text": [
      "NEW ENV\n",
      "nan\n",
      "0.06907799476715548\n",
      "-0.004192132088663492\n",
      "-0.042006224407706495\n",
      "-0.007924999177468616\n",
      "-0.0021121463205986324\n",
      "0.00765015188773212\n",
      "0.00844290862154003\n",
      "0.003387328857190285\n",
      "0.01009221233511635\n",
      "0.008254278141880768\n",
      "0.015366261576160101\n",
      "0.010996601810911747\n",
      "0.018785822686926523\n",
      "0.015060201237934202\n"
     ]
    },
    {
     "name": "stderr",
     "output_type": "stream",
     "text": [
      "\r",
      "  0%|          | 91/20000 [13:42:45<2942:07:57, 532.00s/episode]"
     ]
    },
    {
     "name": "stdout",
     "output_type": "stream",
     "text": [
      "oldCorrelation 0.01777200320404557\n",
      "NEW ENV\n",
      "nan\n",
      "-0.01106040535086176\n",
      "-0.009712252019245842\n",
      "-0.005387927774522196\n",
      "0.047058096047460654\n",
      "0.04851385450923066\n",
      "0.04815957690827136\n",
      "0.02495036187969072\n",
      "0.019193283483960693\n",
      "0.015621808172236953\n",
      "0.01585732678650989\n",
      "0.009401590362241873\n"
     ]
    },
    {
     "name": "stderr",
     "output_type": "stream",
     "text": [
      "\r",
      "  0%|          | 92/20000 [13:50:03<2785:47:26, 503.76s/episode]"
     ]
    },
    {
     "name": "stdout",
     "output_type": "stream",
     "text": [
      "oldCorrelation 0.005648359965945602\n",
      "NEW ENV\n",
      "nan\n",
      "0.017566175919491254\n",
      "0.056415092866217036\n",
      "0.0498052279283314\n",
      "0.031147042275076364\n",
      "0.0347699653481186\n",
      "0.042044310320819386\n",
      "0.035349800786429034\n",
      "0.02228897508121108\n",
      "0.028955329727387933\n",
      "0.02209214564991707\n",
      "0.018904675254266007\n",
      "0.01586095254074319\n",
      "0.013230403277048936\n",
      "0.016398462926018292\n",
      "0.023903109921864753\n"
     ]
    },
    {
     "name": "stderr",
     "output_type": "stream",
     "text": [
      "\r",
      "  0%|          | 93/20000 [13:59:40<2906:50:02, 525.67s/episode]"
     ]
    },
    {
     "name": "stdout",
     "output_type": "stream",
     "text": [
      "oldCorrelation 0.02638632606616975\n",
      "NEW ENV\n",
      "nan\n",
      "-0.00143996474342635\n",
      "0.011933775793132935\n",
      "0.0026816393991761496\n",
      "0.003075172394220212\n",
      "0.00706409246114219\n",
      "0.005627032227112159\n",
      "-0.00012663841825285064\n",
      "0.0071064376362399845\n",
      "0.013937653507416613\n",
      "0.005799760727468545\n",
      "-0.004112388299776253\n",
      "0.0016294975504771527\n",
      "0.013041431276460146\n",
      "0.01741881973303081\n",
      "0.013360968599992093\n",
      "0.014293647121534131\n"
     ]
    },
    {
     "name": "stderr",
     "output_type": "stream",
     "text": [
      "\r",
      "  0%|          | 94/20000 [14:10:05<3072:14:53, 555.62s/episode]"
     ]
    },
    {
     "name": "stdout",
     "output_type": "stream",
     "text": [
      "oldCorrelation 0.014637148699612133\n",
      "NEW ENV\n",
      "nan\n",
      "-0.10332678843298876\n",
      "-0.0650096581419725\n",
      "-0.04899374915610418\n",
      "-0.017550480299129697\n",
      "-0.026550505623402516\n",
      "-0.023202279246838976\n",
      "-0.03811334153694101\n",
      "-0.029325390416755553\n",
      "-0.031186107369669452\n",
      "-0.03215260237088036\n",
      "-0.02480938599306777\n",
      "-0.021843308613617538\n",
      "-0.021217639477000887\n",
      "-0.022210915868061114\n"
     ]
    },
    {
     "name": "stderr",
     "output_type": "stream",
     "text": [
      "\r",
      "  0%|          | 95/20000 [14:19:04<3044:03:01, 550.54s/episode]"
     ]
    },
    {
     "name": "stdout",
     "output_type": "stream",
     "text": [
      "oldCorrelation -0.022366557728189775\n",
      "NEW ENV\n",
      "nan\n",
      "0.010156824514620131\n",
      "0.015914829275077216\n",
      "0.03911874630728612\n",
      "0.02382446425556588\n",
      "0.03169554151318794\n",
      "0.02694388933315982\n",
      "0.02721246123008199\n",
      "0.015686179625281314\n",
      "0.020611623032051683\n",
      "0.019518932393106442\n",
      "0.011297314120643616\n",
      "0.014707918052834622\n",
      "0.02020863329094948\n",
      "0.015369599095169969\n",
      "0.0063824216082098454\n"
     ]
    },
    {
     "name": "stderr",
     "output_type": "stream",
     "text": [
      "\r",
      "  0%|          | 96/20000 [14:28:49<3101:26:45, 560.95s/episode]"
     ]
    },
    {
     "name": "stdout",
     "output_type": "stream",
     "text": [
      "oldCorrelation 0.0007129923613940753\n",
      "NEW ENV\n",
      "nan\n",
      "-0.032092926573210064\n",
      "0.020030654474270073\n",
      "0.020353517741653195\n",
      "0.026458228518353687\n",
      "0.009317472463598089\n",
      "0.02628784518575183\n",
      "0.02090348337850292\n",
      "0.009412290555595481\n",
      "0.011266138001387477\n",
      "0.01331789995938797\n",
      "0.014863405282741632\n",
      "0.01713314395179313\n",
      "0.0196636040068619\n",
      "0.020805125083903402\n",
      "0.01542673981143111\n",
      "0.016195349182915895\n"
     ]
    },
    {
     "name": "stderr",
     "output_type": "stream",
     "text": [
      "\r",
      "  0%|          | 97/20000 [14:39:10<3200:19:59, 578.87s/episode]"
     ]
    },
    {
     "name": "stdout",
     "output_type": "stream",
     "text": [
      "oldCorrelation 0.01624772850936847\n",
      "NEW ENV\n",
      "nan\n",
      "0.13945261921250146\n",
      "0.04690999149994356\n",
      "0.012973941245734743\n",
      "0.052479748015151095\n",
      "0.043378178594190395\n",
      "0.030466034134633\n",
      "0.029590830834097203\n",
      "0.027395860512578307\n",
      "0.01463737169847996\n",
      "0.020472587220646984\n",
      "0.014429484293801892\n",
      "0.016875468993198806\n",
      "0.017971311795407334\n",
      "0.022318618328271096\n",
      "0.022227263198206965\n"
     ]
    },
    {
     "name": "stderr",
     "output_type": "stream",
     "text": [
      "\r",
      "  0%|          | 98/20000 [14:48:48<3198:44:15, 578.61s/episode]"
     ]
    },
    {
     "name": "stdout",
     "output_type": "stream",
     "text": [
      "oldCorrelation 0.021621369293599365\n",
      "NEW ENV\n",
      "nan\n",
      "0.17200451172668657\n",
      "0.07452178110048122\n",
      "0.05980307004674552\n",
      "0.03612216665744994\n",
      "0.03904415210908479\n",
      "0.04159785961975994\n",
      "0.04178234668555\n",
      "0.035324267610577526\n",
      "0.04401483826321556\n",
      "0.036364972413683375\n",
      "0.02940535423571734\n",
      "0.03299485709206534\n",
      "0.03178611741948946\n",
      "0.032582902668866334\n"
     ]
    },
    {
     "name": "stderr",
     "output_type": "stream",
     "text": [
      "\r",
      "  0%|          | 99/20000 [14:58:19<3185:42:12, 576.28s/episode]"
     ]
    },
    {
     "name": "stdout",
     "output_type": "stream",
     "text": [
      "oldCorrelation 0.032987861472458295\n",
      "NEW ENV\n",
      "nan\n",
      "0.0626369172954118\n",
      "0.031214689944807906\n",
      "0.023965092444957682\n",
      "0.005701058494858615\n",
      "0.019563324693166774\n",
      "0.01914936866581782\n",
      "0.03409375084325343\n",
      "0.03636814351667061\n",
      "oldCorrelation 0.02774266032136381\n",
      "INFO:tensorflow:Assets written to: models/256x2____-0.93max___-0.97avg___-1.04min__1605866492.model/assets\n"
     ]
    },
    {
     "name": "stderr",
     "output_type": "stream",
     "text": [
      "\r",
      "  0%|          | 100/20000 [15:03:38<2758:51:14, 499.09s/episode]"
     ]
    },
    {
     "name": "stdout",
     "output_type": "stream",
     "text": [
      "NEW ENV\n",
      "nan\n",
      "-0.014948575924452309\n",
      "-0.03466243029382485\n",
      "0.002703022405887059\n",
      "-0.0014108710453156986\n",
      "0.0027773411661568374\n",
      "-0.01398686115021318\n",
      "-0.0083143858324341\n",
      "-0.014823458563503155\n",
      "-0.014998057863110328\n",
      "-0.019206555457701505\n",
      "-0.023250710683362492\n",
      "-0.02360171361458672\n",
      "-0.016438033464207934\n",
      "-0.014144424078295465\n",
      "-0.01434137918854372\n"
     ]
    },
    {
     "name": "stderr",
     "output_type": "stream",
     "text": [
      "\r",
      "  1%|          | 101/20000 [15:13:15<2889:08:32, 522.69s/episode]"
     ]
    },
    {
     "name": "stdout",
     "output_type": "stream",
     "text": [
      "oldCorrelation -0.013998095159461146\n",
      "NEW ENV\n",
      "nan\n",
      "-0.062485585429988035\n",
      "-0.03365245457133229\n",
      "-0.019786603499895136\n",
      "-0.05814253442357745\n",
      "-0.0662498179961119\n",
      "-0.04646543443526187\n",
      "-0.0464733042371006\n",
      "-0.04283077333144228\n",
      "-0.026991092244895137\n",
      "-0.0358533399494538\n",
      "-0.03271469043188078\n"
     ]
    },
    {
     "name": "stderr",
     "output_type": "stream",
     "text": [
      "\r",
      "  1%|          | 102/20000 [15:20:20<2725:50:15, 493.17s/episode]"
     ]
    },
    {
     "name": "stdout",
     "output_type": "stream",
     "text": [
      "oldCorrelation -0.03289419530634969\n",
      "NEW ENV\n",
      "nan\n",
      "0.05594483372840355\n",
      "0.005140726349777609\n",
      "0.004562743288893436\n",
      "0.004021782020422003\n",
      "0.011722220819224385\n",
      "0.007710047708175754\n",
      "0.017405187018944054\n",
      "0.024254786070637333\n",
      "0.016966815182577408\n",
      "0.013693197652611492\n",
      "0.0032764507581316653\n"
     ]
    },
    {
     "name": "stderr",
     "output_type": "stream",
     "text": [
      "\r",
      "  1%|          | 103/20000 [15:27:35<2630:17:33, 475.90s/episode]"
     ]
    },
    {
     "name": "stdout",
     "output_type": "stream",
     "text": [
      "oldCorrelation -9.59778638262356e-05\n",
      "NEW ENV\n",
      "nan\n",
      "-0.07808142613215206\n",
      "-0.010150452678792832\n",
      "-0.0025475072301837168\n",
      "-0.011246936230740108\n",
      "-0.002597547836360478\n",
      "-0.007583380252308113\n",
      "-0.0016935775715274032\n",
      "0.005252846662992503\n",
      "0.0005080515147644178\n",
      "0.000736421653911023\n",
      "0.005257547558196143\n"
     ]
    },
    {
     "name": "stderr",
     "output_type": "stream",
     "text": [
      "\r",
      "  1%|          | 104/20000 [15:34:49<2560:27:24, 463.29s/episode]"
     ]
    },
    {
     "name": "stdout",
     "output_type": "stream",
     "text": [
      "oldCorrelation 0.008316465443697036\n",
      "NEW ENV\n",
      "nan\n",
      "-0.024366162197050567\n",
      "-0.02900952873996437\n",
      "-0.00596179810149439\n",
      "0.01679098577572875\n",
      "0.009711576852096228\n",
      "0.006651727710541317\n",
      "0.009607373368439608\n",
      "0.017955773486819194\n",
      "0.0141757409171386\n",
      "0.00747195009564831\n",
      "0.011722501062179045\n",
      "0.010066894174622148\n",
      "0.005645665321279707\n",
      "0.0025018505812435038\n"
     ]
    },
    {
     "name": "stderr",
     "output_type": "stream",
     "text": [
      "\r",
      "  1%|          | 105/20000 [15:44:07<2717:19:53, 491.70s/episode]"
     ]
    },
    {
     "name": "stdout",
     "output_type": "stream",
     "text": [
      "oldCorrelation 0.005674897923025864\n",
      "NEW ENV\n",
      "nan\n",
      "0.035040607928424214\n",
      "0.05692177135941329\n",
      "0.01439220369739135\n",
      "0.004846219185847948\n",
      "0.0033472908812900723\n",
      "0.0032139819265466067\n",
      "-0.007783496627298705\n",
      "-0.02378879468634011\n",
      "-0.016373790912548376\n",
      "-0.02043918131550725\n",
      "-0.020425259862571838\n",
      "-0.017384410653970502\n",
      "-0.016934220326567377\n",
      "-0.01963577209617455\n"
     ]
    },
    {
     "name": "stderr",
     "output_type": "stream",
     "text": [
      "\r",
      "  1%|          | 106/20000 [15:53:35<2843:36:30, 514.58s/episode]"
     ]
    },
    {
     "name": "stdout",
     "output_type": "stream",
     "text": [
      "oldCorrelation -0.015699365239057482\n",
      "NEW ENV\n",
      "nan\n",
      "0.0038559905428660764\n",
      "0.013206530992119745\n",
      "0.010766752791128055\n",
      "-0.021239127766007507\n",
      "-0.020420246487542155\n",
      "-0.007772134536703373\n",
      "-0.01284146111895904\n",
      "-0.020912232817660102\n",
      "-0.016725708135833905\n",
      "-0.021061982000206484\n",
      "-0.019855388601489103\n",
      "-0.022078941784579108\n",
      "-0.026266768942714968\n",
      "-0.019356632227728644\n",
      "-0.017344243458075184\n",
      "-0.019815647270557554\n"
     ]
    },
    {
     "name": "stderr",
     "output_type": "stream",
     "text": [
      "\r",
      "  1%|          | 107/20000 [16:04:03<3030:32:20, 548.43s/episode]"
     ]
    },
    {
     "name": "stdout",
     "output_type": "stream",
     "text": [
      "oldCorrelation -0.019949972306050154\n",
      "NEW ENV\n",
      "nan\n",
      "-0.05219722266808942\n",
      "-0.013257631457842842\n",
      "-0.004927572477354789\n",
      "-0.008135227409935239\n",
      "0.0034948626690565676\n",
      "0.014577092958043013\n",
      "0.023940317535512925\n",
      "0.026285539446422587\n",
      "0.020996442893743507\n",
      "0.026069744660598825\n",
      "0.018995816046901648\n",
      "0.025014324250939482\n",
      "0.02557186747495984\n",
      "0.027086957628378025\n"
     ]
    },
    {
     "name": "stderr",
     "output_type": "stream",
     "text": [
      "\r",
      "  1%|          | 108/20000 [16:13:22<3048:56:20, 551.79s/episode]"
     ]
    },
    {
     "name": "stdout",
     "output_type": "stream",
     "text": [
      "oldCorrelation 0.032440749192091355\n",
      "NEW ENV\n",
      "nan\n",
      "0.05635738149057965\n",
      "0.012630189490892016\n",
      "-0.016289402907191473\n",
      "-0.005123522922614282\n",
      "-0.0050741707750726365\n",
      "-0.007242049700220717\n",
      "0.010204368648178466\n",
      "0.02230671734308683\n",
      "0.02936021927659118\n",
      "0.02660094464921292\n"
     ]
    },
    {
     "name": "stderr",
     "output_type": "stream",
     "text": [
      "\r",
      "  1%|          | 109/20000 [16:19:41<2762:10:12, 499.92s/episode]"
     ]
    },
    {
     "name": "stdout",
     "output_type": "stream",
     "text": [
      "oldCorrelation 0.02706284163421345\n",
      "NEW ENV\n",
      "nan\n",
      "-0.01628344240056797\n",
      "-0.06410831481510662\n",
      "-0.07248337313967115\n",
      "-0.08260945689137576\n",
      "-0.049464871563788274\n",
      "-0.05495537899132125\n",
      "-0.050618130406579975\n",
      "-0.05483152864572965\n",
      "-0.050462333850625596\n",
      "-0.04353295746668835\n",
      "-0.030273336284773453\n",
      "-0.03211895375835461\n",
      "-0.0281240687479873\n",
      "-0.022855702989624346\n",
      "-0.019679755575079557\n",
      "oldCorrelation -0.017279553760434534\n",
      "INFO:tensorflow:Assets written to: models/256x2____-0.93max___-1.01avg___-1.07min__1605871649.model/assets\n"
     ]
    },
    {
     "name": "stderr",
     "output_type": "stream",
     "text": [
      "\r",
      "  1%|          | 110/20000 [16:29:35<2917:44:04, 528.10s/episode]"
     ]
    },
    {
     "name": "stdout",
     "output_type": "stream",
     "text": [
      "NEW ENV\n",
      "nan\n",
      "0.07453502287743285\n",
      "0.04159182265010132\n",
      "0.021283019010479645\n",
      "0.04711794359328991\n",
      "0.032157083112819174\n",
      "0.022544069106376293\n",
      "0.023611756376238562\n",
      "0.022622201386230438\n",
      "0.017960050525260552\n",
      "0.0019194806660178098\n",
      "0.00024154948000043377\n",
      "0.007377803108007747\n",
      "0.007659010465216466\n",
      "0.008918081326503697\n"
     ]
    },
    {
     "name": "stderr",
     "output_type": "stream",
     "text": [
      "\r",
      "  1%|          | 111/20000 [16:38:52<2965:39:29, 536.80s/episode]"
     ]
    },
    {
     "name": "stdout",
     "output_type": "stream",
     "text": [
      "oldCorrelation 0.012809108307669948\n",
      "NEW ENV\n",
      "nan\n",
      "-0.0578319080720282\n",
      "-0.06921616220876543\n",
      "-0.036976448127179866\n",
      "-0.0404017099908706\n",
      "-0.037653516438204776\n",
      "-0.02946423572435487\n",
      "-0.02043417278876379\n",
      "-0.02010260907114165\n",
      "-0.02542199187825845\n",
      "-0.020910254950650634\n",
      "-0.023926723081256367\n",
      "-0.018498766978032103\n"
     ]
    },
    {
     "name": "stderr",
     "output_type": "stream",
     "text": [
      "\r",
      "  1%|          | 112/20000 [16:46:58<2881:34:01, 521.60s/episode]"
     ]
    },
    {
     "name": "stdout",
     "output_type": "stream",
     "text": [
      "oldCorrelation -0.012666376809561775\n",
      "NEW ENV\n",
      "nan\n",
      "-0.0037501676870519904\n",
      "0.005305450280408827\n",
      "-0.021018563371578296\n",
      "-0.03332624833540735\n",
      "-0.045026590715105216\n",
      "-0.028660611747761418\n",
      "-0.009270857547851128\n",
      "-0.010964132596848275\n",
      "-0.01627821793326841\n",
      "-0.009627194212835631\n",
      "-0.0037157031740470458\n",
      "-0.0024354962115623255\n"
     ]
    },
    {
     "name": "stderr",
     "output_type": "stream",
     "text": [
      "\r",
      "  1%|          | 113/20000 [16:55:23<2852:42:00, 516.40s/episode]"
     ]
    },
    {
     "name": "stdout",
     "output_type": "stream",
     "text": [
      "oldCorrelation 0.004980989268633996\n",
      "NEW ENV\n",
      "nan\n",
      "-0.011250547971495549\n",
      "-0.031191592597225704\n",
      "-0.01848829702692258\n",
      "-0.006255965713716125\n",
      "-0.0036858606178280227\n",
      "0.007250770373556342\n",
      "-0.001510064490383402\n",
      "-0.0076485154408916225\n",
      "0.00019995091541181046\n",
      "0.004348127045785217\n",
      "0.0004067399508523688\n",
      "0.0050722745391087185\n",
      "0.00745193210447447\n",
      "0.004467141904641089\n"
     ]
    },
    {
     "name": "stderr",
     "output_type": "stream",
     "text": [
      "\r",
      "  1%|          | 114/20000 [17:05:14<2976:33:42, 538.85s/episode]"
     ]
    },
    {
     "name": "stdout",
     "output_type": "stream",
     "text": [
      "oldCorrelation 0.00702961181045946\n",
      "NEW ENV\n",
      "nan\n",
      "-0.12483674558190659\n",
      "-0.04305910068390369\n",
      "-0.053910538803091775\n",
      "-0.04159498086451676\n",
      "-0.042219670645610545\n",
      "-0.027316140798088383\n",
      "-0.03601803779423663\n",
      "-0.024181986805375207\n",
      "-0.02549133015087436\n",
      "-0.02670798894275362\n",
      "-0.02067559430260199\n",
      "-0.019747463701412754\n",
      "-0.021973822305891906\n",
      "-0.01881059944126174\n",
      "-0.01963826725824182\n"
     ]
    },
    {
     "name": "stderr",
     "output_type": "stream",
     "text": [
      "\r",
      "  1%|          | 115/20000 [17:15:16<3081:12:34, 557.83s/episode]"
     ]
    },
    {
     "name": "stdout",
     "output_type": "stream",
     "text": [
      "oldCorrelation -0.02050930115019625\n",
      "NEW ENV\n",
      "nan\n",
      "-0.017878654960793456\n",
      "-0.017280848338855674\n",
      "0.009696177036593794\n",
      "-0.008357341207768465\n",
      "-0.006911516933813973\n",
      "0.0019239768266244768\n",
      "-0.00020011205991690145\n",
      "-0.005910224312888692\n",
      "-0.0064982449942583885\n",
      "-0.0062908769277993095\n",
      "-0.008516980363122121\n",
      "-0.0028697686228376096\n",
      "0.005763585834609713\n",
      "0.014040474213410634\n",
      "0.014593255212231886\n",
      "0.01668520925571817\n"
     ]
    },
    {
     "name": "stderr",
     "output_type": "stream",
     "text": [
      "\r",
      "  1%|          | 116/20000 [17:25:45<3199:29:12, 579.27s/episode]"
     ]
    },
    {
     "name": "stdout",
     "output_type": "stream",
     "text": [
      "oldCorrelation 0.018208840944807878\n",
      "NEW ENV\n",
      "nan\n",
      "-0.11394337212874556\n",
      "-0.09157793822429572\n",
      "-0.06574534086888788\n",
      "-0.06523178424067508\n",
      "-0.04507440412675421\n",
      "-0.046616848341404823\n",
      "-0.035316207183909785\n",
      "-0.03810160773126502\n",
      "-0.04307053017376224\n",
      "-0.03607599962948454\n",
      "-0.036914214082891646\n",
      "-0.02890625037202138\n",
      "-0.03288020959425123\n",
      "-0.0368122539276945\n"
     ]
    },
    {
     "name": "stderr",
     "output_type": "stream",
     "text": [
      "\r",
      "  1%|          | 117/20000 [17:35:18<3189:22:59, 577.47s/episode]"
     ]
    },
    {
     "name": "stdout",
     "output_type": "stream",
     "text": [
      "oldCorrelation -0.0315633460163067\n",
      "NEW ENV\n",
      "nan\n",
      "-0.013172769630009695\n",
      "-0.012777065209842516\n",
      "-0.014836430248896023\n",
      "-0.009426587200201304\n",
      "-0.02148640820119775\n",
      "-0.023998040860646934\n",
      "-0.02007906227434199\n",
      "-0.01030439082776766\n",
      "-0.02259096205458514\n",
      "-0.016096263515940734\n",
      "-0.021432796553009257\n",
      "-0.0247146152292908\n",
      "-0.02553473947889054\n"
     ]
    },
    {
     "name": "stderr",
     "output_type": "stream",
     "text": [
      "\r",
      "  1%|          | 118/20000 [17:44:00<3096:22:42, 560.66s/episode]"
     ]
    },
    {
     "name": "stdout",
     "output_type": "stream",
     "text": [
      "oldCorrelation -0.02353714399342086\n",
      "NEW ENV\n",
      "nan\n",
      "-0.018810531774698627\n",
      "-0.009603153000339069\n",
      "-0.0008727574884383972\n",
      "0.0047090167545277796\n",
      "0.0014826487007632044\n",
      "0.011267527826956227\n",
      "0.0254228693815243\n",
      "0.009696674168075901\n",
      "0.005895963401586643\n",
      "0.013775314219532035\n",
      "0.01455635978309839\n",
      "0.006598566685710152\n",
      "0.0034968632072972876\n",
      "0.00043486933616205127\n"
     ]
    },
    {
     "name": "stderr",
     "output_type": "stream",
     "text": [
      "\r",
      "  1%|          | 119/20000 [17:53:27<3106:26:42, 562.51s/episode]"
     ]
    },
    {
     "name": "stdout",
     "output_type": "stream",
     "text": [
      "oldCorrelation 0.0022390200171850997\n",
      "NEW ENV\n",
      "nan\n",
      "-0.013370097360239835\n",
      "-0.018239163001205306\n",
      "0.029898927310836067\n",
      "0.041643251856975864\n",
      "0.062365332440020266\n",
      "0.05851345418584733\n",
      "0.0543086478006764\n",
      "0.046298981820207766\n",
      "0.048563545548457654\n",
      "0.04298401657198439\n",
      "0.040092632905004456\n",
      "0.04210812503198028\n",
      "0.04130346073765872\n",
      "0.038321928368272376\n",
      "0.035468125507012026\n",
      "0.03354420723794631\n",
      "oldCorrelation 0.031029679227951617\n",
      "INFO:tensorflow:Assets written to: models/256x2____-0.94max___-1.00avg___-1.06min__1605877305.model/assets\n"
     ]
    },
    {
     "name": "stderr",
     "output_type": "stream",
     "text": [
      "\r",
      "  1%|          | 120/20000 [18:03:51<3209:26:50, 581.19s/episode]"
     ]
    },
    {
     "name": "stdout",
     "output_type": "stream",
     "text": [
      "NEW ENV\n",
      "nan\n",
      "-0.010505555721156227\n",
      "-0.0316435028507196\n",
      "-0.006254646169334172\n",
      "0.001893347998710384\n",
      "-0.0011202935030272644\n",
      "-0.021675033215486934\n",
      "-0.01601820375472434\n",
      "-0.013402968233391196\n",
      "-0.015104980900157581\n",
      "-0.010515696146404921\n",
      "0.00037670026274405963\n",
      "-0.002867139375265995\n",
      "0.00036490199327127333\n",
      "0.006002289353846457\n",
      "-0.00236956179657389\n"
     ]
    },
    {
     "name": "stderr",
     "output_type": "stream",
     "text": [
      "\r",
      "  1%|          | 121/20000 [18:13:51<3240:04:01, 586.76s/episode]"
     ]
    },
    {
     "name": "stdout",
     "output_type": "stream",
     "text": [
      "oldCorrelation 0.005710895520119333\n",
      "NEW ENV\n",
      "nan\n",
      "0.04660133869406213\n",
      "-0.017320520491828483\n",
      "-0.030210224669244907\n",
      "-0.02431351970498048\n",
      "-0.024847328497222293\n",
      "-0.009838941197503405\n",
      "-0.016637124548010713\n",
      "-0.00794461302978084\n",
      "-0.016774226334767797\n",
      "-0.02142002264461689\n",
      "-0.02280505867869061\n",
      "-0.02963260606176183\n",
      "-0.02953624140567048\n",
      "-0.02760291455260034\n"
     ]
    },
    {
     "name": "stderr",
     "output_type": "stream",
     "text": [
      "\r",
      "  1%|          | 122/20000 [18:23:22<3212:48:14, 581.85s/episode]"
     ]
    },
    {
     "name": "stdout",
     "output_type": "stream",
     "text": [
      "oldCorrelation -0.0221837821559296\n",
      "NEW ENV\n",
      "nan\n",
      "0.051028649450614846\n",
      "-0.0006303663821613988\n",
      "0.011949404950328715\n",
      "0.02322156971210043\n",
      "0.028754580279494818\n",
      "0.02767763515670456\n",
      "0.02756765686744747\n",
      "0.014482451254768772\n",
      "0.015706506928490602\n",
      "0.00995010951506943\n",
      "0.005570029432983828\n"
     ]
    },
    {
     "name": "stderr",
     "output_type": "stream",
     "text": [
      "\r",
      "  1%|          | 123/20000 [18:30:33<2963:34:23, 536.74s/episode]"
     ]
    },
    {
     "name": "stdout",
     "output_type": "stream",
     "text": [
      "oldCorrelation 0.007694034562262624\n",
      "NEW ENV\n",
      "nan\n",
      "0.094348067053344\n",
      "-0.022304800170558314\n",
      "-0.022434586065159832\n",
      "-0.03449294046948624\n",
      "-0.03843684794745734\n",
      "-0.03982982165761132\n",
      "-0.03149723557074579\n",
      "-0.0363610093014241\n",
      "-0.0258839163694991\n",
      "-0.019047037494259116\n",
      "-0.014774799913036837\n",
      "-0.009179439283588832\n",
      "-0.015280293159900095\n",
      "-0.024995959459998312\n"
     ]
    },
    {
     "name": "stderr",
     "output_type": "stream",
     "text": [
      "\r",
      "  1%|          | 124/20000 [18:40:17<3041:57:14, 550.97s/episode]"
     ]
    },
    {
     "name": "stdout",
     "output_type": "stream",
     "text": [
      "oldCorrelation -0.02553758093379438\n",
      "NEW ENV\n",
      "nan\n",
      "-0.021299054539824575\n",
      "-0.04664549384620585\n",
      "-0.005087466575269577\n",
      "-0.01136760009696894\n",
      "-0.008288917579660073\n",
      "-0.001472018850455711\n",
      "0.007790762708628058\n",
      "0.003761015857041264\n",
      "0.012827501617496432\n",
      "0.020721826366871213\n",
      "0.02267744796752591\n",
      "0.016682090057617015\n",
      "0.014075621014923321\n",
      "0.0162800765712231\n",
      "0.01319861761337973\n"
     ]
    },
    {
     "name": "stderr",
     "output_type": "stream",
     "text": [
      "\r",
      "  1%|          | 125/20000 [18:50:10<3110:54:49, 563.49s/episode]"
     ]
    },
    {
     "name": "stdout",
     "output_type": "stream",
     "text": [
      "oldCorrelation 0.012797936251694507\n",
      "NEW ENV\n",
      "nan\n",
      "-0.13045992124421799\n",
      "-0.10194616415286023\n",
      "-0.06959682413205505\n",
      "-0.06416196113475438\n",
      "-0.048973765837281795\n",
      "-0.035608981763513306\n",
      "-0.024699868329407085\n",
      "-0.008929748924010236\n"
     ]
    },
    {
     "name": "stderr",
     "output_type": "stream",
     "text": [
      "\r",
      "  1%|          | 126/20000 [18:55:12<2677:30:30, 485.01s/episode]"
     ]
    },
    {
     "name": "stdout",
     "output_type": "stream",
     "text": [
      "oldCorrelation -0.011062780302111939\n",
      "NEW ENV\n",
      "nan\n",
      "0.11444413585390029\n",
      "0.049915476403101317\n",
      "0.004944518402111679\n",
      "0.005581020147954229\n",
      "-0.005200958979374181\n",
      "-0.006027720420899917\n",
      "0.002083103596093027\n",
      "-0.005081334369085915\n",
      "0.0013516240273929868\n",
      "-0.0029844139409545703\n",
      "-0.0004387221242223382\n",
      "-0.0002410365488308687\n",
      "-0.003341061518691126\n",
      "-0.0028604793872822123\n"
     ]
    },
    {
     "name": "stderr",
     "output_type": "stream",
     "text": [
      "\r",
      "  1%|          | 127/20000 [19:05:13<2870:24:38, 519.98s/episode]"
     ]
    },
    {
     "name": "stdout",
     "output_type": "stream",
     "text": [
      "oldCorrelation -0.005295708036799557\n",
      "NEW ENV\n",
      "nan\n",
      "-0.08970887896883405\n",
      "-0.038128675682927216\n",
      "-0.03559725396729917\n",
      "-0.04060040292321137\n",
      "-0.03672537782929435\n",
      "-0.04714736903566513\n",
      "-0.048380525390845815\n",
      "-0.03816111789038159\n",
      "-0.04167173216264202\n",
      "-0.03425392785538007\n",
      "-0.02703908397657494\n",
      "-0.024110363242047007\n",
      "-0.02378865370698699\n"
     ]
    },
    {
     "name": "stderr",
     "output_type": "stream",
     "text": [
      "\r",
      "  1%|          | 128/20000 [19:14:25<2921:57:26, 529.34s/episode]"
     ]
    },
    {
     "name": "stdout",
     "output_type": "stream",
     "text": [
      "oldCorrelation -0.022252238609442487\n",
      "NEW ENV\n",
      "nan\n",
      "0.009294148159607753\n",
      "-0.008594943705292866\n",
      "-0.01704972922390848\n",
      "-0.0016347861095768871\n",
      "0.0167706407826799\n",
      "0.010749857416436954\n",
      "-0.0005830341602870853\n"
     ]
    },
    {
     "name": "stderr",
     "output_type": "stream",
     "text": [
      "  1%|          | 128/20000 [19:19:56<3001:22:10, 543.73s/episode]\n"
     ]
    },
    {
     "ename": "KeyboardInterrupt",
     "evalue": "",
     "output_type": "error",
     "traceback": [
      "\u001b[0;31m---------------------------------------------------------------------------\u001b[0m",
      "\u001b[0;31mKeyboardInterrupt\u001b[0m                         Traceback (most recent call last)",
      "\u001b[0;32m<ipython-input-118-3bcc3e5c8648>\u001b[0m in \u001b[0;36m<module>\u001b[0;34m\u001b[0m\n\u001b[1;32m     10\u001b[0m     \u001b[0;32mwhile\u001b[0m \u001b[0;32mnot\u001b[0m \u001b[0mdone\u001b[0m\u001b[0;34m:\u001b[0m\u001b[0;34m\u001b[0m\u001b[0;34m\u001b[0m\u001b[0m\n\u001b[1;32m     11\u001b[0m         \u001b[0;32mif\u001b[0m \u001b[0mnp\u001b[0m\u001b[0;34m.\u001b[0m\u001b[0mrandom\u001b[0m\u001b[0;34m.\u001b[0m\u001b[0mrandom\u001b[0m\u001b[0;34m(\u001b[0m\u001b[0;34m)\u001b[0m \u001b[0;34m>\u001b[0m \u001b[0mepsilon\u001b[0m\u001b[0;34m:\u001b[0m\u001b[0;34m\u001b[0m\u001b[0;34m\u001b[0m\u001b[0m\n\u001b[0;32m---> 12\u001b[0;31m             \u001b[0maction\u001b[0m \u001b[0;34m=\u001b[0m \u001b[0mnp\u001b[0m\u001b[0;34m.\u001b[0m\u001b[0margmax\u001b[0m\u001b[0;34m(\u001b[0m\u001b[0magent\u001b[0m\u001b[0;34m.\u001b[0m\u001b[0mget_qs\u001b[0m\u001b[0;34m(\u001b[0m\u001b[0mcurrent_state\u001b[0m\u001b[0;34m)\u001b[0m\u001b[0;34m)\u001b[0m\u001b[0;34m\u001b[0m\u001b[0;34m\u001b[0m\u001b[0m\n\u001b[0m\u001b[1;32m     13\u001b[0m         \u001b[0;32melse\u001b[0m\u001b[0;34m:\u001b[0m\u001b[0;34m\u001b[0m\u001b[0;34m\u001b[0m\u001b[0m\n\u001b[1;32m     14\u001b[0m             \u001b[0maction\u001b[0m \u001b[0;34m=\u001b[0m \u001b[0mnp\u001b[0m\u001b[0;34m.\u001b[0m\u001b[0mrandom\u001b[0m\u001b[0;34m.\u001b[0m\u001b[0mrandint\u001b[0m\u001b[0;34m(\u001b[0m\u001b[0;36m0\u001b[0m\u001b[0;34m,\u001b[0m \u001b[0menv\u001b[0m\u001b[0;34m.\u001b[0m\u001b[0mACTION_SPACE_SIZE\u001b[0m\u001b[0;34m)\u001b[0m\u001b[0;34m\u001b[0m\u001b[0;34m\u001b[0m\u001b[0m\n",
      "\u001b[0;32m<ipython-input-117-e5785a27dcd9>\u001b[0m in \u001b[0;36mget_qs\u001b[0;34m(self, state)\u001b[0m\n\u001b[1;32m     79\u001b[0m \u001b[0;34m\u001b[0m\u001b[0m\n\u001b[1;32m     80\u001b[0m     \u001b[0;32mdef\u001b[0m \u001b[0mget_qs\u001b[0m\u001b[0;34m(\u001b[0m\u001b[0mself\u001b[0m\u001b[0;34m,\u001b[0m \u001b[0mstate\u001b[0m\u001b[0;34m)\u001b[0m\u001b[0;34m:\u001b[0m\u001b[0;34m\u001b[0m\u001b[0;34m\u001b[0m\u001b[0m\n\u001b[0;32m---> 81\u001b[0;31m         \u001b[0;32mreturn\u001b[0m \u001b[0mself\u001b[0m\u001b[0;34m.\u001b[0m\u001b[0mmodel\u001b[0m\u001b[0;34m.\u001b[0m\u001b[0mpredict\u001b[0m\u001b[0;34m(\u001b[0m\u001b[0mnp\u001b[0m\u001b[0;34m.\u001b[0m\u001b[0marray\u001b[0m\u001b[0;34m(\u001b[0m\u001b[0mstate\u001b[0m\u001b[0;34m)\u001b[0m\u001b[0;34m.\u001b[0m\u001b[0mreshape\u001b[0m\u001b[0;34m(\u001b[0m\u001b[0;34m-\u001b[0m\u001b[0;36m1\u001b[0m\u001b[0;34m,\u001b[0m \u001b[0;34m*\u001b[0m\u001b[0mstate\u001b[0m\u001b[0;34m.\u001b[0m\u001b[0mshape\u001b[0m\u001b[0;34m)\u001b[0m\u001b[0;34m/\u001b[0m\u001b[0;36m1\u001b[0m\u001b[0;34m)\u001b[0m\u001b[0;34m[\u001b[0m\u001b[0;36m0\u001b[0m\u001b[0;34m]\u001b[0m\u001b[0;34m\u001b[0m\u001b[0;34m\u001b[0m\u001b[0m\n\u001b[0m\u001b[1;32m     82\u001b[0m \u001b[0;34m\u001b[0m\u001b[0m\n\u001b[1;32m     83\u001b[0m     \u001b[0;32mdef\u001b[0m \u001b[0mtrain\u001b[0m\u001b[0;34m(\u001b[0m\u001b[0mself\u001b[0m\u001b[0;34m,\u001b[0m \u001b[0mterminal_state\u001b[0m\u001b[0;34m,\u001b[0m \u001b[0mstep\u001b[0m\u001b[0;34m)\u001b[0m\u001b[0;34m:\u001b[0m\u001b[0;34m\u001b[0m\u001b[0;34m\u001b[0m\u001b[0m\n",
      "\u001b[0;32m~/Desktop/git/numerai/venv/lib/python3.7/site-packages/tensorflow/python/keras/engine/training.py\u001b[0m in \u001b[0;36m_method_wrapper\u001b[0;34m(self, *args, **kwargs)\u001b[0m\n\u001b[1;32m    128\u001b[0m       raise ValueError('{} is not supported in multi-worker mode.'.format(\n\u001b[1;32m    129\u001b[0m           method.__name__))\n\u001b[0;32m--> 130\u001b[0;31m     \u001b[0;32mreturn\u001b[0m \u001b[0mmethod\u001b[0m\u001b[0;34m(\u001b[0m\u001b[0mself\u001b[0m\u001b[0;34m,\u001b[0m \u001b[0;34m*\u001b[0m\u001b[0margs\u001b[0m\u001b[0;34m,\u001b[0m \u001b[0;34m**\u001b[0m\u001b[0mkwargs\u001b[0m\u001b[0;34m)\u001b[0m\u001b[0;34m\u001b[0m\u001b[0;34m\u001b[0m\u001b[0m\n\u001b[0m\u001b[1;32m    131\u001b[0m \u001b[0;34m\u001b[0m\u001b[0m\n\u001b[1;32m    132\u001b[0m   return tf_decorator.make_decorator(\n",
      "\u001b[0;32m~/Desktop/git/numerai/venv/lib/python3.7/site-packages/tensorflow/python/keras/engine/training.py\u001b[0m in \u001b[0;36mpredict\u001b[0;34m(self, x, batch_size, verbose, steps, callbacks, max_queue_size, workers, use_multiprocessing)\u001b[0m\n\u001b[1;32m   1593\u001b[0m       \u001b[0mself\u001b[0m\u001b[0;34m.\u001b[0m\u001b[0m_predict_counter\u001b[0m\u001b[0;34m.\u001b[0m\u001b[0massign\u001b[0m\u001b[0;34m(\u001b[0m\u001b[0;36m0\u001b[0m\u001b[0;34m)\u001b[0m\u001b[0;34m\u001b[0m\u001b[0;34m\u001b[0m\u001b[0m\n\u001b[1;32m   1594\u001b[0m       \u001b[0mcallbacks\u001b[0m\u001b[0;34m.\u001b[0m\u001b[0mon_predict_begin\u001b[0m\u001b[0;34m(\u001b[0m\u001b[0;34m)\u001b[0m\u001b[0;34m\u001b[0m\u001b[0;34m\u001b[0m\u001b[0m\n\u001b[0;32m-> 1595\u001b[0;31m       \u001b[0;32mfor\u001b[0m \u001b[0m_\u001b[0m\u001b[0;34m,\u001b[0m \u001b[0miterator\u001b[0m \u001b[0;32min\u001b[0m \u001b[0mdata_handler\u001b[0m\u001b[0;34m.\u001b[0m\u001b[0menumerate_epochs\u001b[0m\u001b[0;34m(\u001b[0m\u001b[0;34m)\u001b[0m\u001b[0;34m:\u001b[0m  \u001b[0;31m# Single epoch.\u001b[0m\u001b[0;34m\u001b[0m\u001b[0;34m\u001b[0m\u001b[0m\n\u001b[0m\u001b[1;32m   1596\u001b[0m         \u001b[0;32mwith\u001b[0m \u001b[0mdata_handler\u001b[0m\u001b[0;34m.\u001b[0m\u001b[0mcatch_stop_iteration\u001b[0m\u001b[0;34m(\u001b[0m\u001b[0;34m)\u001b[0m\u001b[0;34m:\u001b[0m\u001b[0;34m\u001b[0m\u001b[0;34m\u001b[0m\u001b[0m\n\u001b[1;32m   1597\u001b[0m           \u001b[0;32mfor\u001b[0m \u001b[0mstep\u001b[0m \u001b[0;32min\u001b[0m \u001b[0mdata_handler\u001b[0m\u001b[0;34m.\u001b[0m\u001b[0msteps\u001b[0m\u001b[0;34m(\u001b[0m\u001b[0;34m)\u001b[0m\u001b[0;34m:\u001b[0m\u001b[0;34m\u001b[0m\u001b[0;34m\u001b[0m\u001b[0m\n",
      "\u001b[0;32m~/Desktop/git/numerai/venv/lib/python3.7/site-packages/tensorflow/python/keras/engine/data_adapter.py\u001b[0m in \u001b[0;36menumerate_epochs\u001b[0;34m(self)\u001b[0m\n\u001b[1;32m   1136\u001b[0m     \u001b[0;34m\"\"\"Yields `(epoch, tf.data.Iterator)`.\"\"\"\u001b[0m\u001b[0;34m\u001b[0m\u001b[0;34m\u001b[0m\u001b[0m\n\u001b[1;32m   1137\u001b[0m     \u001b[0;32mwith\u001b[0m \u001b[0mself\u001b[0m\u001b[0;34m.\u001b[0m\u001b[0m_truncate_execution_to_epoch\u001b[0m\u001b[0;34m(\u001b[0m\u001b[0;34m)\u001b[0m\u001b[0;34m:\u001b[0m\u001b[0;34m\u001b[0m\u001b[0;34m\u001b[0m\u001b[0m\n\u001b[0;32m-> 1138\u001b[0;31m       \u001b[0mdata_iterator\u001b[0m \u001b[0;34m=\u001b[0m \u001b[0miter\u001b[0m\u001b[0;34m(\u001b[0m\u001b[0mself\u001b[0m\u001b[0;34m.\u001b[0m\u001b[0m_dataset\u001b[0m\u001b[0;34m)\u001b[0m\u001b[0;34m\u001b[0m\u001b[0;34m\u001b[0m\u001b[0m\n\u001b[0m\u001b[1;32m   1139\u001b[0m       \u001b[0;32mfor\u001b[0m \u001b[0mepoch\u001b[0m \u001b[0;32min\u001b[0m \u001b[0mrange\u001b[0m\u001b[0;34m(\u001b[0m\u001b[0mself\u001b[0m\u001b[0;34m.\u001b[0m\u001b[0m_initial_epoch\u001b[0m\u001b[0;34m,\u001b[0m \u001b[0mself\u001b[0m\u001b[0;34m.\u001b[0m\u001b[0m_epochs\u001b[0m\u001b[0;34m)\u001b[0m\u001b[0;34m:\u001b[0m\u001b[0;34m\u001b[0m\u001b[0;34m\u001b[0m\u001b[0m\n\u001b[1;32m   1140\u001b[0m         \u001b[0;32mif\u001b[0m \u001b[0mself\u001b[0m\u001b[0;34m.\u001b[0m\u001b[0m_insufficient_data\u001b[0m\u001b[0;34m:\u001b[0m  \u001b[0;31m# Set by `catch_stop_iteration`.\u001b[0m\u001b[0;34m\u001b[0m\u001b[0;34m\u001b[0m\u001b[0m\n",
      "\u001b[0;32m~/Desktop/git/numerai/venv/lib/python3.7/site-packages/tensorflow/python/data/ops/dataset_ops.py\u001b[0m in \u001b[0;36m__iter__\u001b[0;34m(self)\u001b[0m\n\u001b[1;32m    413\u001b[0m     \"\"\"\n\u001b[1;32m    414\u001b[0m     \u001b[0;32mif\u001b[0m \u001b[0mcontext\u001b[0m\u001b[0;34m.\u001b[0m\u001b[0mexecuting_eagerly\u001b[0m\u001b[0;34m(\u001b[0m\u001b[0;34m)\u001b[0m \u001b[0;32mor\u001b[0m \u001b[0mops\u001b[0m\u001b[0;34m.\u001b[0m\u001b[0minside_function\u001b[0m\u001b[0;34m(\u001b[0m\u001b[0;34m)\u001b[0m\u001b[0;34m:\u001b[0m\u001b[0;34m\u001b[0m\u001b[0;34m\u001b[0m\u001b[0m\n\u001b[0;32m--> 415\u001b[0;31m       \u001b[0;32mreturn\u001b[0m \u001b[0miterator_ops\u001b[0m\u001b[0;34m.\u001b[0m\u001b[0mOwnedIterator\u001b[0m\u001b[0;34m(\u001b[0m\u001b[0mself\u001b[0m\u001b[0;34m)\u001b[0m\u001b[0;34m\u001b[0m\u001b[0;34m\u001b[0m\u001b[0m\n\u001b[0m\u001b[1;32m    416\u001b[0m     \u001b[0;32melse\u001b[0m\u001b[0;34m:\u001b[0m\u001b[0;34m\u001b[0m\u001b[0;34m\u001b[0m\u001b[0m\n\u001b[1;32m    417\u001b[0m       raise RuntimeError(\"__iter__() is only supported inside of tf.function \"\n",
      "\u001b[0;32m~/Desktop/git/numerai/venv/lib/python3.7/site-packages/tensorflow/python/data/ops/iterator_ops.py\u001b[0m in \u001b[0;36m__init__\u001b[0;34m(self, dataset, components, element_spec, job_token)\u001b[0m\n\u001b[1;32m    694\u001b[0m           context.context().device_spec.device_type != \"CPU\"):\n\u001b[1;32m    695\u001b[0m         \u001b[0;32mwith\u001b[0m \u001b[0mops\u001b[0m\u001b[0;34m.\u001b[0m\u001b[0mdevice\u001b[0m\u001b[0;34m(\u001b[0m\u001b[0;34m\"/cpu:0\"\u001b[0m\u001b[0;34m)\u001b[0m\u001b[0;34m:\u001b[0m\u001b[0;34m\u001b[0m\u001b[0;34m\u001b[0m\u001b[0m\n\u001b[0;32m--> 696\u001b[0;31m           \u001b[0mself\u001b[0m\u001b[0;34m.\u001b[0m\u001b[0m_create_iterator\u001b[0m\u001b[0;34m(\u001b[0m\u001b[0mdataset\u001b[0m\u001b[0;34m)\u001b[0m\u001b[0;34m\u001b[0m\u001b[0;34m\u001b[0m\u001b[0m\n\u001b[0m\u001b[1;32m    697\u001b[0m       \u001b[0;32melse\u001b[0m\u001b[0;34m:\u001b[0m\u001b[0;34m\u001b[0m\u001b[0;34m\u001b[0m\u001b[0m\n\u001b[1;32m    698\u001b[0m         \u001b[0mself\u001b[0m\u001b[0;34m.\u001b[0m\u001b[0m_create_iterator\u001b[0m\u001b[0;34m(\u001b[0m\u001b[0mdataset\u001b[0m\u001b[0;34m)\u001b[0m\u001b[0;34m\u001b[0m\u001b[0;34m\u001b[0m\u001b[0m\n",
      "\u001b[0;32m~/Desktop/git/numerai/venv/lib/python3.7/site-packages/tensorflow/python/data/ops/iterator_ops.py\u001b[0m in \u001b[0;36m_create_iterator\u001b[0;34m(self, dataset)\u001b[0m\n\u001b[1;32m    720\u001b[0m               output_shapes=self._flat_output_shapes))\n\u001b[1;32m    721\u001b[0m       \u001b[0;32mif\u001b[0m \u001b[0mself\u001b[0m\u001b[0;34m.\u001b[0m\u001b[0m_job_token\u001b[0m \u001b[0;32mis\u001b[0m \u001b[0;32mNone\u001b[0m\u001b[0;34m:\u001b[0m\u001b[0;34m\u001b[0m\u001b[0;34m\u001b[0m\u001b[0m\n\u001b[0;32m--> 722\u001b[0;31m         \u001b[0mgen_dataset_ops\u001b[0m\u001b[0;34m.\u001b[0m\u001b[0mmake_iterator\u001b[0m\u001b[0;34m(\u001b[0m\u001b[0mds_variant\u001b[0m\u001b[0;34m,\u001b[0m \u001b[0mself\u001b[0m\u001b[0;34m.\u001b[0m\u001b[0m_iterator_resource\u001b[0m\u001b[0;34m)\u001b[0m\u001b[0;34m\u001b[0m\u001b[0;34m\u001b[0m\u001b[0m\n\u001b[0m\u001b[1;32m    723\u001b[0m       \u001b[0;32melse\u001b[0m\u001b[0;34m:\u001b[0m\u001b[0;34m\u001b[0m\u001b[0;34m\u001b[0m\u001b[0m\n\u001b[1;32m    724\u001b[0m         gen_experimental_dataset_ops.make_data_service_iterator(\n",
      "\u001b[0;32m~/Desktop/git/numerai/venv/lib/python3.7/site-packages/tensorflow/python/ops/gen_dataset_ops.py\u001b[0m in \u001b[0;36mmake_iterator\u001b[0;34m(dataset, iterator, name)\u001b[0m\n\u001b[1;32m   3005\u001b[0m       _result = pywrap_tfe.TFE_Py_FastPathExecute(\n\u001b[1;32m   3006\u001b[0m         \u001b[0m_ctx\u001b[0m\u001b[0;34m.\u001b[0m\u001b[0m_context_handle\u001b[0m\u001b[0;34m,\u001b[0m \u001b[0mtld\u001b[0m\u001b[0;34m.\u001b[0m\u001b[0mdevice_name\u001b[0m\u001b[0;34m,\u001b[0m \u001b[0;34m\"MakeIterator\"\u001b[0m\u001b[0;34m,\u001b[0m \u001b[0mname\u001b[0m\u001b[0;34m,\u001b[0m\u001b[0;34m\u001b[0m\u001b[0;34m\u001b[0m\u001b[0m\n\u001b[0;32m-> 3007\u001b[0;31m         tld.op_callbacks, dataset, iterator)\n\u001b[0m\u001b[1;32m   3008\u001b[0m       \u001b[0;32mreturn\u001b[0m \u001b[0m_result\u001b[0m\u001b[0;34m\u001b[0m\u001b[0;34m\u001b[0m\u001b[0m\n\u001b[1;32m   3009\u001b[0m     \u001b[0;32mexcept\u001b[0m \u001b[0m_core\u001b[0m\u001b[0;34m.\u001b[0m\u001b[0m_NotOkStatusException\u001b[0m \u001b[0;32mas\u001b[0m \u001b[0me\u001b[0m\u001b[0;34m:\u001b[0m\u001b[0;34m\u001b[0m\u001b[0;34m\u001b[0m\u001b[0m\n",
      "\u001b[0;31mKeyboardInterrupt\u001b[0m: "
     ]
    }
   ],
   "source": [
    "agent = DQNAgent()\n",
    "\n",
    "for episode in tqdm(range(1, EPISODES+1), ascii=True, unit=\"episode\"):\n",
    "    agent.tensorboard.step = episode\n",
    "    episode_reward = 0\n",
    "    step = 1\n",
    "    current_state = env.reset() \n",
    "    done = False\n",
    "    print(\"NEW ENV\")\n",
    "    while not done:\n",
    "        if np.random.random() > epsilon:\n",
    "            action = np.argmax(agent.get_qs(current_state))\n",
    "        else:\n",
    "            action = np.random.randint(0, env.ACTION_SPACE_SIZE)\n",
    "            \n",
    "        new_state, reward, done = env.step(action)\n",
    "        \n",
    "        episode_reward += reward\n",
    "        \n",
    "        agent.update_replay_memory((current_state, action, reward, new_state, done))\n",
    "        agent.train(done, step)\n",
    "        current_state = new_state\n",
    "        step += 1\n",
    "        \n",
    "    ep_rewards.append(episode_reward)\n",
    "    \n",
    "    if not episode % AGGREGATE_STATS_EVERY or episode ==1:\n",
    "        average_reward = sum(ep_rewards[-AGGREGATE_STATS_EVERY:])/len(ep_rewards[-AGGREGATE_STATS_EVERY:])\n",
    "        min_reward = min(ep_rewards[-AGGREGATE_STATS_EVERY:])\n",
    "        max_reward = max(ep_rewards[-AGGREGATE_STATS_EVERY:])\n",
    "        # agent.tensorboard.update_stats(reward_avg=average_reward, reward_min=min_reward, reward_max=max_reward, epsilon=epsilon)\n",
    "        if min_reward >=MIN_REWARD:\n",
    "            agent.model.save(f'models/{MODEL_NAME}__{max_reward:_>7.2f}max_{average_reward:_>7.2f}avg_{min_reward:_>7.2f}min__{int(time.time())}.model')\n",
    "    # Decay epsilon\n",
    "    if epsilon > MIN_EPSILON:\n",
    "        epsilon *= EPSILON_DECAY\n",
    "        epsilon = max(MIN_EPSILON, epsilon)"
   ]
  },
  {
   "cell_type": "code",
   "execution_count": null,
   "metadata": {},
   "outputs": [],
   "source": []
  },
  {
   "cell_type": "code",
   "execution_count": null,
   "metadata": {},
   "outputs": [],
   "source": []
  },
  {
   "cell_type": "code",
   "execution_count": null,
   "metadata": {},
   "outputs": [],
   "source": []
  },
  {
   "cell_type": "code",
   "execution_count": null,
   "metadata": {},
   "outputs": [],
   "source": []
  },
  {
   "cell_type": "code",
   "execution_count": null,
   "metadata": {},
   "outputs": [],
   "source": []
  },
  {
   "cell_type": "code",
   "execution_count": null,
   "metadata": {},
   "outputs": [],
   "source": []
  },
  {
   "cell_type": "code",
   "execution_count": null,
   "metadata": {},
   "outputs": [],
   "source": []
  },
  {
   "cell_type": "code",
   "execution_count": null,
   "metadata": {},
   "outputs": [],
   "source": []
  }
 ],
 "metadata": {
  "kernelspec": {
   "display_name": "Python 3",
   "language": "python",
   "name": "python3"
  },
  "language_info": {
   "codemirror_mode": {
    "name": "ipython",
    "version": 3
   },
   "file_extension": ".py",
   "mimetype": "text/x-python",
   "name": "python",
   "nbconvert_exporter": "python",
   "pygments_lexer": "ipython3",
   "version": "3.7.5"
  }
 },
 "nbformat": 4,
 "nbformat_minor": 4
}
